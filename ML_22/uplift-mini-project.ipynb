{
 "cells": [
  {
   "cell_type": "raw",
   "metadata": {},
   "source": [
    "ПОСТАНОВКА ЗАДАЧИ\n",
    "\n",
    "Подобрать оптимальный алгоритм для оценки аплифт-эффекта от рекламных предложений. Наш клиент — французское рекламное агентство criteo. Оно предоставило нам данные о показах рекламы и отклике пользователей на рекламные предложения. Нужно подобрать модель для показа рекламных предложений пользователям. Описание датасета здесь.\n",
    "\n",
    "\n",
    "Подзадачи\n",
    "Построить валидационный датасет. \n",
    "Построить S-learner. Оценить качество с помощью qini curve.\n",
    "Построитьн T-learner. Оценить качество с помощью qini curve.\n",
    "Построить X-learner. Оценить качество с помощью qini curve.\n",
    "Построить R-learner. Оценить качество с помощью qini curve.\n",
    "Построить UpliftRandomForest. Оценено качество с помощью qini curve.\n",
    "Сделан вывод о том, какие модели лучше использовать в этом бизнес-кейсе."
   ]
  },
  {
   "cell_type": "code",
   "execution_count": 2,
   "metadata": {
    "execution": {
     "iopub.execute_input": "2022-07-25T11:58:51.562772Z",
     "iopub.status.busy": "2022-07-25T11:58:51.562341Z",
     "iopub.status.idle": "2022-07-25T11:58:58.347627Z",
     "shell.execute_reply": "2022-07-25T11:58:58.346741Z"
    },
    "papermill": {
     "duration": 6.802249,
     "end_time": "2022-07-25T11:58:58.350031",
     "exception": false,
     "start_time": "2022-07-25T11:58:51.547782",
     "status": "completed"
    },
    "tags": []
   },
   "outputs": [
    {
     "data": {
      "text/html": [
       "<style type='text/css'>\n",
       ".datatable table.frame { margin-bottom: 0; }\n",
       ".datatable table.frame thead { border-bottom: none; }\n",
       ".datatable table.frame tr.coltypes td {  color: #FFFFFF;  line-height: 6px;  padding: 0 0.5em;}\n",
       ".datatable .bool    { background: #DDDD99; }\n",
       ".datatable .object  { background: #565656; }\n",
       ".datatable .int     { background: #5D9E5D; }\n",
       ".datatable .float   { background: #4040CC; }\n",
       ".datatable .str     { background: #CC4040; }\n",
       ".datatable .time    { background: #40CC40; }\n",
       ".datatable .row_index {  background: var(--jp-border-color3);  border-right: 1px solid var(--jp-border-color0);  color: var(--jp-ui-font-color3);  font-size: 9px;}\n",
       ".datatable .frame tbody td { text-align: left; }\n",
       ".datatable .frame tr.coltypes .row_index {  background: var(--jp-border-color0);}\n",
       ".datatable th:nth-child(2) { padding-left: 12px; }\n",
       ".datatable .hellipsis {  color: var(--jp-cell-editor-border-color);}\n",
       ".datatable .vellipsis {  background: var(--jp-layout-color0);  color: var(--jp-cell-editor-border-color);}\n",
       ".datatable .na {  color: var(--jp-cell-editor-border-color);  font-size: 80%;}\n",
       ".datatable .sp {  opacity: 0.25;}\n",
       ".datatable .footer { font-size: 9px; }\n",
       ".datatable .frame_dimensions {  background: var(--jp-border-color3);  border-top: 1px solid var(--jp-border-color0);  color: var(--jp-ui-font-color3);  display: inline-block;  opacity: 0.6;  padding: 1px 10px 1px 5px;}\n",
       "</style>\n"
      ],
      "text/plain": [
       "<IPython.core.display.HTML object>"
      ]
     },
     "metadata": {},
     "output_type": "display_data"
    }
   ],
   "source": [
    "import numpy as np \n",
    "import pandas as pd \n",
    "import matplotlib.pyplot as plt\n",
    "import seaborn as sns\n",
    "\n",
    "from causalml.inference.meta import BaseSClassifier, BaseTClassifier\n",
    "from causalml.inference.meta import BaseXClassifier, BaseRClassifier\n",
    "from causalml.inference.tree import UpliftTreeClassifier, UpliftRandomForestClassifier\n",
    "from sklearn.linear_model import LogisticRegression, LinearRegression\n",
    "from catboost import CatBoostClassifier\n",
    "from sklearn.preprocessing import MinMaxScaler\n",
    "# import GradientBoostingClassifier, GradientBoostingRegressor"
   ]
  },
  {
   "cell_type": "code",
   "execution_count": 3,
   "metadata": {
    "application/vnd.databricks.v1+cell": {
     "inputWidgets": {},
     "nuid": "74606995-9d23-457d-be51-3506a2cded87",
     "showTitle": false,
     "title": ""
    },
    "execution": {
     "iopub.execute_input": "2022-07-25T11:58:58.379375Z",
     "iopub.status.busy": "2022-07-25T11:58:58.378786Z",
     "iopub.status.idle": "2022-07-25T11:58:58.385282Z",
     "shell.execute_reply": "2022-07-25T11:58:58.384468Z"
    },
    "papermill": {
     "duration": 0.023797,
     "end_time": "2022-07-25T11:58:58.387365",
     "exception": false,
     "start_time": "2022-07-25T11:58:58.363568",
     "status": "completed"
    },
    "tags": []
   },
   "outputs": [],
   "source": [
    "%matplotlib inline"
   ]
  },
  {
   "cell_type": "code",
   "execution_count": 4,
   "metadata": {
    "application/vnd.databricks.v1+cell": {
     "inputWidgets": {},
     "nuid": "d5cc5493-ddbf-474d-975d-90062d9cadc4",
     "showTitle": false,
     "title": ""
    },
    "execution": {
     "iopub.execute_input": "2022-07-25T11:58:58.416288Z",
     "iopub.status.busy": "2022-07-25T11:58:58.415619Z",
     "iopub.status.idle": "2022-07-25T11:59:57.498333Z",
     "shell.execute_reply": "2022-07-25T11:59:57.497182Z"
    },
    "papermill": {
     "duration": 59.114945,
     "end_time": "2022-07-25T11:59:57.515856",
     "exception": false,
     "start_time": "2022-07-25T11:58:58.400911",
     "status": "completed"
    },
    "tags": []
   },
   "outputs": [
    {
     "name": "stdout",
     "output_type": "stream",
     "text": [
      "(13979592, 16)\n",
      "treatment distribition:\n",
      "1    0.85\n",
      "0    0.15\n",
      "Name: treatment, dtype: float64\n"
     ]
    },
    {
     "data": {
      "text/html": [
       "<div>\n",
       "<style scoped>\n",
       "    .dataframe tbody tr th:only-of-type {\n",
       "        vertical-align: middle;\n",
       "    }\n",
       "\n",
       "    .dataframe tbody tr th {\n",
       "        vertical-align: top;\n",
       "    }\n",
       "\n",
       "    .dataframe thead th {\n",
       "        text-align: right;\n",
       "    }\n",
       "</style>\n",
       "<table border=\"1\" class=\"dataframe\">\n",
       "  <thead>\n",
       "    <tr style=\"text-align: right;\">\n",
       "      <th></th>\n",
       "      <th>f0</th>\n",
       "      <th>f1</th>\n",
       "      <th>f2</th>\n",
       "      <th>f3</th>\n",
       "      <th>f4</th>\n",
       "      <th>f5</th>\n",
       "      <th>f6</th>\n",
       "      <th>f7</th>\n",
       "      <th>f8</th>\n",
       "      <th>f9</th>\n",
       "      <th>f10</th>\n",
       "      <th>f11</th>\n",
       "      <th>treatment</th>\n",
       "      <th>conversion</th>\n",
       "      <th>visit</th>\n",
       "      <th>exposure</th>\n",
       "    </tr>\n",
       "  </thead>\n",
       "  <tbody>\n",
       "    <tr>\n",
       "      <th>0</th>\n",
       "      <td>12.616365</td>\n",
       "      <td>10.059654</td>\n",
       "      <td>8.976429</td>\n",
       "      <td>4.679882</td>\n",
       "      <td>10.280525</td>\n",
       "      <td>4.115453</td>\n",
       "      <td>0.294443</td>\n",
       "      <td>4.833815</td>\n",
       "      <td>3.955396</td>\n",
       "      <td>13.190056</td>\n",
       "      <td>5.300375</td>\n",
       "      <td>-0.168679</td>\n",
       "      <td>1</td>\n",
       "      <td>0</td>\n",
       "      <td>0</td>\n",
       "      <td>0</td>\n",
       "    </tr>\n",
       "    <tr>\n",
       "      <th>1</th>\n",
       "      <td>12.616365</td>\n",
       "      <td>10.059654</td>\n",
       "      <td>9.002689</td>\n",
       "      <td>4.679882</td>\n",
       "      <td>10.280525</td>\n",
       "      <td>4.115453</td>\n",
       "      <td>0.294443</td>\n",
       "      <td>4.833815</td>\n",
       "      <td>3.955396</td>\n",
       "      <td>13.190056</td>\n",
       "      <td>5.300375</td>\n",
       "      <td>-0.168679</td>\n",
       "      <td>1</td>\n",
       "      <td>0</td>\n",
       "      <td>0</td>\n",
       "      <td>0</td>\n",
       "    </tr>\n",
       "    <tr>\n",
       "      <th>2</th>\n",
       "      <td>12.616365</td>\n",
       "      <td>10.059654</td>\n",
       "      <td>8.964775</td>\n",
       "      <td>4.679882</td>\n",
       "      <td>10.280525</td>\n",
       "      <td>4.115453</td>\n",
       "      <td>0.294443</td>\n",
       "      <td>4.833815</td>\n",
       "      <td>3.955396</td>\n",
       "      <td>13.190056</td>\n",
       "      <td>5.300375</td>\n",
       "      <td>-0.168679</td>\n",
       "      <td>1</td>\n",
       "      <td>0</td>\n",
       "      <td>0</td>\n",
       "      <td>0</td>\n",
       "    </tr>\n",
       "    <tr>\n",
       "      <th>3</th>\n",
       "      <td>12.616365</td>\n",
       "      <td>10.059654</td>\n",
       "      <td>9.002801</td>\n",
       "      <td>4.679882</td>\n",
       "      <td>10.280525</td>\n",
       "      <td>4.115453</td>\n",
       "      <td>0.294443</td>\n",
       "      <td>4.833815</td>\n",
       "      <td>3.955396</td>\n",
       "      <td>13.190056</td>\n",
       "      <td>5.300375</td>\n",
       "      <td>-0.168679</td>\n",
       "      <td>1</td>\n",
       "      <td>0</td>\n",
       "      <td>0</td>\n",
       "      <td>0</td>\n",
       "    </tr>\n",
       "    <tr>\n",
       "      <th>4</th>\n",
       "      <td>12.616365</td>\n",
       "      <td>10.059654</td>\n",
       "      <td>9.037999</td>\n",
       "      <td>4.679882</td>\n",
       "      <td>10.280525</td>\n",
       "      <td>4.115453</td>\n",
       "      <td>0.294443</td>\n",
       "      <td>4.833815</td>\n",
       "      <td>3.955396</td>\n",
       "      <td>13.190056</td>\n",
       "      <td>5.300375</td>\n",
       "      <td>-0.168679</td>\n",
       "      <td>1</td>\n",
       "      <td>0</td>\n",
       "      <td>0</td>\n",
       "      <td>0</td>\n",
       "    </tr>\n",
       "  </tbody>\n",
       "</table>\n",
       "</div>"
      ],
      "text/plain": [
       "          f0         f1        f2        f3         f4        f5        f6  \\\n",
       "0  12.616365  10.059654  8.976429  4.679882  10.280525  4.115453  0.294443   \n",
       "1  12.616365  10.059654  9.002689  4.679882  10.280525  4.115453  0.294443   \n",
       "2  12.616365  10.059654  8.964775  4.679882  10.280525  4.115453  0.294443   \n",
       "3  12.616365  10.059654  9.002801  4.679882  10.280525  4.115453  0.294443   \n",
       "4  12.616365  10.059654  9.037999  4.679882  10.280525  4.115453  0.294443   \n",
       "\n",
       "         f7        f8         f9       f10       f11  treatment  conversion  \\\n",
       "0  4.833815  3.955396  13.190056  5.300375 -0.168679          1           0   \n",
       "1  4.833815  3.955396  13.190056  5.300375 -0.168679          1           0   \n",
       "2  4.833815  3.955396  13.190056  5.300375 -0.168679          1           0   \n",
       "3  4.833815  3.955396  13.190056  5.300375 -0.168679          1           0   \n",
       "4  4.833815  3.955396  13.190056  5.300375 -0.168679          1           0   \n",
       "\n",
       "   visit  exposure  \n",
       "0      0         0  \n",
       "1      0         0  \n",
       "2      0         0  \n",
       "3      0         0  \n",
       "4      0         0  "
      ]
     },
     "execution_count": 4,
     "metadata": {},
     "output_type": "execute_result"
    }
   ],
   "source": [
    "df = pd.read_csv('criteo-uplift-v2.1.csv')\n",
    "print(df.shape)\n",
    "print('treatment distribition:')\n",
    "print(str(df.treatment.value_counts(normalize=True)))\n",
    "df.head()"
   ]
  },
  {
   "cell_type": "code",
   "execution_count": 5,
   "metadata": {
    "application/vnd.databricks.v1+cell": {
     "inputWidgets": {},
     "nuid": "327fdcd6-d840-4d0d-b96c-e3fa89e5b58a",
     "showTitle": false,
     "title": ""
    },
    "execution": {
     "iopub.execute_input": "2022-07-25T11:59:57.544927Z",
     "iopub.status.busy": "2022-07-25T11:59:57.544532Z",
     "iopub.status.idle": "2022-07-25T11:59:58.207294Z",
     "shell.execute_reply": "2022-07-25T11:59:58.206265Z"
    },
    "papermill": {
     "duration": 0.68005,
     "end_time": "2022-07-25T11:59:58.209556",
     "exception": false,
     "start_time": "2022-07-25T11:59:57.529506",
     "status": "completed"
    },
    "tags": []
   },
   "outputs": [
    {
     "data": {
      "text/html": [
       "<div>\n",
       "<style scoped>\n",
       "    .dataframe tbody tr th:only-of-type {\n",
       "        vertical-align: middle;\n",
       "    }\n",
       "\n",
       "    .dataframe tbody tr th {\n",
       "        vertical-align: top;\n",
       "    }\n",
       "\n",
       "    .dataframe thead tr th {\n",
       "        text-align: left;\n",
       "    }\n",
       "\n",
       "    .dataframe thead tr:last-of-type th {\n",
       "        text-align: right;\n",
       "    }\n",
       "</style>\n",
       "<table border=\"1\" class=\"dataframe\">\n",
       "  <thead>\n",
       "    <tr>\n",
       "      <th></th>\n",
       "      <th></th>\n",
       "      <th>visit</th>\n",
       "    </tr>\n",
       "    <tr>\n",
       "      <th></th>\n",
       "      <th></th>\n",
       "      <th>count</th>\n",
       "    </tr>\n",
       "    <tr>\n",
       "      <th>treatment</th>\n",
       "      <th>visit</th>\n",
       "      <th></th>\n",
       "    </tr>\n",
       "  </thead>\n",
       "  <tbody>\n",
       "    <tr>\n",
       "      <th rowspan=\"2\" valign=\"top\">0</th>\n",
       "      <th>0</th>\n",
       "      <td>2016832</td>\n",
       "    </tr>\n",
       "    <tr>\n",
       "      <th>1</th>\n",
       "      <td>80105</td>\n",
       "    </tr>\n",
       "    <tr>\n",
       "      <th rowspan=\"2\" valign=\"top\">1</th>\n",
       "      <th>0</th>\n",
       "      <td>11305831</td>\n",
       "    </tr>\n",
       "    <tr>\n",
       "      <th>1</th>\n",
       "      <td>576824</td>\n",
       "    </tr>\n",
       "  </tbody>\n",
       "</table>\n",
       "</div>"
      ],
      "text/plain": [
       "                    visit\n",
       "                    count\n",
       "treatment visit          \n",
       "0         0       2016832\n",
       "          1         80105\n",
       "1         0      11305831\n",
       "          1        576824"
      ]
     },
     "execution_count": 5,
     "metadata": {},
     "output_type": "execute_result"
    }
   ],
   "source": [
    "df.groupby(['treatment', 'visit']).agg({'visit':[ 'count']})"
   ]
  },
  {
   "cell_type": "code",
   "execution_count": 6,
   "metadata": {
    "application/vnd.databricks.v1+cell": {
     "inputWidgets": {},
     "nuid": "7a07a859-50dd-4dee-9600-337fa44645d0",
     "showTitle": false,
     "title": ""
    },
    "execution": {
     "iopub.execute_input": "2022-07-25T11:59:58.239977Z",
     "iopub.status.busy": "2022-07-25T11:59:58.239235Z",
     "iopub.status.idle": "2022-07-25T11:59:58.894793Z",
     "shell.execute_reply": "2022-07-25T11:59:58.893562Z"
    },
    "papermill": {
     "duration": 0.673402,
     "end_time": "2022-07-25T11:59:58.897111",
     "exception": false,
     "start_time": "2022-07-25T11:59:58.223709",
     "status": "completed"
    },
    "tags": []
   },
   "outputs": [
    {
     "data": {
      "text/html": [
       "<div>\n",
       "<style scoped>\n",
       "    .dataframe tbody tr th:only-of-type {\n",
       "        vertical-align: middle;\n",
       "    }\n",
       "\n",
       "    .dataframe tbody tr th {\n",
       "        vertical-align: top;\n",
       "    }\n",
       "\n",
       "    .dataframe thead tr th {\n",
       "        text-align: left;\n",
       "    }\n",
       "\n",
       "    .dataframe thead tr:last-of-type th {\n",
       "        text-align: right;\n",
       "    }\n",
       "</style>\n",
       "<table border=\"1\" class=\"dataframe\">\n",
       "  <thead>\n",
       "    <tr>\n",
       "      <th></th>\n",
       "      <th></th>\n",
       "      <th>conversion</th>\n",
       "    </tr>\n",
       "    <tr>\n",
       "      <th></th>\n",
       "      <th></th>\n",
       "      <th>count</th>\n",
       "    </tr>\n",
       "    <tr>\n",
       "      <th>treatment</th>\n",
       "      <th>conversion</th>\n",
       "      <th></th>\n",
       "    </tr>\n",
       "  </thead>\n",
       "  <tbody>\n",
       "    <tr>\n",
       "      <th rowspan=\"2\" valign=\"top\">0</th>\n",
       "      <th>0</th>\n",
       "      <td>2092874</td>\n",
       "    </tr>\n",
       "    <tr>\n",
       "      <th>1</th>\n",
       "      <td>4063</td>\n",
       "    </tr>\n",
       "    <tr>\n",
       "      <th rowspan=\"2\" valign=\"top\">1</th>\n",
       "      <th>0</th>\n",
       "      <td>11845944</td>\n",
       "    </tr>\n",
       "    <tr>\n",
       "      <th>1</th>\n",
       "      <td>36711</td>\n",
       "    </tr>\n",
       "  </tbody>\n",
       "</table>\n",
       "</div>"
      ],
      "text/plain": [
       "                     conversion\n",
       "                          count\n",
       "treatment conversion           \n",
       "0         0             2092874\n",
       "          1                4063\n",
       "1         0            11845944\n",
       "          1               36711"
      ]
     },
     "execution_count": 6,
     "metadata": {},
     "output_type": "execute_result"
    }
   ],
   "source": [
    "df.groupby(['treatment', 'conversion']).agg({'conversion':[ 'count']})"
   ]
  },
  {
   "cell_type": "code",
   "execution_count": 7,
   "metadata": {
    "application/vnd.databricks.v1+cell": {
     "inputWidgets": {},
     "nuid": "51445a5c-c6b6-43bc-b5f9-e97321a1cae8",
     "showTitle": false,
     "title": ""
    },
    "execution": {
     "iopub.execute_input": "2022-07-25T11:59:58.927208Z",
     "iopub.status.busy": "2022-07-25T11:59:58.926844Z",
     "iopub.status.idle": "2022-07-25T12:00:01.713025Z",
     "shell.execute_reply": "2022-07-25T12:00:01.711800Z"
    },
    "papermill": {
     "duration": 2.804382,
     "end_time": "2022-07-25T12:00:01.715766",
     "exception": false,
     "start_time": "2022-07-25T11:59:58.911384",
     "status": "completed"
    },
    "tags": []
   },
   "outputs": [],
   "source": [
    "# Ноутбук выполнялся в kaggle поэтому уменьшим датасет, чтобы не вылезти за допустимый размер памяти\n",
    "df = df.sample(frac =.5, random_state = 42)"
   ]
  },
  {
   "cell_type": "code",
   "execution_count": 8,
   "metadata": {
    "execution": {
     "iopub.execute_input": "2022-07-25T12:00:01.747449Z",
     "iopub.status.busy": "2022-07-25T12:00:01.746240Z",
     "iopub.status.idle": "2022-07-25T12:00:01.757753Z",
     "shell.execute_reply": "2022-07-25T12:00:01.756844Z"
    },
    "papermill": {
     "duration": 0.029755,
     "end_time": "2022-07-25T12:00:01.759976",
     "exception": false,
     "start_time": "2022-07-25T12:00:01.730221",
     "status": "completed"
    },
    "tags": []
   },
   "outputs": [],
   "source": [
    "def qini_df(df):\n",
    "    # 1. Отранжируем выборку по значению uplift в убывающем порядке\n",
    "    ranked = df.sort_values(\"uplift_score\", ascending=False)\n",
    "    \n",
    "    N_c = sum(ranked[treatment_col] == 0)\n",
    "    N_t = sum(ranked[treatment_col] == 1)\n",
    "    \n",
    "    # Посчитаем в отсортированном датафрейме основные показатели, которые используются при расчете qini\n",
    "    ranked['n_c1'] = 0\n",
    "    ranked['n_t1'] = 0\n",
    "    ranked.loc[(ranked[target_col] == 1)&(ranked[treatment_col]==0),'n_c1'] = 1\n",
    "    ranked.loc[(ranked[target_col] == 1)&(ranked[treatment_col]==1),'n_t1'] = 1\n",
    "    ranked['n_c1/nc'] = ranked.n_c1.cumsum() / N_c\n",
    "    ranked['n_t1/nt'] = ranked.n_t1.cumsum() / N_t\n",
    "    \n",
    "    # Посчитаем qini curve и рандомную прямую под ней\n",
    "    ranked['uplift'] = round(ranked['n_t1/nt'] - ranked['n_c1/nc'],5)\n",
    "    # Добавим случайную кривую\n",
    "    ranked['random_uplift'] = round(ranked[\"uplift_score\"].rank(pct=True, ascending=False) * ranked['uplift'].iloc[-1],5)\n",
    "    \n",
    "    ranked[\"n\"] = ranked[\"uplift_score\"].rank(pct=True, ascending=False)\n",
    "    # Немного кода для визуализации\n",
    "    plt.plot(ranked['n'], ranked['uplift'], color='r')\n",
    "    plt.plot(ranked['n'], ranked['random_uplift'], color='b')\n",
    "    plt.show()\n",
    "    \n",
    "    return (ranked['uplift'] - ranked['random_uplift']).sum()"
   ]
  },
  {
   "cell_type": "code",
   "execution_count": 9,
   "metadata": {
    "execution": {
     "iopub.execute_input": "2022-07-25T12:00:01.790741Z",
     "iopub.status.busy": "2022-07-25T12:00:01.790326Z",
     "iopub.status.idle": "2022-07-25T12:00:01.795494Z",
     "shell.execute_reply": "2022-07-25T12:00:01.794321Z"
    },
    "papermill": {
     "duration": 0.02324,
     "end_time": "2022-07-25T12:00:01.797536",
     "exception": false,
     "start_time": "2022-07-25T12:00:01.774296",
     "status": "completed"
    },
    "tags": []
   },
   "outputs": [],
   "source": [
    "feature_cols = ['f0', 'f1', 'f2', 'f3', 'f4', 'f5', 'f6', 'f7', 'f8', 'f9', 'f10', 'f11']\n",
    "treatment_col = 'treatment'"
   ]
  },
  {
   "cell_type": "code",
   "execution_count": 10,
   "metadata": {
    "execution": {
     "iopub.execute_input": "2022-07-25T12:00:01.828822Z",
     "iopub.status.busy": "2022-07-25T12:00:01.828013Z",
     "iopub.status.idle": "2022-07-25T12:00:56.817353Z",
     "shell.execute_reply": "2022-07-25T12:00:56.816080Z"
    },
    "papermill": {
     "duration": 55.023362,
     "end_time": "2022-07-25T12:00:56.835237",
     "exception": false,
     "start_time": "2022-07-25T12:00:01.811875",
     "status": "completed"
    },
    "tags": []
   },
   "outputs": [
    {
     "data": {
      "text/html": [
       "<div>\n",
       "<style scoped>\n",
       "    .dataframe tbody tr th:only-of-type {\n",
       "        vertical-align: middle;\n",
       "    }\n",
       "\n",
       "    .dataframe tbody tr th {\n",
       "        vertical-align: top;\n",
       "    }\n",
       "\n",
       "    .dataframe thead th {\n",
       "        text-align: right;\n",
       "    }\n",
       "</style>\n",
       "<table border=\"1\" class=\"dataframe\">\n",
       "  <thead>\n",
       "    <tr style=\"text-align: right;\">\n",
       "      <th></th>\n",
       "      <th>f0</th>\n",
       "      <th>f1</th>\n",
       "      <th>f2</th>\n",
       "      <th>f3</th>\n",
       "      <th>f4</th>\n",
       "      <th>f5</th>\n",
       "      <th>f6</th>\n",
       "      <th>f7</th>\n",
       "      <th>f8</th>\n",
       "      <th>f9</th>\n",
       "      <th>f10</th>\n",
       "      <th>f11</th>\n",
       "      <th>treatment</th>\n",
       "      <th>conversion</th>\n",
       "      <th>visit</th>\n",
       "      <th>exposure</th>\n",
       "    </tr>\n",
       "  </thead>\n",
       "  <tbody>\n",
       "    <tr>\n",
       "      <th>6791207</th>\n",
       "      <td>12.616365</td>\n",
       "      <td>10.059654</td>\n",
       "      <td>8.808206</td>\n",
       "      <td>4.679882</td>\n",
       "      <td>10.280525</td>\n",
       "      <td>4.115453</td>\n",
       "      <td>0.294443</td>\n",
       "      <td>4.833815</td>\n",
       "      <td>3.927254</td>\n",
       "      <td>13.190056</td>\n",
       "      <td>5.300375</td>\n",
       "      <td>-0.168679</td>\n",
       "      <td>0</td>\n",
       "      <td>0</td>\n",
       "      <td>0</td>\n",
       "      <td>0</td>\n",
       "    </tr>\n",
       "    <tr>\n",
       "      <th>8065346</th>\n",
       "      <td>12.616365</td>\n",
       "      <td>10.059654</td>\n",
       "      <td>8.986455</td>\n",
       "      <td>4.679882</td>\n",
       "      <td>10.280525</td>\n",
       "      <td>4.115453</td>\n",
       "      <td>0.294443</td>\n",
       "      <td>4.833815</td>\n",
       "      <td>3.943716</td>\n",
       "      <td>13.190056</td>\n",
       "      <td>5.300375</td>\n",
       "      <td>-0.168679</td>\n",
       "      <td>1</td>\n",
       "      <td>0</td>\n",
       "      <td>0</td>\n",
       "      <td>0</td>\n",
       "    </tr>\n",
       "    <tr>\n",
       "      <th>13583491</th>\n",
       "      <td>14.194121</td>\n",
       "      <td>10.059654</td>\n",
       "      <td>8.214383</td>\n",
       "      <td>-2.063975</td>\n",
       "      <td>10.280525</td>\n",
       "      <td>4.115453</td>\n",
       "      <td>-13.526963</td>\n",
       "      <td>4.833815</td>\n",
       "      <td>3.971858</td>\n",
       "      <td>13.190056</td>\n",
       "      <td>5.300375</td>\n",
       "      <td>-0.168679</td>\n",
       "      <td>1</td>\n",
       "      <td>0</td>\n",
       "      <td>0</td>\n",
       "      <td>1</td>\n",
       "    </tr>\n",
       "    <tr>\n",
       "      <th>10247891</th>\n",
       "      <td>12.616365</td>\n",
       "      <td>10.059654</td>\n",
       "      <td>8.513889</td>\n",
       "      <td>4.679882</td>\n",
       "      <td>10.280525</td>\n",
       "      <td>4.115453</td>\n",
       "      <td>0.294443</td>\n",
       "      <td>4.833815</td>\n",
       "      <td>3.856829</td>\n",
       "      <td>34.180688</td>\n",
       "      <td>5.300375</td>\n",
       "      <td>-0.168679</td>\n",
       "      <td>0</td>\n",
       "      <td>0</td>\n",
       "      <td>0</td>\n",
       "      <td>0</td>\n",
       "    </tr>\n",
       "    <tr>\n",
       "      <th>13117770</th>\n",
       "      <td>12.616365</td>\n",
       "      <td>10.059654</td>\n",
       "      <td>8.838556</td>\n",
       "      <td>4.679882</td>\n",
       "      <td>10.280525</td>\n",
       "      <td>4.115453</td>\n",
       "      <td>0.294443</td>\n",
       "      <td>4.833815</td>\n",
       "      <td>3.920995</td>\n",
       "      <td>13.190056</td>\n",
       "      <td>5.300375</td>\n",
       "      <td>-0.168679</td>\n",
       "      <td>0</td>\n",
       "      <td>0</td>\n",
       "      <td>0</td>\n",
       "      <td>0</td>\n",
       "    </tr>\n",
       "  </tbody>\n",
       "</table>\n",
       "</div>"
      ],
      "text/plain": [
       "                 f0         f1        f2        f3         f4        f5  \\\n",
       "6791207   12.616365  10.059654  8.808206  4.679882  10.280525  4.115453   \n",
       "8065346   12.616365  10.059654  8.986455  4.679882  10.280525  4.115453   \n",
       "13583491  14.194121  10.059654  8.214383 -2.063975  10.280525  4.115453   \n",
       "10247891  12.616365  10.059654  8.513889  4.679882  10.280525  4.115453   \n",
       "13117770  12.616365  10.059654  8.838556  4.679882  10.280525  4.115453   \n",
       "\n",
       "                 f6        f7        f8         f9       f10       f11  \\\n",
       "6791207    0.294443  4.833815  3.927254  13.190056  5.300375 -0.168679   \n",
       "8065346    0.294443  4.833815  3.943716  13.190056  5.300375 -0.168679   \n",
       "13583491 -13.526963  4.833815  3.971858  13.190056  5.300375 -0.168679   \n",
       "10247891   0.294443  4.833815  3.856829  34.180688  5.300375 -0.168679   \n",
       "13117770   0.294443  4.833815  3.920995  13.190056  5.300375 -0.168679   \n",
       "\n",
       "          treatment  conversion  visit  exposure  \n",
       "6791207           0           0      0         0  \n",
       "8065346           1           0      0         0  \n",
       "13583491          1           0      0         1  \n",
       "10247891          0           0      0         0  \n",
       "13117770          0           0      0         0  "
      ]
     },
     "execution_count": 10,
     "metadata": {},
     "output_type": "execute_result"
    }
   ],
   "source": [
    "# Разобъем нашу выборку на тестовую и валидационную\n",
    "\n",
    "from sklearn.model_selection import train_test_split\n",
    "target_col = 'visit' \n",
    "df_train, df_test = train_test_split(df, stratify=df[[treatment_col, target_col]], random_state=42, test_size=0.3)\n",
    "df_train.head()"
   ]
  },
  {
   "cell_type": "code",
   "execution_count": 11,
   "metadata": {
    "execution": {
     "iopub.execute_input": "2022-07-25T12:00:56.867697Z",
     "iopub.status.busy": "2022-07-25T12:00:56.866649Z",
     "iopub.status.idle": "2022-07-25T12:00:58.041951Z",
     "shell.execute_reply": "2022-07-25T12:00:58.040981Z"
    },
    "papermill": {
     "duration": 1.194685,
     "end_time": "2022-07-25T12:00:58.044646",
     "exception": false,
     "start_time": "2022-07-25T12:00:56.849961",
     "status": "completed"
    },
    "tags": []
   },
   "outputs": [],
   "source": [
    "mm_sc = MinMaxScaler(feature_range=(-1, 1))\n",
    "df_train[feature_cols] = mm_sc.fit_transform(df_train[feature_cols].values)\n",
    "df_test[feature_cols] = mm_sc.transform(df_test[feature_cols].values)\n",
    "df_test['uplift_score'] = 0 "
   ]
  },
  {
   "cell_type": "code",
   "execution_count": 12,
   "metadata": {
    "execution": {
     "iopub.execute_input": "2022-07-25T12:00:58.075392Z",
     "iopub.status.busy": "2022-07-25T12:00:58.075024Z",
     "iopub.status.idle": "2022-07-25T12:00:58.085773Z",
     "shell.execute_reply": "2022-07-25T12:00:58.084964Z"
    },
    "papermill": {
     "duration": 0.02838,
     "end_time": "2022-07-25T12:00:58.087634",
     "exception": false,
     "start_time": "2022-07-25T12:00:58.059254",
     "status": "completed"
    },
    "tags": []
   },
   "outputs": [],
   "source": [
    "def s_learner(learner=CatBoostClassifier(random_seed=13, verbose=0)):\n",
    "    model = BaseSClassifier(learner=learner)\n",
    "    model.fit(X=df_train[feature_cols],\n",
    "                  treatment=df_train[treatment_col],\n",
    "                  y=df_train[target_col])\n",
    "    uplift_vals = model.predict(np.array(df_test[feature_cols].values.copy()))\n",
    "    df_test['uplift_score'] = uplift_vals\n",
    "    return qini_df(df_test)"
   ]
  },
  {
   "cell_type": "code",
   "execution_count": 13,
   "metadata": {
    "execution": {
     "iopub.execute_input": "2022-07-25T12:00:58.118537Z",
     "iopub.status.busy": "2022-07-25T12:00:58.117828Z",
     "iopub.status.idle": "2022-07-25T12:00:58.124056Z",
     "shell.execute_reply": "2022-07-25T12:00:58.123314Z"
    },
    "papermill": {
     "duration": 0.023784,
     "end_time": "2022-07-25T12:00:58.125921",
     "exception": false,
     "start_time": "2022-07-25T12:00:58.102137",
     "status": "completed"
    },
    "tags": []
   },
   "outputs": [],
   "source": [
    "def t_learner(learner=CatBoostClassifier(random_seed=13, verbose=0)):\n",
    "    model = BaseTClassifier(learner=learner)\n",
    "    model.fit(X=df_train[feature_cols],\n",
    "                  treatment=df_train[treatment_col],\n",
    "                  y=df_train[target_col])\n",
    "    uplift_vals = model.predict(np.array(df_test[feature_cols].values.copy()))\n",
    "    df_test['uplift_score'] = uplift_vals\n",
    "    return qini_df(df_test)"
   ]
  },
  {
   "cell_type": "code",
   "execution_count": 14,
   "metadata": {
    "execution": {
     "iopub.execute_input": "2022-07-25T12:00:58.156547Z",
     "iopub.status.busy": "2022-07-25T12:00:58.155878Z",
     "iopub.status.idle": "2022-07-25T12:00:58.162681Z",
     "shell.execute_reply": "2022-07-25T12:00:58.161686Z"
    },
    "papermill": {
     "duration": 0.024449,
     "end_time": "2022-07-25T12:00:58.164819",
     "exception": false,
     "start_time": "2022-07-25T12:00:58.140370",
     "status": "completed"
    },
    "tags": []
   },
   "outputs": [],
   "source": [
    "def x_learner(outcome_learner=LogisticRegression(random_state=42,verbose=0),\n",
    "                           effect_learner=LinearRegression()):\n",
    "    model = BaseXClassifier(outcome_learner=outcome_learner,\n",
    "                            effect_learner=effect_learner)\n",
    "    model.fit(X=df_train[feature_cols],\n",
    "                  treatment=df_train[treatment_col],\n",
    "                  y=df_train[target_col])\n",
    "    uplift_vals = model.predict(np.array(df_test[feature_cols].values.copy()))\n",
    "    df_test['uplift_score'] = uplift_vals\n",
    "    return qini_df(df_test)"
   ]
  },
  {
   "cell_type": "code",
   "execution_count": 15,
   "metadata": {
    "execution": {
     "iopub.execute_input": "2022-07-25T12:00:58.195179Z",
     "iopub.status.busy": "2022-07-25T12:00:58.194769Z",
     "iopub.status.idle": "2022-07-25T12:00:58.202038Z",
     "shell.execute_reply": "2022-07-25T12:00:58.200983Z"
    },
    "papermill": {
     "duration": 0.025243,
     "end_time": "2022-07-25T12:00:58.204455",
     "exception": false,
     "start_time": "2022-07-25T12:00:58.179212",
     "status": "completed"
    },
    "tags": []
   },
   "outputs": [],
   "source": [
    "def r_learner(outcome_learner=LogisticRegression(random_state=42,verbose=0),\n",
    "                            effect_learner=LinearRegression()):\n",
    "    model = BaseRClassifier(outcome_learner=outcome_learner,\n",
    "                            effect_learner=effect_learner)\n",
    "    model.fit(X=df_train[feature_cols],\n",
    "                  treatment=df_train[treatment_col],\n",
    "                  y=df_train[target_col])\n",
    "    uplift_vals = model.predict(np.array(df_test[feature_cols].values.copy()))\n",
    "    df_test['uplift_score'] = uplift_vals\n",
    "    return qini_df(df_test)"
   ]
  },
  {
   "cell_type": "code",
   "execution_count": 16,
   "metadata": {
    "execution": {
     "iopub.execute_input": "2022-07-25T12:00:58.235423Z",
     "iopub.status.busy": "2022-07-25T12:00:58.234671Z",
     "iopub.status.idle": "2022-07-25T12:00:58.242375Z",
     "shell.execute_reply": "2022-07-25T12:00:58.241606Z"
    },
    "papermill": {
     "duration": 0.025672,
     "end_time": "2022-07-25T12:00:58.244626",
     "exception": false,
     "start_time": "2022-07-25T12:00:58.218954",
     "status": "completed"
    },
    "tags": []
   },
   "outputs": [],
   "source": [
    "def uplift_tree():\n",
    "    model = model = UpliftRandomForestClassifier(max_depth=5, min_samples_leaf=200, min_samples_treatment=50,\n",
    "                                    n_reg=100, evaluationFunction='ED', control_name='0')\n",
    "    model.fit(X=df_train[feature_cols].values,\n",
    "                  treatment=df_train[treatment_col].apply(str).values,\n",
    "                  y=df_train[target_col].values)\n",
    "    uplift_vals = model.predict(np.array(df_test[feature_cols].values.copy()))\n",
    "    df_test['uplift_score'] = uplift_vals\n",
    "    return qini_df(df_test)"
   ]
  },
  {
   "cell_type": "code",
   "execution_count": 17,
   "metadata": {
    "execution": {
     "iopub.execute_input": "2022-07-25T12:00:58.275618Z",
     "iopub.status.busy": "2022-07-25T12:00:58.274809Z",
     "iopub.status.idle": "2022-07-25T12:00:58.280176Z",
     "shell.execute_reply": "2022-07-25T12:00:58.279444Z"
    },
    "papermill": {
     "duration": 0.023444,
     "end_time": "2022-07-25T12:00:58.282362",
     "exception": false,
     "start_time": "2022-07-25T12:00:58.258918",
     "status": "completed"
    },
    "tags": []
   },
   "outputs": [],
   "source": [
    "learners_dict = {'s_learner': s_learner, 't_learner': t_learner, 'x_learner': x_learner, 'r_learner': r_learner, 'uplift_tree': uplift_tree}\n",
    "qini_dict = {}"
   ]
  },
  {
   "cell_type": "markdown",
   "metadata": {
    "papermill": {
     "duration": 0.014013,
     "end_time": "2022-07-25T12:00:58.311262",
     "exception": false,
     "start_time": "2022-07-25T12:00:58.297249",
     "status": "completed"
    },
    "tags": []
   },
   "source": [
    "## target_col =  'visit'"
   ]
  },
  {
   "cell_type": "code",
   "execution_count": 18,
   "metadata": {
    "execution": {
     "iopub.execute_input": "2022-07-25T12:00:58.342067Z",
     "iopub.status.busy": "2022-07-25T12:00:58.341295Z",
     "iopub.status.idle": "2022-07-25T12:10:25.568155Z",
     "shell.execute_reply": "2022-07-25T12:10:25.566738Z"
    },
    "papermill": {
     "duration": 567.256099,
     "end_time": "2022-07-25T12:10:25.581772",
     "exception": false,
     "start_time": "2022-07-25T12:00:58.325673",
     "status": "completed"
    },
    "tags": []
   },
   "outputs": [
    {
     "data": {
      "image/png": "[encoded data removed]",
      "text/plain": [
       "<Figure size 432x288 with 1 Axes>"
      ]
     },
     "metadata": {
      "needs_background": "light"
     },
     "output_type": "display_data"
    },
    {
     "name": "stdout",
     "output_type": "stream",
     "text": [
      "qini for s_learner with target = \"visit\": 9790.018909999997\n"
     ]
    }
   ],
   "source": [
    "k = 's_learner'\n",
    "qini_dict[k] = learners_dict[k]()\n",
    "print(f'qini for {k} with target = \"{target_col}\":', qini_dict[k])"
   ]
  },
  {
   "cell_type": "code",
   "execution_count": 19,
   "metadata": {
    "execution": {
     "iopub.execute_input": "2022-07-25T12:10:25.646869Z",
     "iopub.status.busy": "2022-07-25T12:10:25.646449Z",
     "iopub.status.idle": "2022-07-25T12:19:41.830431Z",
     "shell.execute_reply": "2022-07-25T12:19:41.829261Z"
    },
    "papermill": {
     "duration": 556.211126,
     "end_time": "2022-07-25T12:19:41.839611",
     "exception": false,
     "start_time": "2022-07-25T12:10:25.628485",
     "status": "completed"
    },
    "tags": []
   },
   "outputs": [
    {
     "data": {
      "image/png": "[encoded data removed]",
      "text/plain": [
       "<Figure size 432x288 with 1 Axes>"
      ]
     },
     "metadata": {
      "needs_background": "light"
     },
     "output_type": "display_data"
    },
    {
     "name": "stdout",
     "output_type": "stream",
     "text": [
      "qini for t_learner with target = \"visit\": 7423.51715\n"
     ]
    }
   ],
   "source": [
    "k = 't_learner'\n",
    "qini_dict[k] = learners_dict[k]()\n",
    "print(f'qini for {k} with target = \"{target_col}\":', qini_dict[k])"
   ]
  },
  {
   "cell_type": "code",
   "execution_count": 20,
   "metadata": {
    "execution": {
     "iopub.execute_input": "2022-07-25T12:19:41.904381Z",
     "iopub.status.busy": "2022-07-25T12:19:41.903982Z",
     "iopub.status.idle": "2022-07-25T12:44:47.339299Z",
     "shell.execute_reply": "2022-07-25T12:44:47.337975Z"
    },
    "papermill": {
     "duration": 1505.463968,
     "end_time": "2022-07-25T12:44:47.350921",
     "exception": false,
     "start_time": "2022-07-25T12:19:41.886953",
     "status": "completed"
    },
    "tags": []
   },
   "outputs": [
    {
     "data": {
      "image/png": "[encoded data removed]",
      "text/plain": [
       "<Figure size 432x288 with 1 Axes>"
      ]
     },
     "metadata": {
      "needs_background": "light"
     },
     "output_type": "display_data"
    },
    {
     "name": "stdout",
     "output_type": "stream",
     "text": [
      "qini for x_learner with target = \"visit\": 9503.564569999988\n"
     ]
    }
   ],
   "source": [
    "k = 'x_learner'\n",
    "qini_dict[k] = learners_dict[k]()\n",
    "print(f'qini for {k} with target = \"{target_col}\":', qini_dict[k])"
   ]
  },
  {
   "cell_type": "code",
   "execution_count": 21,
   "metadata": {
    "execution": {
     "iopub.execute_input": "2022-07-25T12:44:47.418271Z",
     "iopub.status.busy": "2022-07-25T12:44:47.417886Z",
     "iopub.status.idle": "2022-07-25T13:11:42.131588Z",
     "shell.execute_reply": "2022-07-25T13:11:42.130284Z"
    },
    "papermill": {
     "duration": 1614.738035,
     "end_time": "2022-07-25T13:11:42.137951",
     "exception": false,
     "start_time": "2022-07-25T12:44:47.399916",
     "status": "completed"
    },
    "tags": []
   },
   "outputs": [
    {
     "data": {
      "image/png": "[encoded data removed]",
      "text/plain": [
       "<Figure size 432x288 with 1 Axes>"
      ]
     },
     "metadata": {
      "needs_background": "light"
     },
     "output_type": "display_data"
    },
    {
     "name": "stdout",
     "output_type": "stream",
     "text": [
      "qini for r_learner with target = \"visit\": 9516.238790000007\n"
     ]
    }
   ],
   "source": [
    "k = 'r_learner'\n",
    "qini_dict[k] = learners_dict[k]()\n",
    "print(f'qini for {k} with target = \"{target_col}\":', qini_dict[k])"
   ]
  },
  {
   "cell_type": "code",
   "execution_count": 22,
   "metadata": {
    "execution": {
     "iopub.execute_input": "2022-07-25T13:11:42.207889Z",
     "iopub.status.busy": "2022-07-25T13:11:42.207446Z",
     "iopub.status.idle": "2022-07-25T13:13:53.390272Z",
     "shell.execute_reply": "2022-07-25T13:13:53.389009Z"
    },
    "papermill": {
     "duration": 131.212197,
     "end_time": "2022-07-25T13:13:53.401356",
     "exception": false,
     "start_time": "2022-07-25T13:11:42.189159",
     "status": "completed"
    },
    "tags": []
   },
   "outputs": [
    {
     "data": {
      "image/png": "[encoded data removed]",
      "text/plain": [
       "<Figure size 432x288 with 1 Axes>"
      ]
     },
     "metadata": {
      "needs_background": "light"
     },
     "output_type": "display_data"
    },
    {
     "name": "stdout",
     "output_type": "stream",
     "text": [
      "qini for uplift_tree with target = \"visit\": 8618.682769999994\n"
     ]
    }
   ],
   "source": [
    "k = 'uplift_tree'\n",
    "qini_dict[k] = learners_dict[k]()\n",
    "print(f'qini for {k} with target = \"{target_col}\":', qini_dict[k])"
   ]
  },
  {
   "cell_type": "markdown",
   "metadata": {
    "papermill": {
     "duration": 0.016569,
     "end_time": "2022-07-25T13:13:53.468385",
     "exception": false,
     "start_time": "2022-07-25T13:13:53.451816",
     "status": "completed"
    },
    "tags": []
   },
   "source": [
    "## target_col =  'conversion'"
   ]
  },
  {
   "cell_type": "code",
   "execution_count": 23,
   "metadata": {
    "execution": {
     "iopub.execute_input": "2022-07-25T13:13:53.504321Z",
     "iopub.status.busy": "2022-07-25T13:13:53.503653Z",
     "iopub.status.idle": "2022-07-25T13:14:50.972933Z",
     "shell.execute_reply": "2022-07-25T13:14:50.971755Z"
    },
    "papermill": {
     "duration": 57.490739,
     "end_time": "2022-07-25T13:14:50.975972",
     "exception": false,
     "start_time": "2022-07-25T13:13:53.485233",
     "status": "completed"
    },
    "tags": []
   },
   "outputs": [],
   "source": [
    "target_col =  'conversion'\n",
    "df_train, df_test = train_test_split(df, stratify=df[[treatment_col, target_col]], random_state=42, test_size=0.3)\n",
    "\n",
    "mm_sc = MinMaxScaler(feature_range=(-1, 1))\n",
    "df_train[feature_cols] = mm_sc.fit_transform(df_train[feature_cols].values)\n",
    "df_test[feature_cols] = mm_sc.transform(df_test[feature_cols].values)\n",
    "df_test['uplift_score'] = 0 "
   ]
  },
  {
   "cell_type": "code",
   "execution_count": 24,
   "metadata": {
    "execution": {
     "iopub.execute_input": "2022-07-25T13:14:51.014086Z",
     "iopub.status.busy": "2022-07-25T13:14:51.013102Z",
     "iopub.status.idle": "2022-07-25T13:24:01.532020Z",
     "shell.execute_reply": "2022-07-25T13:24:01.530712Z"
    },
    "papermill": {
     "duration": 550.549578,
     "end_time": "2022-07-25T13:24:01.543218",
     "exception": false,
     "start_time": "2022-07-25T13:14:50.993640",
     "status": "completed"
    },
    "tags": []
   },
   "outputs": [
    {
     "data": {
      "image/png": "[encoded data removed]",
      "text/plain": [
       "<Figure size 432x288 with 1 Axes>"
      ]
     },
     "metadata": {
      "needs_background": "light"
     },
     "output_type": "display_data"
    },
    {
     "name": "stdout",
     "output_type": "stream",
     "text": [
      "qini for s_learner with target = \"conversion\": 1034.71773\n"
     ]
    }
   ],
   "source": [
    "k = 's_learner'\n",
    "qini_dict[k] = learners_dict[k]()\n",
    "print(f'qini for {k} with target = \"{target_col}\":', qini_dict[k])"
   ]
  },
  {
   "cell_type": "code",
   "execution_count": 25,
   "metadata": {
    "execution": {
     "iopub.execute_input": "2022-07-25T13:24:01.580487Z",
     "iopub.status.busy": "2022-07-25T13:24:01.579785Z",
     "iopub.status.idle": "2022-07-25T13:33:01.632789Z",
     "shell.execute_reply": "2022-07-25T13:33:01.631481Z"
    },
    "papermill": {
     "duration": 540.086629,
     "end_time": "2022-07-25T13:33:01.647372",
     "exception": false,
     "start_time": "2022-07-25T13:24:01.560743",
     "status": "completed"
    },
    "tags": []
   },
   "outputs": [
    {
     "data": {
      "image/png": "[encoded data removed]",
      "text/plain": [
       "<Figure size 432x288 with 1 Axes>"
      ]
     },
     "metadata": {
      "needs_background": "light"
     },
     "output_type": "display_data"
    },
    {
     "name": "stdout",
     "output_type": "stream",
     "text": [
      "qini for t_learner with target = \"conversion\": 801.3469500000003\n"
     ]
    }
   ],
   "source": [
    "k = 't_learner'\n",
    "qini_dict[k] = learners_dict[k]()\n",
    "print(f'qini for {k} with target = \"{target_col}\":', qini_dict[k])"
   ]
  },
  {
   "cell_type": "code",
   "execution_count": 26,
   "metadata": {
    "execution": {
     "iopub.execute_input": "2022-07-25T13:33:01.802433Z",
     "iopub.status.busy": "2022-07-25T13:33:01.802011Z",
     "iopub.status.idle": "2022-07-25T14:04:25.322744Z",
     "shell.execute_reply": "2022-07-25T14:04:25.321225Z"
    },
    "papermill": {
     "duration": 1883.67138,
     "end_time": "2022-07-25T14:04:25.337546",
     "exception": false,
     "start_time": "2022-07-25T13:33:01.666166",
     "status": "completed"
    },
    "tags": []
   },
   "outputs": [
    {
     "data": {
      "image/png": "[encoded data removed]",
      "text/plain": [
       "<Figure size 432x288 with 1 Axes>"
      ]
     },
     "metadata": {
      "needs_background": "light"
     },
     "output_type": "display_data"
    },
    {
     "name": "stdout",
     "output_type": "stream",
     "text": [
      "qini for x_learner with target = \"conversion\": 1080.27379\n"
     ]
    }
   ],
   "source": [
    "k = 'x_learner'\n",
    "qini_dict[k] = learners_dict[k]()\n",
    "print(f'qini for {k} with target = \"{target_col}\":', qini_dict[k])"
   ]
  },
  {
   "cell_type": "code",
   "execution_count": 27,
   "metadata": {
    "execution": {
     "iopub.execute_input": "2022-07-25T14:04:25.377838Z",
     "iopub.status.busy": "2022-07-25T14:04:25.376983Z",
     "iopub.status.idle": "2022-07-25T14:34:45.092117Z",
     "shell.execute_reply": "2022-07-25T14:34:45.090719Z"
    },
    "papermill": {
     "duration": 1819.749255,
     "end_time": "2022-07-25T14:34:45.105421",
     "exception": false,
     "start_time": "2022-07-25T14:04:25.356166",
     "status": "completed"
    },
    "tags": []
   },
   "outputs": [
    {
     "data": {
      "image/png": "[encoded data removed]",
      "text/plain": [
       "<Figure size 432x288 with 1 Axes>"
      ]
     },
     "metadata": {
      "needs_background": "light"
     },
     "output_type": "display_data"
    },
    {
     "name": "stdout",
     "output_type": "stream",
     "text": [
      "qini for r_learner with target = \"conversion\": 1079.8861400000005\n"
     ]
    }
   ],
   "source": [
    "k = 'r_learner'\n",
    "qini_dict[k] = learners_dict[k]()\n",
    "print(f'qini for {k} with target = \"{target_col}\":', qini_dict[k])"
   ]
  },
  {
   "cell_type": "code",
   "execution_count": 28,
   "metadata": {
    "execution": {
     "iopub.execute_input": "2022-07-25T14:34:45.148251Z",
     "iopub.status.busy": "2022-07-25T14:34:45.147840Z",
     "iopub.status.idle": "2022-07-25T14:37:02.574523Z",
     "shell.execute_reply": "2022-07-25T14:37:02.572994Z"
    },
    "papermill": {
     "duration": 137.461035,
     "end_time": "2022-07-25T14:37:02.587083",
     "exception": false,
     "start_time": "2022-07-25T14:34:45.126048",
     "status": "completed"
    },
    "tags": []
   },
   "outputs": [
    {
     "data": {
      "image/png": "[encoded data removed]",
      "text/plain": [
       "<Figure size 432x288 with 1 Axes>"
      ]
     },
     "metadata": {
      "needs_background": "light"
     },
     "output_type": "display_data"
    },
    {
     "name": "stdout",
     "output_type": "stream",
     "text": [
      "qini for uplift_tree with target = \"conversion\": 994.8261300000001\n"
     ]
    }
   ],
   "source": [
    "k = 'uplift_tree'\n",
    "qini_dict[k] = learners_dict[k]()\n",
    "print(f'qini for {k} with target = \"{target_col}\":', qini_dict[k])"
   ]
  },
  {
   "cell_type": "markdown",
   "metadata": {
    "execution": {
     "iopub.execute_input": "2022-07-25T14:37:02.630503Z",
     "iopub.status.busy": "2022-07-25T14:37:02.630049Z",
     "iopub.status.idle": "2022-07-25T14:37:02.635192Z",
     "shell.execute_reply": "2022-07-25T14:37:02.633963Z"
    },
    "papermill": {
     "duration": 0.029137,
     "end_time": "2022-07-25T14:37:02.637593",
     "exception": false,
     "start_time": "2022-07-25T14:37:02.608456",
     "status": "completed"
    },
    "tags": []
   },
   "source": [
    "### Результаты:\n",
    "\n",
    "#### Самый высокий qini для целевой переменной 'visit' показал алгоритм s_learner:   9790\n",
    "#### Самый высокий qini для целевой переменной 'conversion' показал алгоритм x_learner:  1080\n",
    "\n",
    "#### Тем не менее x-learner и r-learner в обоих случаях показали результаты близкие к максимальным, что подсказывает сделать их алгоритмаи выбора для данного датасета.\n",
    "#### Самым быстрым оказался алгоритм uplift_tree со средними значениями qini."
   ]
  },
  {
   "cell_type": "code",
   "execution_count": null,
   "metadata": {
    "papermill": {
     "duration": 0.019475,
     "end_time": "2022-07-25T14:37:02.766254",
     "exception": false,
     "start_time": "2022-07-25T14:37:02.746779",
     "status": "completed"
    },
    "tags": []
   },
   "outputs": [],
   "source": []
  }
 ],
 "metadata": {
  "kernelspec": {
   "display_name": "Python 3",
   "language": "python",
   "name": "python3"
  },
  "language_info": {
   "codemirror_mode": {
    "name": "ipython",
    "version": 3
   },
   "file_extension": ".py",
   "mimetype": "text/x-python",
   "name": "python",
   "nbconvert_exporter": "python",
   "pygments_lexer": "ipython3",
   "version": "3.8.5"
  },
  "papermill": {
   "default_parameters": {},
   "duration": 9559.97536,
   "end_time": "2022-07-25T14:37:05.543649",
   "environment_variables": {},
   "exception": null,
   "input_path": "__notebook__.ipynb",
   "output_path": "__notebook__.ipynb",
   "parameters": {},
   "start_time": "2022-07-25T11:57:45.568289",
   "version": "2.3.4"
  }
 },
 "nbformat": 4,
 "nbformat_minor": 5
}
