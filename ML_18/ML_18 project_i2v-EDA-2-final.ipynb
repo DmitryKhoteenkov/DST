{
 "cells": [
  {
   "cell_type": "markdown",
   "metadata": {},
   "source": [
    "Постановка задачи: разработать рекомендательную систему для аптек. Представьте, что вы приходите на кассу, а у кассира во время формирования чека всплывает подсказка, что можно вам ещё порекомендовать.\n",
    "\n",
    "Критерий проверки\tБаллы\n",
    "Построен валидационный датасет. Валидация сделана с учётом времени либо обосновано, почему валидация в данном случае бессмысленна\t2\n",
    "Построены контентные рекомендации (по названиям товаров в корзине)\t4\n",
    "Построены рекомендации с Word2Vec по чековым данным (обучены эмбеддинги товаров по чековым последовательностям)\t4\n",
    "Построена двухстадийная рекомендательная система (опционально, с любым ранжированием)\t2\n",
    "Подсказки\n",
    "\n",
    "Всегда нужен валидационный сет, как его построить?\n",
    "Подойдут ли здесь user-item рекомендации? Есть ли у нас идентификатор пользователя?\n",
    "Можем ли построить рекомендации по названию товаров?\n",
    "А что если посмотреть на чек как на документ, а на идентифиваторы items — как на слова, и обучить Word2Vec?"
   ]
  },
  {
   "cell_type": "markdown",
   "metadata": {},
   "source": [
    "### Итоговый проект модуля по рекомендательным системам"
   ]
  },
  {
   "cell_type": "code",
   "execution_count": 11,
   "metadata": {},
   "outputs": [],
   "source": [
    "import string\n",
    "import annoy\n",
    "import numpy as np\n",
    "import pandas as pd\n",
    "import pickle\n",
    "\n",
    "from pymorphy2 import MorphAnalyzer\n",
    "from stop_words import get_stop_words\n",
    "from gensim.models import FastText\n",
    "from tqdm.notebook import tqdm\n",
    "import time\n",
    "from datetime import datetime\n",
    "input_path = './'\n",
    "tqdm.pandas()"
   ]
  },
  {
   "cell_type": "markdown",
   "metadata": {},
   "source": [
    "Ввиду того, что приходиться работать с файлами больших размеров рекомендуется \n",
    "### НЕ запускать абзацы \n",
    "вплоть до раздела \"Загрузка подготовленных данных\".  \n",
    "Файлы необходимые для запуска разделов \"Word2vec\" и \"Item2vec\" прилагаются:\n",
    "\n",
    "\"train.feather\",\n",
    "\"test.feather\",\n",
    "\"checks_train.pkl\",\n",
    "\"checks_test.pkl\",\n",
    "\"Product_dict.pkl\"\n",
    "\n",
    "https://drive.google.com/file/d/1Ivq9Q0ETkcqXOWXjx8ZRUYtBJyP3om8m/view?usp=sharing"
   ]
  },
  {
   "cell_type": "markdown",
   "metadata": {},
   "source": [
    "Загрузим датасет"
   ]
  },
  {
   "cell_type": "code",
   "execution_count": 2,
   "metadata": {},
   "outputs": [],
   "source": [
    "#dtypes = {'contact_id':'int32','shop_id':'int32','product_id':'int32','name':str,'product_sub_category_id':'int32','product_category_id':'int32','brand_id':'int32','quantity':str}\n",
    "#df = pd.read_csv(input_path+'data.csv', dtype=dtypes, parse_dates=['sale_date_date'], nrows = 20000000, encoding = 'utf-8')\n",
    "\n",
    "\n",
    "def read_csv_pgbar(csv_path, chunk_rows, nrows=-1, **kwargs):\n",
    "    t0 = time.perf_counter()\n",
    "    tmp = pd.read_csv(csv_path, nrows=1)\n",
    "    header = tmp.columns\n",
    "\n",
    "    if 'parse_dates' in kwargs:\n",
    "        kwargs['parse_dates'] = [header.to_list().index(x)\n",
    "                                 for x in kwargs['parse_dates']]\n",
    "\n",
    "    if nrows < 0:\n",
    "        nrows = sum(1 for _ in open(csv_path, 'r')) - 1  # minus the header\n",
    "    chunk_list = []\n",
    "\n",
    "    with tqdm(total=nrows, desc='Rows read: ') as bar:\n",
    "        skip_rows = 1\n",
    "        rows_left = nrows\n",
    "        count = 0\n",
    "        while rows_left > chunk_rows:\n",
    "            if count == 0:\n",
    "                tmp = pd.read_csv(csv_path, skiprows=skip_rows,\n",
    "                                  header=None, nrows=chunk_rows,  **kwargs)\n",
    "            else:\n",
    "                tmp = pd.concat([tmp, pd.read_csv(\n",
    "                    csv_path, skiprows=skip_rows, header=None, nrows=chunk_rows,  **kwargs)], axis=0)\n",
    "\n",
    "            skip_rows = skip_rows + chunk_rows\n",
    "            rows_left = nrows - (skip_rows)+1\n",
    "            bar.update(chunk_rows)\n",
    "            count += 1\n",
    "\n",
    "        if rows_left <= chunk_rows:\n",
    "            chunk_rows = rows_left\n",
    "            if count == 0:\n",
    "                tmp = pd.read_csv(csv_path, skiprows=skip_rows,\n",
    "                                  header=None, nrows=chunk_rows,  **kwargs)\n",
    "            else:\n",
    "                tmp = pd.concat([tmp, pd.read_csv(\n",
    "                    csv_path, skiprows=skip_rows, header=None, nrows=chunk_rows,  **kwargs)], axis=0)\n",
    "\n",
    "            bar.update(chunk_rows)\n",
    "\n",
    "    df = tmp.reset_index(drop=True)\n",
    "    df.columns = header\n",
    "    print('Finish reading csv file, elapsed:', time.perf_counter()-t0)\n",
    "    return df"
   ]
  },
  {
   "cell_type": "code",
   "execution_count": 3,
   "metadata": {},
   "outputs": [
    {
     "data": {
      "application/vnd.jupyter.widget-view+json": {
       "model_id": "49ce36102f1d465aa892643fd882ae16",
       "version_major": 2,
       "version_minor": 0
      },
      "text/plain": [
       "Rows read:   0%|          | 0/20000000 [00:00<?, ?it/s]"
      ]
     },
     "metadata": {},
     "output_type": "display_data"
    },
    {
     "name": "stdout",
     "output_type": "stream",
     "text": [
      "Finish reading csv file, elapsed: 116.819778538\n"
     ]
    }
   ],
   "source": [
    "# Оптимизируем загрузку с помощью у\n",
    "dtypes = {'contact_id': 'int32', 'shop_id': 'int32', 'product_id': 'int32', 'name': str,\n",
    "          'product_sub_category_id': 'int32', 'product_category_id': 'int32', 'brand_id': 'int32', 'quantity': str}\n",
    "df = read_csv_pgbar(input_path+'data.csv', chunk_rows=5000000, nrows=20000000,\n",
    "                    dtype=dtypes, parse_dates=['sale_date_date'],  encoding='utf-8')"
   ]
  },
  {
   "cell_type": "raw",
   "metadata": {},
   "source": [
    "\n",
    "# optimize memory loading by specifying the data types...\n",
    "dtypes = {'contact_id':'int32','shop_id':'int32','product_id':'int32','name':str,'product_sub_category_id':'int32','product_category_id':'int32','brand_id':'int32','quantity':str}\n",
    "df = pd.read_csv(input_path+'data.csv', dtype=dtypes, parse_dates=['sale_date_date'], nrows = 20000000, encoding = 'utf-8')\n",
    "\n"
   ]
  },
  {
   "cell_type": "markdown",
   "metadata": {},
   "source": [
    "### EDA. Изучим датасет.."
   ]
  },
  {
   "cell_type": "code",
   "execution_count": 4,
   "metadata": {},
   "outputs": [
    {
     "data": {
      "text/html": [
       "<div>\n",
       "<style scoped>\n",
       "    .dataframe tbody tr th:only-of-type {\n",
       "        vertical-align: middle;\n",
       "    }\n",
       "\n",
       "    .dataframe tbody tr th {\n",
       "        vertical-align: top;\n",
       "    }\n",
       "\n",
       "    .dataframe thead th {\n",
       "        text-align: right;\n",
       "    }\n",
       "</style>\n",
       "<table border=\"1\" class=\"dataframe\">\n",
       "  <thead>\n",
       "    <tr style=\"text-align: right;\">\n",
       "      <th></th>\n",
       "      <th>sale_date_date</th>\n",
       "      <th>contact_id</th>\n",
       "      <th>shop_id</th>\n",
       "      <th>product_id</th>\n",
       "      <th>name</th>\n",
       "      <th>product_sub_category_id</th>\n",
       "      <th>product_category_id</th>\n",
       "      <th>brand_id</th>\n",
       "      <th>quantity</th>\n",
       "    </tr>\n",
       "  </thead>\n",
       "  <tbody>\n",
       "    <tr>\n",
       "      <th>100</th>\n",
       "      <td>2018-12-07</td>\n",
       "      <td>2745991</td>\n",
       "      <td>1566</td>\n",
       "      <td>19626</td>\n",
       "      <td>(78352) Прополиса настойка жидк.фл.25мл №1</td>\n",
       "      <td>706</td>\n",
       "      <td>163</td>\n",
       "      <td>-1</td>\n",
       "      <td>2,00</td>\n",
       "    </tr>\n",
       "    <tr>\n",
       "      <th>101</th>\n",
       "      <td>2018-12-07</td>\n",
       "      <td>2743825</td>\n",
       "      <td>1388</td>\n",
       "      <td>161562</td>\n",
       "      <td>(185466) PL Бальзам для губ Фруктовый микс 4,2г</td>\n",
       "      <td>481</td>\n",
       "      <td>113</td>\n",
       "      <td>1520</td>\n",
       "      <td>3,00</td>\n",
       "    </tr>\n",
       "    <tr>\n",
       "      <th>102</th>\n",
       "      <td>2018-12-07</td>\n",
       "      <td>1062476</td>\n",
       "      <td>1559</td>\n",
       "      <td>162991</td>\n",
       "      <td>(185833) ЯБудуЖить100Лет Гематоген спортивный 40г</td>\n",
       "      <td>433</td>\n",
       "      <td>101</td>\n",
       "      <td>4474</td>\n",
       "      <td>6,00</td>\n",
       "    </tr>\n",
       "    <tr>\n",
       "      <th>103</th>\n",
       "      <td>2018-12-07</td>\n",
       "      <td>1038470</td>\n",
       "      <td>123</td>\n",
       "      <td>158600</td>\n",
       "      <td>(181232) PL Шприц одноразовый 3-комп. 5мл №1</td>\n",
       "      <td>762</td>\n",
       "      <td>176</td>\n",
       "      <td>1520</td>\n",
       "      <td>10,00</td>\n",
       "    </tr>\n",
       "    <tr>\n",
       "      <th>104</th>\n",
       "      <td>2018-12-07</td>\n",
       "      <td>2449508</td>\n",
       "      <td>653</td>\n",
       "      <td>155688</td>\n",
       "      <td>(153908) Ит Ми Фрутилад батончик Черника 30г</td>\n",
       "      <td>571</td>\n",
       "      <td>128</td>\n",
       "      <td>4128</td>\n",
       "      <td>6,00</td>\n",
       "    </tr>\n",
       "  </tbody>\n",
       "</table>\n",
       "</div>"
      ],
      "text/plain": [
       "    sale_date_date  contact_id  shop_id  product_id  \\\n",
       "100     2018-12-07     2745991     1566       19626   \n",
       "101     2018-12-07     2743825     1388      161562   \n",
       "102     2018-12-07     1062476     1559      162991   \n",
       "103     2018-12-07     1038470      123      158600   \n",
       "104     2018-12-07     2449508      653      155688   \n",
       "\n",
       "                                                  name  \\\n",
       "100         (78352) Прополиса настойка жидк.фл.25мл №1   \n",
       "101    (185466) PL Бальзам для губ Фруктовый микс 4,2г   \n",
       "102  (185833) ЯБудуЖить100Лет Гематоген спортивный 40г   \n",
       "103       (181232) PL Шприц одноразовый 3-комп. 5мл №1   \n",
       "104       (153908) Ит Ми Фрутилад батончик Черника 30г   \n",
       "\n",
       "     product_sub_category_id  product_category_id  brand_id quantity  \n",
       "100                      706                  163        -1     2,00  \n",
       "101                      481                  113      1520     3,00  \n",
       "102                      433                  101      4474     6,00  \n",
       "103                      762                  176      1520    10,00  \n",
       "104                      571                  128      4128     6,00  "
      ]
     },
     "execution_count": 4,
     "metadata": {},
     "output_type": "execute_result"
    }
   ],
   "source": [
    "df[100:105]"
   ]
  },
  {
   "cell_type": "code",
   "execution_count": 5,
   "metadata": {},
   "outputs": [
    {
     "data": {
      "text/plain": [
       "['sale_date_date',\n",
       " 'contact_id',\n",
       " 'shop_id',\n",
       " 'product_id',\n",
       " 'name',\n",
       " 'product_sub_category_id',\n",
       " 'product_category_id',\n",
       " 'brand_id',\n",
       " 'quantity']"
      ]
     },
     "execution_count": 5,
     "metadata": {},
     "output_type": "execute_result"
    }
   ],
   "source": [
    "df.columns.to_list()"
   ]
  },
  {
   "cell_type": "markdown",
   "metadata": {},
   "source": [
    "Можно сделать следующие предположения:\n",
    "Cтрока описывает приобретение отдельного продукта (item или product).\n",
    "\n",
    "item's property: product_id, name, product_sub_category, product_category, brand, and (а number in the name property - 'num_from_name' )\n",
    "\n",
    "Можно предположить, что shop_id - id магазина, где приобретался продукт на дату sale_date_date..\n",
    "При этом отсутствует временная метка - то есть порядок приобретения внутри дня отсутствует и таким образом мы получаем корзину товаров приобретенную в некую дату в некоем магазине и с неким contact_id.\n",
    "Contact_id - что это - большой вопрос.. \n",
    "\n",
    "Если предположить, что это зарегистрированный покупатель, то тогда окажется, что наши покупатели ходят в аптеку по несколько раз в неделю, например:"
   ]
  },
  {
   "cell_type": "code",
   "execution_count": 5,
   "metadata": {},
   "outputs": [
    {
     "data": {
      "text/html": [
       "<div>\n",
       "<style scoped>\n",
       "    .dataframe tbody tr th:only-of-type {\n",
       "        vertical-align: middle;\n",
       "    }\n",
       "\n",
       "    .dataframe tbody tr th {\n",
       "        vertical-align: top;\n",
       "    }\n",
       "\n",
       "    .dataframe thead th {\n",
       "        text-align: right;\n",
       "    }\n",
       "</style>\n",
       "<table border=\"1\" class=\"dataframe\">\n",
       "  <thead>\n",
       "    <tr style=\"text-align: right;\">\n",
       "      <th></th>\n",
       "      <th>sale_date_date</th>\n",
       "      <th>contact_id</th>\n",
       "      <th>shop_id</th>\n",
       "      <th>product_id</th>\n",
       "      <th>name</th>\n",
       "      <th>product_sub_category_id</th>\n",
       "      <th>product_category_id</th>\n",
       "      <th>brand_id</th>\n",
       "      <th>quantity</th>\n",
       "    </tr>\n",
       "  </thead>\n",
       "  <tbody>\n",
       "    <tr>\n",
       "      <th>4732950</th>\n",
       "      <td>2018-01-08</td>\n",
       "      <td>730404</td>\n",
       "      <td>862</td>\n",
       "      <td>80944</td>\n",
       "      <td>(67303) Панкреатин таб.п.о.кишечнораств. 30 ЕД...</td>\n",
       "      <td>601</td>\n",
       "      <td>135</td>\n",
       "      <td>-1</td>\n",
       "      <td>1,00</td>\n",
       "    </tr>\n",
       "    <tr>\n",
       "      <th>4735089</th>\n",
       "      <td>2018-01-05</td>\n",
       "      <td>730404</td>\n",
       "      <td>862</td>\n",
       "      <td>156136</td>\n",
       "      <td>(180238) PL Бахилы медицинские №10 (5 пар)</td>\n",
       "      <td>414</td>\n",
       "      <td>97</td>\n",
       "      <td>1520</td>\n",
       "      <td>1,00</td>\n",
       "    </tr>\n",
       "    <tr>\n",
       "      <th>4803228</th>\n",
       "      <td>2018-01-04</td>\n",
       "      <td>730404</td>\n",
       "      <td>862</td>\n",
       "      <td>144041</td>\n",
       "      <td>(115096) Стрептоцид пор 2г пак N1</td>\n",
       "      <td>706</td>\n",
       "      <td>163</td>\n",
       "      <td>-1</td>\n",
       "      <td>2,00</td>\n",
       "    </tr>\n",
       "    <tr>\n",
       "      <th>4814992</th>\n",
       "      <td>2018-01-01</td>\n",
       "      <td>730404</td>\n",
       "      <td>862</td>\n",
       "      <td>78056</td>\n",
       "      <td>(64340) 9 месяцев Фолиевая кислота таб.п.п.о.0...</td>\n",
       "      <td>424</td>\n",
       "      <td>101</td>\n",
       "      <td>1702</td>\n",
       "      <td>1,00</td>\n",
       "    </tr>\n",
       "    <tr>\n",
       "      <th>4818404</th>\n",
       "      <td>2018-01-06</td>\n",
       "      <td>730404</td>\n",
       "      <td>862</td>\n",
       "      <td>71564</td>\n",
       "      <td>(46459) Черника-форте 250 мг №150</td>\n",
       "      <td>574</td>\n",
       "      <td>129</td>\n",
       "      <td>1348</td>\n",
       "      <td>1,00</td>\n",
       "    </tr>\n",
       "    <tr>\n",
       "      <th>4888488</th>\n",
       "      <td>2018-01-28</td>\n",
       "      <td>730404</td>\n",
       "      <td>862</td>\n",
       "      <td>83462</td>\n",
       "      <td>(15853) Аскорбиновая кислота с глюкозой тб 100...</td>\n",
       "      <td>429</td>\n",
       "      <td>101</td>\n",
       "      <td>-1</td>\n",
       "      <td>4,00</td>\n",
       "    </tr>\n",
       "    <tr>\n",
       "      <th>4889156</th>\n",
       "      <td>2018-01-27</td>\n",
       "      <td>730404</td>\n",
       "      <td>862</td>\n",
       "      <td>35385</td>\n",
       "      <td>(106244) Неосмектин пор. д/сусп. пак. 3 гр. №30</td>\n",
       "      <td>595</td>\n",
       "      <td>135</td>\n",
       "      <td>-1</td>\n",
       "      <td>0,10</td>\n",
       "    </tr>\n",
       "    <tr>\n",
       "      <th>4889826</th>\n",
       "      <td>2018-01-31</td>\n",
       "      <td>730404</td>\n",
       "      <td>862</td>\n",
       "      <td>70604</td>\n",
       "      <td>(55217) Марвелон тб №21х3</td>\n",
       "      <td>450</td>\n",
       "      <td>105</td>\n",
       "      <td>-1</td>\n",
       "      <td>0,333</td>\n",
       "    </tr>\n",
       "    <tr>\n",
       "      <th>5175314</th>\n",
       "      <td>2018-02-13</td>\n",
       "      <td>730404</td>\n",
       "      <td>862</td>\n",
       "      <td>32087</td>\n",
       "      <td>(112032) Ямми Турбогематоген детский 30г</td>\n",
       "      <td>433</td>\n",
       "      <td>101</td>\n",
       "      <td>2481</td>\n",
       "      <td>1,00</td>\n",
       "    </tr>\n",
       "    <tr>\n",
       "      <th>5196084</th>\n",
       "      <td>2018-02-14</td>\n",
       "      <td>730404</td>\n",
       "      <td>862</td>\n",
       "      <td>129361</td>\n",
       "      <td>(101258) Кэа Дерма Маска д/лица и шеи кислород...</td>\n",
       "      <td>505</td>\n",
       "      <td>116</td>\n",
       "      <td>1837</td>\n",
       "      <td>2,00</td>\n",
       "    </tr>\n",
       "  </tbody>\n",
       "</table>\n",
       "</div>"
      ],
      "text/plain": [
       "        sale_date_date  contact_id  shop_id  product_id  \\\n",
       "4732950     2018-01-08      730404      862       80944   \n",
       "4735089     2018-01-05      730404      862      156136   \n",
       "4803228     2018-01-04      730404      862      144041   \n",
       "4814992     2018-01-01      730404      862       78056   \n",
       "4818404     2018-01-06      730404      862       71564   \n",
       "4888488     2018-01-28      730404      862       83462   \n",
       "4889156     2018-01-27      730404      862       35385   \n",
       "4889826     2018-01-31      730404      862       70604   \n",
       "5175314     2018-02-13      730404      862       32087   \n",
       "5196084     2018-02-14      730404      862      129361   \n",
       "\n",
       "                                                      name  \\\n",
       "4732950  (67303) Панкреатин таб.п.о.кишечнораств. 30 ЕД...   \n",
       "4735089         (180238) PL Бахилы медицинские №10 (5 пар)   \n",
       "4803228                  (115096) Стрептоцид пор 2г пак N1   \n",
       "4814992  (64340) 9 месяцев Фолиевая кислота таб.п.п.о.0...   \n",
       "4818404                  (46459) Черника-форте 250 мг №150   \n",
       "4888488  (15853) Аскорбиновая кислота с глюкозой тб 100...   \n",
       "4889156    (106244) Неосмектин пор. д/сусп. пак. 3 гр. №30   \n",
       "4889826                          (55217) Марвелон тб №21х3   \n",
       "5175314           (112032) Ямми Турбогематоген детский 30г   \n",
       "5196084  (101258) Кэа Дерма Маска д/лица и шеи кислород...   \n",
       "\n",
       "         product_sub_category_id  product_category_id  brand_id quantity  \n",
       "4732950                      601                  135        -1     1,00  \n",
       "4735089                      414                   97      1520     1,00  \n",
       "4803228                      706                  163        -1     2,00  \n",
       "4814992                      424                  101      1702     1,00  \n",
       "4818404                      574                  129      1348     1,00  \n",
       "4888488                      429                  101        -1     4,00  \n",
       "4889156                      595                  135        -1     0,10  \n",
       "4889826                      450                  105        -1    0,333  \n",
       "5175314                      433                  101      2481     1,00  \n",
       "5196084                      505                  116      1837     2,00  "
      ]
     },
     "execution_count": 5,
     "metadata": {},
     "output_type": "execute_result"
    }
   ],
   "source": [
    "df[(df['contact_id'] == 730404)].drop_duplicates('sale_date_date').head(10)"
   ]
  },
  {
   "cell_type": "markdown",
   "metadata": {},
   "source": [
    "#### Тогда есть предположение, что contact_id это номер кассы в магазине...\n",
    "#### А чек - это данные сгруппированные по составному индексу [sale_date, shop_id, contact_id] \n",
    "#### Но тогда тоже встречаются довольно странные розничные \"покупатели\", которые закупают как оптовики:"
   ]
  },
  {
   "cell_type": "code",
   "execution_count": 6,
   "metadata": {},
   "outputs": [
    {
     "data": {
      "text/plain": [
       "388"
      ]
     },
     "execution_count": 6,
     "metadata": {},
     "output_type": "execute_result"
    }
   ],
   "source": [
    "df[(df.sale_date_date == '2018-04-12') & (df.contact_id == 1073942)\n",
    "    & (df.shop_id == 848)]['product_id'].count()"
   ]
  },
  {
   "cell_type": "code",
   "execution_count": 7,
   "metadata": {},
   "outputs": [],
   "source": [
    "df_ = df[(df.sale_date_date == '2018-04-12') & (df.contact_id ==\n",
    "                                                1073942) & (df.shop_id == 848)][['product_id', 'name']]"
   ]
  },
  {
   "cell_type": "code",
   "execution_count": 8,
   "metadata": {},
   "outputs": [
    {
     "data": {
      "text/plain": [
       "46"
      ]
     },
     "execution_count": 8,
     "metadata": {},
     "output_type": "execute_result"
    }
   ],
   "source": [
    "sum(df_.duplicated())"
   ]
  },
  {
   "cell_type": "code",
   "execution_count": 9,
   "metadata": {},
   "outputs": [
    {
     "data": {
      "text/html": [
       "<div>\n",
       "<style scoped>\n",
       "    .dataframe tbody tr th:only-of-type {\n",
       "        vertical-align: middle;\n",
       "    }\n",
       "\n",
       "    .dataframe tbody tr th {\n",
       "        vertical-align: top;\n",
       "    }\n",
       "\n",
       "    .dataframe thead th {\n",
       "        text-align: right;\n",
       "    }\n",
       "</style>\n",
       "<table border=\"1\" class=\"dataframe\">\n",
       "  <thead>\n",
       "    <tr style=\"text-align: right;\">\n",
       "      <th></th>\n",
       "      <th>product_id</th>\n",
       "      <th>name</th>\n",
       "    </tr>\n",
       "  </thead>\n",
       "  <tbody>\n",
       "    <tr>\n",
       "      <th>12356447</th>\n",
       "      <td>28548</td>\n",
       "      <td>(92002) Найзилат таб.п.п.о.600мг №20</td>\n",
       "    </tr>\n",
       "    <tr>\n",
       "      <th>12804497</th>\n",
       "      <td>28548</td>\n",
       "      <td>(92002) Найзилат таб.п.п.о.600мг №20</td>\n",
       "    </tr>\n",
       "    <tr>\n",
       "      <th>12205813</th>\n",
       "      <td>31212</td>\n",
       "      <td>(118125) Кардиомагнил таб.п.п.о.75мг №100</td>\n",
       "    </tr>\n",
       "    <tr>\n",
       "      <th>12205837</th>\n",
       "      <td>31212</td>\n",
       "      <td>(118125) Кардиомагнил таб.п.п.о.75мг №100</td>\n",
       "    </tr>\n",
       "    <tr>\n",
       "      <th>12177598</th>\n",
       "      <td>31212</td>\n",
       "      <td>(118125) Кардиомагнил таб.п.п.о.75мг №100</td>\n",
       "    </tr>\n",
       "    <tr>\n",
       "      <th>...</th>\n",
       "      <td>...</td>\n",
       "      <td>...</td>\n",
       "    </tr>\n",
       "    <tr>\n",
       "      <th>12350908</th>\n",
       "      <td>154015</td>\n",
       "      <td>(122354) Ацикловир мазь д/местн.и наружн.прим....</td>\n",
       "    </tr>\n",
       "    <tr>\n",
       "      <th>12196779</th>\n",
       "      <td>154256</td>\n",
       "      <td>(122353) PL Проктонис Крем ректальный туба 30мл</td>\n",
       "    </tr>\n",
       "    <tr>\n",
       "      <th>12728625</th>\n",
       "      <td>154256</td>\n",
       "      <td>(122353) PL Проктонис Крем ректальный туба 30мл</td>\n",
       "    </tr>\n",
       "    <tr>\n",
       "      <th>12201149</th>\n",
       "      <td>161241</td>\n",
       "      <td>(185026) PL Масло Репейное с касторовым маслом...</td>\n",
       "    </tr>\n",
       "    <tr>\n",
       "      <th>12194959</th>\n",
       "      <td>161241</td>\n",
       "      <td>(185026) PL Масло Репейное с касторовым маслом...</td>\n",
       "    </tr>\n",
       "  </tbody>\n",
       "</table>\n",
       "<p>78 rows × 2 columns</p>\n",
       "</div>"
      ],
      "text/plain": [
       "          product_id                                               name\n",
       "12356447       28548               (92002) Найзилат таб.п.п.о.600мг №20\n",
       "12804497       28548               (92002) Найзилат таб.п.п.о.600мг №20\n",
       "12205813       31212          (118125) Кардиомагнил таб.п.п.о.75мг №100\n",
       "12205837       31212          (118125) Кардиомагнил таб.п.п.о.75мг №100\n",
       "12177598       31212          (118125) Кардиомагнил таб.п.п.о.75мг №100\n",
       "...              ...                                                ...\n",
       "12350908      154015  (122354) Ацикловир мазь д/местн.и наружн.прим....\n",
       "12196779      154256    (122353) PL Проктонис Крем ректальный туба 30мл\n",
       "12728625      154256    (122353) PL Проктонис Крем ректальный туба 30мл\n",
       "12201149      161241  (185026) PL Масло Репейное с касторовым маслом...\n",
       "12194959      161241  (185026) PL Масло Репейное с касторовым маслом...\n",
       "\n",
       "[78 rows x 2 columns]"
      ]
     },
     "execution_count": 9,
     "metadata": {},
     "output_type": "execute_result"
    }
   ],
   "source": [
    "df_[df_.duplicated(keep=False)].sort_values(['product_id'])"
   ]
  },
  {
   "cell_type": "markdown",
   "metadata": {},
   "source": [
    "### 388 товаров, среди которых аж 46 дубликатов! Ну что это за чек? Ясно, что это объединение чеков за один день по одной кассе в этом магазине. Как тогда по таким \"дневным чекам\" можно хоть что-то адекватно рекомендовать..."
   ]
  },
  {
   "cell_type": "markdown",
   "metadata": {},
   "source": [
    "\n",
    "\n",
    "### Что такое тогда чек?\n",
    "\n"
   ]
  },
  {
   "cell_type": "markdown",
   "metadata": {},
   "source": [
    "Почистим датасет.."
   ]
  },
  {
   "cell_type": "code",
   "execution_count": 10,
   "metadata": {},
   "outputs": [],
   "source": [
    "df = df.dropna()"
   ]
  },
  {
   "cell_type": "code",
   "execution_count": 11,
   "metadata": {},
   "outputs": [
    {
     "data": {
      "text/html": [
       "<div>\n",
       "<style scoped>\n",
       "    .dataframe tbody tr th:only-of-type {\n",
       "        vertical-align: middle;\n",
       "    }\n",
       "\n",
       "    .dataframe tbody tr th {\n",
       "        vertical-align: top;\n",
       "    }\n",
       "\n",
       "    .dataframe thead th {\n",
       "        text-align: right;\n",
       "    }\n",
       "</style>\n",
       "<table border=\"1\" class=\"dataframe\">\n",
       "  <thead>\n",
       "    <tr style=\"text-align: right;\">\n",
       "      <th></th>\n",
       "      <th>sale_date_date</th>\n",
       "      <th>contact_id</th>\n",
       "      <th>shop_id</th>\n",
       "      <th>product_id</th>\n",
       "      <th>name</th>\n",
       "      <th>product_sub_category_id</th>\n",
       "      <th>product_category_id</th>\n",
       "      <th>brand_id</th>\n",
       "      <th>quantity</th>\n",
       "    </tr>\n",
       "  </thead>\n",
       "  <tbody>\n",
       "    <tr>\n",
       "      <th>4776837</th>\n",
       "      <td>2018-01-05</td>\n",
       "      <td>1393270</td>\n",
       "      <td>1505</td>\n",
       "      <td>129195</td>\n",
       "      <td>(48791) Свободная сумма НДС18% (служебный)</td>\n",
       "      <td>-1</td>\n",
       "      <td>-1</td>\n",
       "      <td>-1</td>\n",
       "      <td>1,00</td>\n",
       "    </tr>\n",
       "    <tr>\n",
       "      <th>4776838</th>\n",
       "      <td>2018-01-05</td>\n",
       "      <td>1789248</td>\n",
       "      <td>1522</td>\n",
       "      <td>129195</td>\n",
       "      <td>(48791) Свободная сумма НДС18% (служебный)</td>\n",
       "      <td>-1</td>\n",
       "      <td>-1</td>\n",
       "      <td>-1</td>\n",
       "      <td>1,00</td>\n",
       "    </tr>\n",
       "  </tbody>\n",
       "</table>\n",
       "</div>"
      ],
      "text/plain": [
       "        sale_date_date  contact_id  shop_id  product_id  \\\n",
       "4776837     2018-01-05     1393270     1505      129195   \n",
       "4776838     2018-01-05     1789248     1522      129195   \n",
       "\n",
       "                                               name  product_sub_category_id  \\\n",
       "4776837  (48791) Свободная сумма НДС18% (служебный)                       -1   \n",
       "4776838  (48791) Свободная сумма НДС18% (служебный)                       -1   \n",
       "\n",
       "         product_category_id  brand_id quantity  \n",
       "4776837                   -1        -1     1,00  \n",
       "4776838                   -1        -1     1,00  "
      ]
     },
     "execution_count": 11,
     "metadata": {},
     "output_type": "execute_result"
    }
   ],
   "source": [
    "df[(df['product_id'] == 129195) | (df['product_id'] == 129484)].head(2)"
   ]
  },
  {
   "cell_type": "code",
   "execution_count": 12,
   "metadata": {},
   "outputs": [
    {
     "data": {
      "application/vnd.jupyter.widget-view+json": {
       "model_id": "29c151ddfcf4461fac28b4813608276a",
       "version_major": 2,
       "version_minor": 0
      },
      "text/plain": [
       "  0%|          | 0/19819985 [00:00<?, ?it/s]"
      ]
     },
     "metadata": {},
     "output_type": "display_data"
    }
   ],
   "source": [
    "# удалим служебную информацию\n",
    "df = df.drop(index=df[(df['product_id'] == 129195)\n",
    "                      | (df['product_id'] == 129484)].index)\n",
    "# удалим числовой артикул в скобках из текста названия\n",
    "tqdm.pandas()\n",
    "df['name'] = df.name.progress_apply(\n",
    "    lambda x: ' '.join(x.strip().split()[1:]) if x == x else x)"
   ]
  },
  {
   "cell_type": "code",
   "execution_count": 13,
   "metadata": {},
   "outputs": [
    {
     "data": {
      "text/html": [
       "<div>\n",
       "<style scoped>\n",
       "    .dataframe tbody tr th:only-of-type {\n",
       "        vertical-align: middle;\n",
       "    }\n",
       "\n",
       "    .dataframe tbody tr th {\n",
       "        vertical-align: top;\n",
       "    }\n",
       "\n",
       "    .dataframe thead th {\n",
       "        text-align: right;\n",
       "    }\n",
       "</style>\n",
       "<table border=\"1\" class=\"dataframe\">\n",
       "  <thead>\n",
       "    <tr style=\"text-align: right;\">\n",
       "      <th></th>\n",
       "      <th>sale_date_date</th>\n",
       "      <th>contact_id</th>\n",
       "      <th>shop_id</th>\n",
       "      <th>product_id</th>\n",
       "      <th>name</th>\n",
       "      <th>product_sub_category_id</th>\n",
       "      <th>product_category_id</th>\n",
       "      <th>brand_id</th>\n",
       "      <th>quantity</th>\n",
       "    </tr>\n",
       "  </thead>\n",
       "  <tbody>\n",
       "    <tr>\n",
       "      <th>42646</th>\n",
       "      <td>2018-12-07</td>\n",
       "      <td>1376371</td>\n",
       "      <td>1503</td>\n",
       "      <td>349434</td>\n",
       "      <td>название</td>\n",
       "      <td>-1</td>\n",
       "      <td>-1</td>\n",
       "      <td>-1</td>\n",
       "      <td>1,00</td>\n",
       "    </tr>\n",
       "    <tr>\n",
       "      <th>129618</th>\n",
       "      <td>2018-12-08</td>\n",
       "      <td>2740131</td>\n",
       "      <td>1503</td>\n",
       "      <td>349434</td>\n",
       "      <td>название</td>\n",
       "      <td>-1</td>\n",
       "      <td>-1</td>\n",
       "      <td>-1</td>\n",
       "      <td>1,00</td>\n",
       "    </tr>\n",
       "  </tbody>\n",
       "</table>\n",
       "</div>"
      ],
      "text/plain": [
       "       sale_date_date  contact_id  shop_id  product_id      name  \\\n",
       "42646      2018-12-07     1376371     1503      349434  название   \n",
       "129618     2018-12-08     2740131     1503      349434  название   \n",
       "\n",
       "        product_sub_category_id  product_category_id  brand_id quantity  \n",
       "42646                        -1                   -1        -1     1,00  \n",
       "129618                       -1                   -1        -1     1,00  "
      ]
     },
     "execution_count": 13,
     "metadata": {},
     "output_type": "execute_result"
    }
   ],
   "source": [
    "df[df['name'] == 'название'].head(2)"
   ]
  },
  {
   "cell_type": "code",
   "execution_count": null,
   "metadata": {},
   "outputs": [],
   "source": [
    "# почистим датасет от неопределенных \"названий\"\n",
    "df = df.drop(df[df['name'] == 'название'].index)"
   ]
  },
  {
   "cell_type": "code",
   "execution_count": null,
   "metadata": {},
   "outputs": [],
   "source": [
    "df[(df['product_id'] == 129195) | (df['product_id'] == 129484)]"
   ]
  },
  {
   "cell_type": "code",
   "execution_count": null,
   "metadata": {},
   "outputs": [],
   "source": [
    "df[df['name'] == 'название'].head(2)"
   ]
  },
  {
   "cell_type": "markdown",
   "metadata": {},
   "source": [
    "#### Обратим внимание на последовательность дат."
   ]
  },
  {
   "cell_type": "code",
   "execution_count": null,
   "metadata": {},
   "outputs": [],
   "source": [
    "import matplotlib.pyplot as plt\n",
    "plt.plot(df['sale_date_date'])"
   ]
  },
  {
   "cell_type": "markdown",
   "metadata": {},
   "source": [
    "Выглядит как будто объединены два датасета с разрывом в 4 месяца и с противоположным порядком следования дат. При этом непонятно, в каком порядке следуют данные внутри дня. "
   ]
  },
  {
   "cell_type": "markdown",
   "metadata": {},
   "source": [
    "1. Наличие двух разделенных 4-месячным интервалом датасетов дает основание провести разбиение выборки на train и test именно по этой точке разделения.\n",
    "2. С другой стороны очевидно, что способ накопления данных в датасетах разный, так что имеет смысл отбросить меньший по размеру (более поздний по датам) датасет и провести разбиение только внутри более раннего датасета большего размера. Да, мы конечно уменьшим располагаемые данные для обучения и тестирования, но зато будем уверены в соответствии способов получения выборок train и test. Разобъем в дальнейшем с соотношением примерно 90%/10%"
   ]
  },
  {
   "cell_type": "code",
   "execution_count": null,
   "metadata": {},
   "outputs": [],
   "source": [
    "df['sale_date_date'].diff().dt.days.min()"
   ]
  },
  {
   "cell_type": "code",
   "execution_count": null,
   "metadata": {},
   "outputs": [],
   "source": [
    "df[df['sale_date_date'].diff().dt.days == -302].index[0]"
   ]
  },
  {
   "cell_type": "code",
   "execution_count": null,
   "metadata": {},
   "outputs": [],
   "source": [
    "# Отбрасываем более позднюю выборку\n",
    "df = df[df[df['sale_date_date'].diff().dt.days == -302].index[0]:]"
   ]
  },
  {
   "cell_type": "code",
   "execution_count": null,
   "metadata": {},
   "outputs": [],
   "source": [
    "import matplotlib.pyplot as plt\n",
    "plt.plot(df['sale_date_date'])"
   ]
  },
  {
   "cell_type": "code",
   "execution_count": null,
   "metadata": {},
   "outputs": [],
   "source": [
    "df['sale_date_date'].diff().dt.days.value_counts()"
   ]
  },
  {
   "cell_type": "code",
   "execution_count": null,
   "metadata": {},
   "outputs": [],
   "source": [
    "dv = df['sale_date_date'].diff().dt.days.value_counts()\n",
    "sum(dv[dv.keys() < 0].values)"
   ]
  },
  {
   "cell_type": "markdown",
   "metadata": {},
   "source": [
    "Оказывается в 21526 строчках сбивается порядок дат.. Ну ок. Видимо данные агрегрировались с запозданием из разных аптек сети. Будем надеятся, что данные с каждой отдельной локации не переплетались с другими, а вставлялись в базу неразрывными кусками. "
   ]
  },
  {
   "cell_type": "code",
   "execution_count": null,
   "metadata": {},
   "outputs": [],
   "source": [
    "df = df.reset_index(drop=True)"
   ]
  },
  {
   "cell_type": "code",
   "execution_count": null,
   "metadata": {},
   "outputs": [],
   "source": [
    "# сохраним для дальнейшей работы\n",
    "df.to_feather(input_path + 'data_reduced.feather')"
   ]
  },
  {
   "cell_type": "code",
   "execution_count": 46,
   "metadata": {},
   "outputs": [],
   "source": [
    "# загрузим почищенный датасет\n",
    "df = pd.read_feather(input_path + 'data_reduced.feather')"
   ]
  },
  {
   "cell_type": "markdown",
   "metadata": {},
   "source": [
    "Рассмотрим, например,следующий кусок данных:"
   ]
  },
  {
   "cell_type": "code",
   "execution_count": null,
   "metadata": {},
   "outputs": [],
   "source": [
    "df[8243:8248]"
   ]
  },
  {
   "cell_type": "markdown",
   "metadata": {},
   "source": [
    "Строки с индексами 8245 и 8246 идут друг за другом и имеют одинаковые sale_date_date, contact_id, shop_id.."
   ]
  },
  {
   "cell_type": "markdown",
   "metadata": {},
   "source": [
    "#### Тогда можно предположить , что чеком может считаться последовательность идущих один за одним строк с единым составным индексом [sale_date_date, contact_id, shop_id]"
   ]
  },
  {
   "cell_type": "markdown",
   "metadata": {},
   "source": [
    " При этом нет никакой гарантии, что два чека от одной локации не могут слипнуться в один так как нет временной отметки.  Ну какого художника нельзя было нормальные данные для закрепления материала именно по Рекомендательным системам дать? 99 % процентов времени убухано на поиск ответа на вопрос: что такое чек в данном задании."
   ]
  },
  {
   "cell_type": "markdown",
   "metadata": {},
   "source": [
    "#### Найдем все такие последовательности."
   ]
  },
  {
   "cell_type": "code",
   "execution_count": null,
   "metadata": {},
   "outputs": [],
   "source": [
    "# Создадим вспомогательные колонки\n",
    "df['diff_date'] = df['sale_date_date'].diff()\n",
    "df['diff_shop_id'] = df['shop_id'].diff()\n",
    "df['diff_contact_id'] = df['contact_id'].diff()\n",
    "\n",
    "zero_delta = df.loc[0, 'sale_date_date']-df.loc[0, 'sale_date_date']\n",
    "df.loc[0, 'diff_date'] = zero_delta\n",
    "df.loc[0, 'diff_shop_id'] = 0\n",
    "df.loc[0, 'diff_contact_id'] = 0"
   ]
  },
  {
   "cell_type": "code",
   "execution_count": null,
   "metadata": {},
   "outputs": [],
   "source": [
    "df['diff_date'] = df['diff_date'].dt.days\n",
    "df['check_id'] = np.zeros(len(df))\n",
    "df.loc[(df.diff_date != 0) | (df.diff_shop_id != 0)\n",
    "       | (df.diff_contact_id != 0), 'check_id'] = 1\n",
    "\n",
    "counter = 0\n",
    "\n",
    "\n",
    "def make_check_id(x):\n",
    "    global counter\n",
    "\n",
    "    if (x == 1):\n",
    "        counter += 1\n",
    "    return counter\n",
    "\n",
    "\n",
    "# Получим новый идентификатор вышеуказанных последовательностей - иденификатор чеков\n",
    "df['check_id'] = df['check_id'].progress_apply(lambda x: make_check_id(x))"
   ]
  },
  {
   "cell_type": "code",
   "execution_count": null,
   "metadata": {},
   "outputs": [],
   "source": [
    "# Удалим ненужные колонки.\n",
    "df = df.drop(labels=['diff_date', 'diff_shop_id', 'diff_contact_id'], axis=1).reindex(columns=['check_id', 'sale_date_date',\n",
    "                                                                                               'contact_id', 'shop_id', 'product_id', 'name', 'product_sub_category_id', 'product_category_id', 'brand_id', 'quantity'])"
   ]
  },
  {
   "cell_type": "code",
   "execution_count": null,
   "metadata": {},
   "outputs": [],
   "source": [
    "df = df.reset_index(drop=True)\n",
    "df.to_feather(input_path + 'checks.feather')  # сохраним для дальнейшей работы"
   ]
  },
  {
   "cell_type": "code",
   "execution_count": 48,
   "metadata": {},
   "outputs": [],
   "source": [
    "# загрузим почищенный датасет\n",
    "df = pd.read_feather(input_path + 'checks.feather')"
   ]
  },
  {
   "cell_type": "markdown",
   "metadata": {},
   "source": [
    "Еще раз посмотрим на данные:"
   ]
  },
  {
   "cell_type": "code",
   "execution_count": null,
   "metadata": {},
   "outputs": [],
   "source": [
    "df[8243:8248]"
   ]
  },
  {
   "cell_type": "markdown",
   "metadata": {},
   "source": [
    "#### Видно, что строки с индексами 8245 и 8246  идущие друг за другом, имеющие одинаковые sale_date_date, contact_id, shop_id имеют ОДИНАКОВЫЙ check_id = 8244, то есть объединены в один чек."
   ]
  },
  {
   "cell_type": "code",
   "execution_count": null,
   "metadata": {},
   "outputs": [],
   "source": [
    "df['check_id'].tail(1)  # Всего у нас чеков 14924636"
   ]
  },
  {
   "cell_type": "code",
   "execution_count": null,
   "metadata": {},
   "outputs": [],
   "source": [
    "# Распределение количества товаров в одном чеке\n",
    "df.groupby('check_id')['product_id'].count().value_counts()"
   ]
  },
  {
   "cell_type": "markdown",
   "metadata": {},
   "source": [
    "Видно, что подавляющее число чеков состоит из одной покупки."
   ]
  },
  {
   "cell_type": "code",
   "execution_count": null,
   "metadata": {},
   "outputs": [],
   "source": [
    "# Отберем чеки с числом покупок больше единицы\n",
    "dups = df[df.duplicated('check_id', keep=False)]\n",
    "dups"
   ]
  },
  {
   "cell_type": "markdown",
   "metadata": {},
   "source": [
    "Можно обратить внимание на очередную \"странность\": chek_id=14923882 \tимеет две покупки и причем одинаковые... то есть как бы кассир пробил два раза одно и тоже.. Посмотрим часто ли такое бывает."
   ]
  },
  {
   "cell_type": "code",
   "execution_count": null,
   "metadata": {},
   "outputs": [],
   "source": [
    "dups[dups.duplicated(['check_id', 'product_id'], keep=False)].groupby(\n",
    "    'check_id')['product_id'].count().sort_values()"
   ]
  },
  {
   "cell_type": "markdown",
   "metadata": {},
   "source": [
    "3181 чеков имеют дупликаты товаров..Причем один чек содержит их аж 121 !!!"
   ]
  },
  {
   "cell_type": "code",
   "execution_count": null,
   "metadata": {},
   "outputs": [],
   "source": [
    "df[df.check_id == 6394399]"
   ]
  },
  {
   "cell_type": "markdown",
   "metadata": {},
   "source": [
    "### У меня нет объяснения происхождения этих феноменальных чеков. Либо я не прав и чек это еще что-то другое!!!\n",
    "Вообще - это вопрос постановки задачи. Я потратил на подготовку этого задания почти месяц и только из-за суперминималистичных условий этого задания.\n",
    "Объяснять все-таки надо, что понимается под чеком!!! "
   ]
  },
  {
   "cell_type": "markdown",
   "metadata": {},
   "source": [
    "### Разбиение датасета на обучающую и валидационную выборки"
   ]
  },
  {
   "cell_type": "code",
   "execution_count": null,
   "metadata": {},
   "outputs": [],
   "source": [
    "# Почистим датасет\n",
    "# отделим артикул в скобках от текста названия\n",
    "df['name'] = df.name.progress_apply(\n",
    "    lambda x: ' '.join(x.strip().split()[1:]) if x == x else x)"
   ]
  },
  {
   "cell_type": "code",
   "execution_count": null,
   "metadata": {},
   "outputs": [],
   "source": [
    "# Сортируем даты по возрастанию\n",
    "df = df.sort_values('sale_date_date').reset_index(drop=True)\n",
    "# сохраним для дальнейшей работы\n",
    "df.to_feather(input_path + 'data_ready_to_split.feather')"
   ]
  },
  {
   "cell_type": "code",
   "execution_count": 2,
   "metadata": {},
   "outputs": [],
   "source": [
    "df = pd.read_feather(input_path + 'data_ready_to_split.feather')"
   ]
  },
  {
   "cell_type": "code",
   "execution_count": 4,
   "metadata": {},
   "outputs": [
    {
     "data": {
      "text/plain": [
       "[<matplotlib.lines.Line2D at 0x43612d08>]"
      ]
     },
     "execution_count": 4,
     "metadata": {},
     "output_type": "execute_result"
    },
    {
     "data": {
      "image/png": "[encoded data removed]",
      "text/plain": [
       "<Figure size 432x288 with 1 Axes>"
      ]
     },
     "metadata": {
      "needs_background": "light"
     },
     "output_type": "display_data"
    }
   ],
   "source": [
    "import matplotlib.pyplot as plt\n",
    "plt.plot(df['sale_date_date'])"
   ]
  },
  {
   "cell_type": "code",
   "execution_count": 5,
   "metadata": {},
   "outputs": [],
   "source": [
    "def train_test_split(df, test_proportion):\n",
    "    # разбивает датасет учитывая test_proportion и разграничивая даты тесто и трейна\n",
    "    len_df = len(df)\n",
    "    train_d = round((1-test_proportion)*len_df)\n",
    "    while (df.loc[train_d, 'sale_date_date'] == df.loc[train_d-1, 'sale_date_date']) and (train_d < len_df):\n",
    "        train_d += 1\n",
    "    print('true test_proportion', 1-(train_d/len_df))\n",
    "    return df[:train_d], df[train_d:]"
   ]
  },
  {
   "cell_type": "code",
   "execution_count": 6,
   "metadata": {},
   "outputs": [],
   "source": [
    "# для дальнейшей работы с эмбеддингами требуется перевести целочисленные объекты в строки\n",
    "df['product_id'] = df['product_id'].astype(str)"
   ]
  },
  {
   "cell_type": "code",
   "execution_count": 7,
   "metadata": {},
   "outputs": [
    {
     "name": "stdout",
     "output_type": "stream",
     "text": [
      "true test_proportion 0.0998515398395795\n"
     ]
    }
   ],
   "source": [
    "train, test = train_test_split(df, 0.1)"
   ]
  },
  {
   "cell_type": "code",
   "execution_count": 8,
   "metadata": {},
   "outputs": [
    {
     "data": {
      "text/html": [
       "<div>\n",
       "<style scoped>\n",
       "    .dataframe tbody tr th:only-of-type {\n",
       "        vertical-align: middle;\n",
       "    }\n",
       "\n",
       "    .dataframe tbody tr th {\n",
       "        vertical-align: top;\n",
       "    }\n",
       "\n",
       "    .dataframe thead th {\n",
       "        text-align: right;\n",
       "    }\n",
       "</style>\n",
       "<table border=\"1\" class=\"dataframe\">\n",
       "  <thead>\n",
       "    <tr style=\"text-align: right;\">\n",
       "      <th></th>\n",
       "      <th>check_id</th>\n",
       "      <th>sale_date_date</th>\n",
       "      <th>contact_id</th>\n",
       "      <th>shop_id</th>\n",
       "      <th>product_id</th>\n",
       "      <th>name</th>\n",
       "      <th>product_sub_category_id</th>\n",
       "      <th>product_category_id</th>\n",
       "      <th>brand_id</th>\n",
       "      <th>quantity</th>\n",
       "    </tr>\n",
       "  </thead>\n",
       "  <tbody>\n",
       "    <tr>\n",
       "      <th>13541012</th>\n",
       "      <td>12407971</td>\n",
       "      <td>2018-06-07</td>\n",
       "      <td>361717</td>\n",
       "      <td>272</td>\n",
       "      <td>61563</td>\n",
       "      <td>мазь д/наружн.прим.0,05% туба 30г №1</td>\n",
       "      <td>467</td>\n",
       "      <td>110</td>\n",
       "      <td>-1</td>\n",
       "      <td>1,00</td>\n",
       "    </tr>\n",
       "    <tr>\n",
       "      <th>13541013</th>\n",
       "      <td>12407973</td>\n",
       "      <td>2018-06-07</td>\n",
       "      <td>1069728</td>\n",
       "      <td>348</td>\n",
       "      <td>68879</td>\n",
       "      <td>таб.10мг №50</td>\n",
       "      <td>738</td>\n",
       "      <td>170</td>\n",
       "      <td>-1</td>\n",
       "      <td>1,00</td>\n",
       "    </tr>\n",
       "    <tr>\n",
       "      <th>13541014</th>\n",
       "      <td>12407969</td>\n",
       "      <td>2018-06-07</td>\n",
       "      <td>141832</td>\n",
       "      <td>345</td>\n",
       "      <td>135427</td>\n",
       "      <td>капли глазн 4% фл 10 мл. пласт. флак.-кап.</td>\n",
       "      <td>575</td>\n",
       "      <td>129</td>\n",
       "      <td>-1</td>\n",
       "      <td>1,00</td>\n",
       "    </tr>\n",
       "    <tr>\n",
       "      <th>13541015</th>\n",
       "      <td>12407974</td>\n",
       "      <td>2018-06-07</td>\n",
       "      <td>116582</td>\n",
       "      <td>308</td>\n",
       "      <td>84421</td>\n",
       "      <td>мазь простая 25г N1</td>\n",
       "      <td>467</td>\n",
       "      <td>110</td>\n",
       "      <td>-1</td>\n",
       "      <td>1,00</td>\n",
       "    </tr>\n",
       "    <tr>\n",
       "      <th>13541016</th>\n",
       "      <td>12407970</td>\n",
       "      <td>2018-06-07</td>\n",
       "      <td>874236</td>\n",
       "      <td>266</td>\n",
       "      <td>156491</td>\n",
       "      <td>капс.кишечнораст.20мг №30</td>\n",
       "      <td>595</td>\n",
       "      <td>135</td>\n",
       "      <td>-1</td>\n",
       "      <td>1,00</td>\n",
       "    </tr>\n",
       "  </tbody>\n",
       "</table>\n",
       "</div>"
      ],
      "text/plain": [
       "          check_id sale_date_date  contact_id  shop_id product_id  \\\n",
       "13541012  12407971     2018-06-07      361717      272      61563   \n",
       "13541013  12407973     2018-06-07     1069728      348      68879   \n",
       "13541014  12407969     2018-06-07      141832      345     135427   \n",
       "13541015  12407974     2018-06-07      116582      308      84421   \n",
       "13541016  12407970     2018-06-07      874236      266     156491   \n",
       "\n",
       "                                                name  product_sub_category_id  \\\n",
       "13541012        мазь д/наружн.прим.0,05% туба 30г №1                      467   \n",
       "13541013                                таб.10мг №50                      738   \n",
       "13541014  капли глазн 4% фл 10 мл. пласт. флак.-кап.                      575   \n",
       "13541015                         мазь простая 25г N1                      467   \n",
       "13541016                   капс.кишечнораст.20мг №30                      595   \n",
       "\n",
       "          product_category_id  brand_id quantity  \n",
       "13541012                  110        -1     1,00  \n",
       "13541013                  170        -1     1,00  \n",
       "13541014                  129        -1     1,00  \n",
       "13541015                  110        -1     1,00  \n",
       "13541016                  135        -1     1,00  "
      ]
     },
     "execution_count": 8,
     "metadata": {},
     "output_type": "execute_result"
    }
   ],
   "source": [
    "train.tail()"
   ]
  },
  {
   "cell_type": "code",
   "execution_count": 9,
   "metadata": {},
   "outputs": [
    {
     "data": {
      "text/html": [
       "<div>\n",
       "<style scoped>\n",
       "    .dataframe tbody tr th:only-of-type {\n",
       "        vertical-align: middle;\n",
       "    }\n",
       "\n",
       "    .dataframe tbody tr th {\n",
       "        vertical-align: top;\n",
       "    }\n",
       "\n",
       "    .dataframe thead th {\n",
       "        text-align: right;\n",
       "    }\n",
       "</style>\n",
       "<table border=\"1\" class=\"dataframe\">\n",
       "  <thead>\n",
       "    <tr style=\"text-align: right;\">\n",
       "      <th></th>\n",
       "      <th>check_id</th>\n",
       "      <th>sale_date_date</th>\n",
       "      <th>contact_id</th>\n",
       "      <th>shop_id</th>\n",
       "      <th>product_id</th>\n",
       "      <th>name</th>\n",
       "      <th>product_sub_category_id</th>\n",
       "      <th>product_category_id</th>\n",
       "      <th>brand_id</th>\n",
       "      <th>quantity</th>\n",
       "    </tr>\n",
       "  </thead>\n",
       "  <tbody>\n",
       "    <tr>\n",
       "      <th>13541017</th>\n",
       "      <td>12445782</td>\n",
       "      <td>2018-06-08</td>\n",
       "      <td>499581</td>\n",
       "      <td>266</td>\n",
       "      <td>25575</td>\n",
       "      <td>Гексал таб.10мг №50</td>\n",
       "      <td>738</td>\n",
       "      <td>170</td>\n",
       "      <td>-1</td>\n",
       "      <td>1,00</td>\n",
       "    </tr>\n",
       "    <tr>\n",
       "      <th>13541018</th>\n",
       "      <td>12445795</td>\n",
       "      <td>2018-06-08</td>\n",
       "      <td>1128997</td>\n",
       "      <td>346</td>\n",
       "      <td>50906</td>\n",
       "      <td>сироп 15 мг/5 мл. фл. 100 мл. с мерн. стак.</td>\n",
       "      <td>700</td>\n",
       "      <td>162</td>\n",
       "      <td>-1</td>\n",
       "      <td>1,00</td>\n",
       "    </tr>\n",
       "    <tr>\n",
       "      <th>13541019</th>\n",
       "      <td>12445794</td>\n",
       "      <td>2018-06-08</td>\n",
       "      <td>1074123</td>\n",
       "      <td>608</td>\n",
       "      <td>161495</td>\n",
       "      <td>спрей наз. 0,1% фл.15мл</td>\n",
       "      <td>701</td>\n",
       "      <td>162</td>\n",
       "      <td>-1</td>\n",
       "      <td>1,00</td>\n",
       "    </tr>\n",
       "    <tr>\n",
       "      <th>13541020</th>\n",
       "      <td>12445793</td>\n",
       "      <td>2018-06-08</td>\n",
       "      <td>55296</td>\n",
       "      <td>151</td>\n",
       "      <td>151429</td>\n",
       "      <td>Кло таб.п.п.о. 40мг+12,5мг №28</td>\n",
       "      <td>738</td>\n",
       "      <td>170</td>\n",
       "      <td>-1</td>\n",
       "      <td>1,00</td>\n",
       "    </tr>\n",
       "    <tr>\n",
       "      <th>13541021</th>\n",
       "      <td>12445792</td>\n",
       "      <td>2018-06-08</td>\n",
       "      <td>522930</td>\n",
       "      <td>326</td>\n",
       "      <td>64731</td>\n",
       "      <td>А таб.п.п.о.2,5мг+0,625мг №30</td>\n",
       "      <td>738</td>\n",
       "      <td>170</td>\n",
       "      <td>-1</td>\n",
       "      <td>1,00</td>\n",
       "    </tr>\n",
       "  </tbody>\n",
       "</table>\n",
       "</div>"
      ],
      "text/plain": [
       "          check_id sale_date_date  contact_id  shop_id product_id  \\\n",
       "13541017  12445782     2018-06-08      499581      266      25575   \n",
       "13541018  12445795     2018-06-08     1128997      346      50906   \n",
       "13541019  12445794     2018-06-08     1074123      608     161495   \n",
       "13541020  12445793     2018-06-08       55296      151     151429   \n",
       "13541021  12445792     2018-06-08      522930      326      64731   \n",
       "\n",
       "                                                 name  \\\n",
       "13541017                          Гексал таб.10мг №50   \n",
       "13541018  сироп 15 мг/5 мл. фл. 100 мл. с мерн. стак.   \n",
       "13541019                      спрей наз. 0,1% фл.15мл   \n",
       "13541020               Кло таб.п.п.о. 40мг+12,5мг №28   \n",
       "13541021                А таб.п.п.о.2,5мг+0,625мг №30   \n",
       "\n",
       "          product_sub_category_id  product_category_id  brand_id quantity  \n",
       "13541017                      738                  170        -1     1,00  \n",
       "13541018                      700                  162        -1     1,00  \n",
       "13541019                      701                  162        -1     1,00  \n",
       "13541020                      738                  170        -1     1,00  \n",
       "13541021                      738                  170        -1     1,00  "
      ]
     },
     "execution_count": 9,
     "metadata": {},
     "output_type": "execute_result"
    }
   ],
   "source": [
    "test.head()"
   ]
  },
  {
   "cell_type": "code",
   "execution_count": 10,
   "metadata": {},
   "outputs": [],
   "source": [
    "del df"
   ]
  },
  {
   "cell_type": "code",
   "execution_count": 11,
   "metadata": {},
   "outputs": [],
   "source": [
    "# сохраним для дальнейшей работы\n",
    "train.to_feather(input_path + 'train.feather')\n",
    "test = test.reset_index(drop=True)\n",
    "test.to_feather(input_path + 'test.feather')"
   ]
  },
  {
   "cell_type": "markdown",
   "metadata": {},
   "source": [
    "## Загрузка подготовленных данных"
   ]
  },
  {
   "cell_type": "code",
   "execution_count": 2,
   "metadata": {},
   "outputs": [],
   "source": [
    "# загрузим подготовленную обучающую выборку\n",
    "train = pd.read_feather(input_path + 'train.feather')"
   ]
  },
  {
   "cell_type": "code",
   "execution_count": 3,
   "metadata": {},
   "outputs": [],
   "source": [
    "# загрузим подготовленную валидационную выборку\n",
    "test = pd.read_feather(input_path + 'test.feather')"
   ]
  },
  {
   "cell_type": "markdown",
   "metadata": {},
   "source": [
    "## Можем ли построить рекомендации по названию товаров?\n",
    "    Названия товаров не содержат достаточно семантической информации, кроме некоторых товаров типа \"шприц одноразовый\" или \"пакет-майка\". В большей степени названия товаров будут являться индентификаторами, такими же как 'product_id'. Так как у нас нет корпуса текста из которого было бы ясно, что, например, Левофлоксацин  это аналог Таваника, а Аспирин - тоже самое что Ацетилсалициловая кислота.  К тому же контекст в названии товара практически отсутствует, так что модель скорее всего не сможет найти адекватные эмбеддинги. Если бы товары содержали подробные описания и  предназначения то осмысленность таких рекомендаций повысилась. Однако все же построим  контентные рекомендации по названиям товаров в корзине, чтобы убедиться в вышесказанном. "
   ]
  },
  {
   "cell_type": "markdown",
   "metadata": {},
   "source": [
    "### Word2Vec"
   ]
  },
  {
   "cell_type": "markdown",
   "metadata": {},
   "source": [
    "Обучение модели на корпусе названий продуктов из обучающей выборки - очень ресурсоемко и затратно. Модель word2vec учитывает частотность слов, но у нас одинаковые названия продуктов и поэтому не имеет смысла их дублировать по сотне раз. Разумнее обучить модель на корпусе названий из словаря 'Product_dict'."
   ]
  },
  {
   "cell_type": "markdown",
   "metadata": {},
   "source": [
    "#### Обучаем на корпусе предложений из словаря Product_dict"
   ]
  },
  {
   "cell_type": "code",
   "execution_count": 12,
   "metadata": {},
   "outputs": [],
   "source": [
    "with open(input_path+'Product_dict.pkl', 'rb') as f:\n",
    "    product_dict = pickle.load(f)\n",
    "p_d = pd.DataFrame.from_dict(product_dict, orient='index').reset_index()\n",
    "p_d.columns = ['product_id', 'name']\n",
    "# отделим артикул в скобках от текста названия\n",
    "p_d['name'] = p_d['name'].apply(lambda x: ' '.join(x.strip().split()[1:]))\n",
    "# почистим датасет от неопределенных \"названий\"\n",
    "p_d = p_d.drop(p_d[p_d['name'] == 'название -1'].index)\n",
    "p_d = p_d.drop(p_d[p_d['name'] == '-1'].index)\n",
    "p_d = p_d.drop_duplicates('name').reset_index(drop=True)"
   ]
  },
  {
   "cell_type": "code",
   "execution_count": 13,
   "metadata": {},
   "outputs": [],
   "source": [
    "# Для фильтрации пунктуации\n",
    "exclude = set(string.punctuation)\n",
    "# Для приведения слов в начальной форме\n",
    "morpher = MorphAnalyzer()\n",
    "\n",
    "\n",
    "# Для фильтрации стоп-слов\n",
    "sw = set(get_stop_words(\"ru\"))\n",
    "\n",
    "\n",
    "def preprocess_txt(line):\n",
    "    spls = \"\".join(i for i in line.strip() if i not in exclude).split()\n",
    "    spls = [morpher.parse(i.lower())[0].normal_form for i in spls]\n",
    "    spls = [i for i in spls if i not in sw and i != \"\"]\n",
    "    return spls"
   ]
  },
  {
   "cell_type": "code",
   "execution_count": 14,
   "metadata": {},
   "outputs": [
    {
     "data": {
      "application/vnd.jupyter.widget-view+json": {
       "model_id": "dd2a177b54964e409a75bf3e5b40166f",
       "version_major": 2,
       "version_minor": 0
      },
      "text/plain": [
       "  0%|          | 0/27493 [00:00<?, ?it/s]"
      ]
     },
     "metadata": {},
     "output_type": "display_data"
    }
   ],
   "source": [
    "# Загрузим названия товаров и преобразуем к нормализованному виду\n",
    "items = p_d.copy()\n",
    "items['name'] = items['name'].progress_apply(lambda x: preprocess_txt(str(x)))"
   ]
  },
  {
   "cell_type": "code",
   "execution_count": 15,
   "metadata": {},
   "outputs": [],
   "source": [
    "sentences = [i for i in items['name'] if len(i) > 2]"
   ]
  },
  {
   "cell_type": "code",
   "execution_count": 16,
   "metadata": {},
   "outputs": [],
   "source": [
    "# Обучим модель fasttext на названиях товаров\n",
    "modelFT = FastText(sentences=sentences, vector_size=20, min_count=1, window=50)"
   ]
  },
  {
   "cell_type": "code",
   "execution_count": 17,
   "metadata": {},
   "outputs": [
    {
     "data": {
      "application/vnd.jupyter.widget-view+json": {
       "model_id": "a6c78a25787542e6a02201f5b1b3a46b",
       "version_major": 2,
       "version_minor": 0
      },
      "text/plain": [
       "  0%|          | 0/27493 [00:00<?, ?it/s]"
      ]
     },
     "metadata": {},
     "output_type": "display_data"
    },
    {
     "data": {
      "text/plain": [
       "True"
      ]
     },
     "execution_count": 17,
     "metadata": {},
     "output_type": "execute_result"
    }
   ],
   "source": [
    "# Для того, чтобы быстро находить айтемы положим эмбединги их тайтлов в ANN индекс\n",
    "# Создадим объект индекса\n",
    "ft_index_items = annoy.AnnoyIndex(20, 'angular')\n",
    "\n",
    "index_map_items = {}\n",
    "counter = 0\n",
    "\n",
    "for i in tqdm(range(len(items))):\n",
    "    n_ft = 0\n",
    "    index_map_items[counter] = (\n",
    "        items.loc[i, \"name\"], items.loc[i, \"product_id\"])\n",
    "    vector_ft = np.zeros(20)\n",
    "    # Каждое слово обернем в эмбеддинг\n",
    "    for word in items.loc[i, \"name\"]:\n",
    "        if word in modelFT.wv.key_to_index:\n",
    "            vector_ft += modelFT.wv[word]\n",
    "            n_ft += 1\n",
    "    if n_ft > 0:\n",
    "        vector_ft = vector_ft / n_ft\n",
    "    ft_index_items.add_item(counter, vector_ft)\n",
    "    counter += 1\n",
    "\n",
    "ft_index_items.build(10)"
   ]
  },
  {
   "cell_type": "markdown",
   "metadata": {},
   "source": [
    "Мне не удалось придумать (а также найти в литературе) как можно оценить качество этой модели, кроме как на глаз."
   ]
  },
  {
   "cell_type": "code",
   "execution_count": 18,
   "metadata": {},
   "outputs": [],
   "source": [
    "# Попробуем порекомендовать.Оценка качества \"На глаз\"\n",
    "\n",
    "\n",
    "def recommend_by_id(item_id):\n",
    "    # Получим тайтл айтема по идентификатору\n",
    "    name = p_d.loc[p_d['product_id'] == item_id, 'name'].values[0]\n",
    "    print(name)\n",
    "    name = preprocess_txt(name)\n",
    "\n",
    "    vector_ft = np.zeros(20)\n",
    "    n_ft = 0\n",
    "    # Каждое слово обернем в эмбеддинг\n",
    "    for word in name:\n",
    "        if word in modelFT.wv.key_to_index:\n",
    "            vector_ft += modelFT.wv[word]\n",
    "            n_ft += 1\n",
    "    if n_ft > 0:\n",
    "        vector_ft = vector_ft / n_ft\n",
    "    # Найдем ближайшие по тайтлу\n",
    "    rec_items = ft_index_items.get_nns_by_vector(\n",
    "        vector_ft, 5, include_distances=False)\n",
    "    return [index_map_items[i][0] for i in rec_items]"
   ]
  },
  {
   "cell_type": "code",
   "execution_count": 19,
   "metadata": {},
   "outputs": [
    {
     "data": {
      "text/html": [
       "<div>\n",
       "<style scoped>\n",
       "    .dataframe tbody tr th:only-of-type {\n",
       "        vertical-align: middle;\n",
       "    }\n",
       "\n",
       "    .dataframe tbody tr th {\n",
       "        vertical-align: top;\n",
       "    }\n",
       "\n",
       "    .dataframe thead th {\n",
       "        text-align: right;\n",
       "    }\n",
       "</style>\n",
       "<table border=\"1\" class=\"dataframe\">\n",
       "  <thead>\n",
       "    <tr style=\"text-align: right;\">\n",
       "      <th></th>\n",
       "      <th>product_id</th>\n",
       "      <th>name</th>\n",
       "    </tr>\n",
       "  </thead>\n",
       "  <tbody>\n",
       "    <tr>\n",
       "      <th>0</th>\n",
       "      <td>168308</td>\n",
       "      <td>Пакет-майка 25см х 45см 906</td>\n",
       "    </tr>\n",
       "  </tbody>\n",
       "</table>\n",
       "</div>"
      ],
      "text/plain": [
       "  product_id                         name\n",
       "0     168308  Пакет-майка 25см х 45см 906"
      ]
     },
     "execution_count": 19,
     "metadata": {},
     "output_type": "execute_result"
    }
   ],
   "source": [
    "p_d[p_d.product_id == '168308']"
   ]
  },
  {
   "cell_type": "code",
   "execution_count": 20,
   "metadata": {},
   "outputs": [
    {
     "name": "stdout",
     "output_type": "stream",
     "text": [
      "Пакет-майка 25см х 45см 906\n"
     ]
    },
    {
     "data": {
      "text/plain": [
       "[['пакетмайк', '25см', 'х', '45см', '906'],\n",
       " ['пакетмайк', '40см', 'х', '70см', '906'],\n",
       " ['пакет', '30см', 'х', '60см', '906'],\n",
       " ['пакет', '20см', 'х', '30см', '906'],\n",
       " ['пакет', '28см', 'х', '50см', '906']]"
      ]
     },
     "execution_count": 20,
     "metadata": {},
     "output_type": "execute_result"
    }
   ],
   "source": [
    "recommend_by_id('168308')"
   ]
  },
  {
   "cell_type": "code",
   "execution_count": 21,
   "metadata": {},
   "outputs": [],
   "source": [
    "# Попробуем порекомендовать.Оценка качества \"На глаз\"\n",
    "\n",
    "\n",
    "def recommend_by_name(name):\n",
    "    # Получим тайтл айтема по идентификатору\n",
    "\n",
    "    print(name)\n",
    "    name = preprocess_txt(name)\n",
    "\n",
    "    vector_ft = np.zeros(20)\n",
    "    n_ft = 0\n",
    "    # Каждое слово обернем в эмбеддинг\n",
    "    for word in name:\n",
    "        if word in modelFT.wv.key_to_index:\n",
    "            vector_ft += modelFT.wv[word]\n",
    "            n_ft += 1\n",
    "    if n_ft > 0:\n",
    "        vector_ft = vector_ft / n_ft\n",
    "    # Найдем ближайшие по тайтлу\n",
    "    rec_items = ft_index_items.get_nns_by_vector(\n",
    "        vector_ft, 5, include_distances=False)\n",
    "    return [index_map_items[i][0] for i in rec_items]"
   ]
  },
  {
   "cell_type": "code",
   "execution_count": 22,
   "metadata": {},
   "outputs": [
    {
     "name": "stdout",
     "output_type": "stream",
     "text": [
      "шприц одноразовый\n"
     ]
    },
    {
     "data": {
      "text/plain": [
       "[['шприц', 'одноразовый', 'sf', 'medical', '3комп2мл', '№1стм', '762'],\n",
       " ['шприц', 'одноразовый', 'игла', '3комп10мл', 'уп', 'n100', '762'],\n",
       " ['шприц', 'одноразовый', 'sf', 'medical', '3комп3мл', '№1стм', '762'],\n",
       " ['шприц', 'одноразовый', '3комп2мл', 'игла', '23g', '№1', '1'],\n",
       " ['шприц', 'инсулин', 'игла', '3комп', 'n1', '1']]"
      ]
     },
     "execution_count": 22,
     "metadata": {},
     "output_type": "execute_result"
    }
   ],
   "source": [
    "recommend_by_name('шприц одноразовый')"
   ]
  },
  {
   "cell_type": "code",
   "execution_count": 23,
   "metadata": {},
   "outputs": [
    {
     "name": "stdout",
     "output_type": "stream",
     "text": [
      "пакет-майка\n"
     ]
    },
    {
     "data": {
      "text/plain": [
       "[['пакет', 'упакпрозрс', 'голографичрисунок', '906'],\n",
       " ['пакет', '30х40', '906'],\n",
       " ['подгузник',\n",
       "  'памперс',\n",
       "  'премиум',\n",
       "  'кэа',\n",
       "  'ньюборн',\n",
       "  '25кг',\n",
       "  'уп',\n",
       "  '№20',\n",
       "  '807'],\n",
       " ['тампон', 'котекс', 'супер', 'уп', '№16', '8', 'промоуп', '558'],\n",
       " ['тампон', 'котекс', 'супер', 'уп', '№16', '558']]"
      ]
     },
     "execution_count": 23,
     "metadata": {},
     "output_type": "execute_result"
    }
   ],
   "source": [
    "recommend_by_name('пакет-майка')"
   ]
  },
  {
   "cell_type": "code",
   "execution_count": 24,
   "metadata": {},
   "outputs": [
    {
     "data": {
      "text/html": [
       "<div>\n",
       "<style scoped>\n",
       "    .dataframe tbody tr th:only-of-type {\n",
       "        vertical-align: middle;\n",
       "    }\n",
       "\n",
       "    .dataframe tbody tr th {\n",
       "        vertical-align: top;\n",
       "    }\n",
       "\n",
       "    .dataframe thead th {\n",
       "        text-align: right;\n",
       "    }\n",
       "</style>\n",
       "<table border=\"1\" class=\"dataframe\">\n",
       "  <thead>\n",
       "    <tr style=\"text-align: right;\">\n",
       "      <th></th>\n",
       "      <th>product_id</th>\n",
       "      <th>name</th>\n",
       "    </tr>\n",
       "  </thead>\n",
       "  <tbody>\n",
       "    <tr>\n",
       "      <th>2788</th>\n",
       "      <td>25485</td>\n",
       "      <td>Аспирин-C Байер таб.шип.№10 397</td>\n",
       "    </tr>\n",
       "    <tr>\n",
       "      <th>4616</th>\n",
       "      <td>140636</td>\n",
       "      <td>Аспирин Экспресс таб.д/приг.шипучего напитка 5...</td>\n",
       "    </tr>\n",
       "    <tr>\n",
       "      <th>4717</th>\n",
       "      <td>93668</td>\n",
       "      <td>Аспирин Кардио табл. п.о. раствор./кишечн. 100...</td>\n",
       "    </tr>\n",
       "    <tr>\n",
       "      <th>7899</th>\n",
       "      <td>112932</td>\n",
       "      <td>Аспирин Комплекс пор.шипуч.д/приг.р-ра №10 703</td>\n",
       "    </tr>\n",
       "    <tr>\n",
       "      <th>10486</th>\n",
       "      <td>67454</td>\n",
       "      <td>Аспирин Кардио табл. п.о. раствор./кишечн. 300...</td>\n",
       "    </tr>\n",
       "    <tr>\n",
       "      <th>18957</th>\n",
       "      <td>145313</td>\n",
       "      <td>Аспирин Кардио табл. п.о. раствор./кишечн. 100...</td>\n",
       "    </tr>\n",
       "    <tr>\n",
       "      <th>20534</th>\n",
       "      <td>44433</td>\n",
       "      <td>Аспирин Кардио табл. п.о. раствор./кишечн. 100...</td>\n",
       "    </tr>\n",
       "  </tbody>\n",
       "</table>\n",
       "</div>"
      ],
      "text/plain": [
       "      product_id                                               name\n",
       "2788       25485                    Аспирин-C Байер таб.шип.№10 397\n",
       "4616      140636  Аспирин Экспресс таб.д/приг.шипучего напитка 5...\n",
       "4717       93668  Аспирин Кардио табл. п.о. раствор./кишечн. 100...\n",
       "7899      112932     Аспирин Комплекс пор.шипуч.д/приг.р-ра №10 703\n",
       "10486      67454  Аспирин Кардио табл. п.о. раствор./кишечн. 300...\n",
       "18957     145313  Аспирин Кардио табл. п.о. раствор./кишечн. 100...\n",
       "20534      44433  Аспирин Кардио табл. п.о. раствор./кишечн. 100..."
      ]
     },
     "execution_count": 24,
     "metadata": {},
     "output_type": "execute_result"
    }
   ],
   "source": [
    "p_d[p_d.name.str.lower().str.contains('аспирин')]"
   ]
  },
  {
   "cell_type": "code",
   "execution_count": 25,
   "metadata": {},
   "outputs": [
    {
     "name": "stdout",
     "output_type": "stream",
     "text": [
      "Аспирин Кардио табл. п.о. раствор./кишечн. 100 мг. №28 738\n"
     ]
    },
    {
     "data": {
      "text/plain": [
       "[['аспирин', 'кардио', 'табла', 'растворкишечн', '100', 'мг', '№28', '738'],\n",
       " ['лирика', 'капс', '25', 'мг', '№14', '641'],\n",
       " ['варфарин', 'никомёд', 'табла', '25', 'мг', '№100', '738'],\n",
       " ['аромазин', 'табла', '25', 'мг', '№30', '642'],\n",
       " ['варфарин', 'никомёд', 'табла', '25', 'мг', '№50', '738']]"
      ]
     },
     "execution_count": 25,
     "metadata": {},
     "output_type": "execute_result"
    }
   ],
   "source": [
    "recommend_by_id('145313')"
   ]
  },
  {
   "cell_type": "code",
   "execution_count": 26,
   "metadata": {},
   "outputs": [
    {
     "name": "stdout",
     "output_type": "stream",
     "text": [
      "Аспирин Кардио табл. п.о. раствор./кишечн. 300 мг. №20 648\n"
     ]
    },
    {
     "data": {
      "text/plain": [
       "[['аспирин', 'кардио', 'табла', 'растворкишечн', '300', 'мг', '№20', '648'],\n",
       " ['леркамена', '20', 'табла', '20', 'мг', '№28', '738'],\n",
       " ['кальцийсандоза', 'форт', 'табла', 'шип', '1000', 'мг', '№20', '644'],\n",
       " ['кардосало', '20', 'табла', 'ппо', '20', 'мг', '№28', '738'],\n",
       " ['нолицин', 'табла', '400', 'мг', '№20', '403']]"
      ]
     },
     "execution_count": 26,
     "metadata": {},
     "output_type": "execute_result"
    }
   ],
   "source": [
    "recommend_by_name('Аспирин Кардио табл. п.о. раствор./кишечн. 300 мг. №20 648')"
   ]
  },
  {
   "cell_type": "markdown",
   "metadata": {},
   "source": [
    "#### Очевидно, что модель плохо находит даже похожие названия."
   ]
  },
  {
   "cell_type": "markdown",
   "metadata": {},
   "source": [
    "### Item2Vec"
   ]
  },
  {
   "cell_type": "markdown",
   "metadata": {},
   "source": [
    "Примем каждый товар (вернее его ID) в качестве слова, а последовательность приобретенных товаров предположительно одним покупателем или \"чек\" в качестве предложения или текста. Тогда применяя word2vec подход можно получить эмбеддинги товаров и использовать полученные веса модели для выявления 'complementary' товаров для товаров находящихся в одном чеке."
   ]
  },
  {
   "cell_type": "code",
   "execution_count": 6,
   "metadata": {},
   "outputs": [
    {
     "data": {
      "text/html": [
       "<div>\n",
       "<style scoped>\n",
       "    .dataframe tbody tr th:only-of-type {\n",
       "        vertical-align: middle;\n",
       "    }\n",
       "\n",
       "    .dataframe tbody tr th {\n",
       "        vertical-align: top;\n",
       "    }\n",
       "\n",
       "    .dataframe thead th {\n",
       "        text-align: right;\n",
       "    }\n",
       "</style>\n",
       "<table border=\"1\" class=\"dataframe\">\n",
       "  <thead>\n",
       "    <tr style=\"text-align: right;\">\n",
       "      <th></th>\n",
       "      <th>check_id</th>\n",
       "      <th>sale_date_date</th>\n",
       "      <th>contact_id</th>\n",
       "      <th>shop_id</th>\n",
       "      <th>product_id</th>\n",
       "      <th>name</th>\n",
       "      <th>product_sub_category_id</th>\n",
       "      <th>product_category_id</th>\n",
       "      <th>brand_id</th>\n",
       "      <th>quantity</th>\n",
       "    </tr>\n",
       "  </thead>\n",
       "  <tbody>\n",
       "    <tr>\n",
       "      <th>0</th>\n",
       "      <td>99776</td>\n",
       "      <td>2018-01-01</td>\n",
       "      <td>232155</td>\n",
       "      <td>145</td>\n",
       "      <td>124157</td>\n",
       "      <td>Презервативы Ультратонкие №12</td>\n",
       "      <td>691</td>\n",
       "      <td>161</td>\n",
       "      <td>2486</td>\n",
       "      <td>1,00</td>\n",
       "    </tr>\n",
       "    <tr>\n",
       "      <th>1</th>\n",
       "      <td>176107</td>\n",
       "      <td>2018-01-01</td>\n",
       "      <td>718367</td>\n",
       "      <td>101</td>\n",
       "      <td>114973</td>\n",
       "      <td>Средство гигиенич. д/промывания носоглотки д/д...</td>\n",
       "      <td>698</td>\n",
       "      <td>162</td>\n",
       "      <td>-1</td>\n",
       "      <td>1,00</td>\n",
       "    </tr>\n",
       "    <tr>\n",
       "      <th>2</th>\n",
       "      <td>176106</td>\n",
       "      <td>2018-01-01</td>\n",
       "      <td>847586</td>\n",
       "      <td>247</td>\n",
       "      <td>112234</td>\n",
       "      <td>для детей сусп.д/приема внутрь 100мг/5мл фл.20...</td>\n",
       "      <td>703</td>\n",
       "      <td>162</td>\n",
       "      <td>-1</td>\n",
       "      <td>1,00</td>\n",
       "    </tr>\n",
       "    <tr>\n",
       "      <th>3</th>\n",
       "      <td>176106</td>\n",
       "      <td>2018-01-01</td>\n",
       "      <td>847586</td>\n",
       "      <td>247</td>\n",
       "      <td>62007</td>\n",
       "      <td>тб жеват б/сахара мятн 80мг N24</td>\n",
       "      <td>595</td>\n",
       "      <td>135</td>\n",
       "      <td>-1</td>\n",
       "      <td>1,00</td>\n",
       "    </tr>\n",
       "    <tr>\n",
       "      <th>4</th>\n",
       "      <td>176105</td>\n",
       "      <td>2018-01-01</td>\n",
       "      <td>42544</td>\n",
       "      <td>101</td>\n",
       "      <td>61290</td>\n",
       "      <td>сироп д/младенцев фл с дозатором 15мл №1</td>\n",
       "      <td>597</td>\n",
       "      <td>135</td>\n",
       "      <td>-1</td>\n",
       "      <td>1,00</td>\n",
       "    </tr>\n",
       "  </tbody>\n",
       "</table>\n",
       "</div>"
      ],
      "text/plain": [
       "   check_id sale_date_date  contact_id  shop_id product_id  \\\n",
       "0     99776     2018-01-01      232155      145     124157   \n",
       "1    176107     2018-01-01      718367      101     114973   \n",
       "2    176106     2018-01-01      847586      247     112234   \n",
       "3    176106     2018-01-01      847586      247      62007   \n",
       "4    176105     2018-01-01       42544      101      61290   \n",
       "\n",
       "                                                name  product_sub_category_id  \\\n",
       "0                      Презервативы Ультратонкие №12                      691   \n",
       "1  Средство гигиенич. д/промывания носоглотки д/д...                      698   \n",
       "2  для детей сусп.д/приема внутрь 100мг/5мл фл.20...                      703   \n",
       "3                    тб жеват б/сахара мятн 80мг N24                      595   \n",
       "4           сироп д/младенцев фл с дозатором 15мл №1                      597   \n",
       "\n",
       "   product_category_id  brand_id quantity  \n",
       "0                  161      2486     1,00  \n",
       "1                  162        -1     1,00  \n",
       "2                  162        -1     1,00  \n",
       "3                  135        -1     1,00  \n",
       "4                  135        -1     1,00  "
      ]
     },
     "execution_count": 6,
     "metadata": {},
     "output_type": "execute_result"
    }
   ],
   "source": [
    "train.head()"
   ]
  },
  {
   "cell_type": "code",
   "execution_count": 7,
   "metadata": {},
   "outputs": [
    {
     "data": {
      "text/plain": [
       "check_id                   13541017\n",
       "sale_date_date             13541017\n",
       "contact_id                 13541017\n",
       "shop_id                    13541017\n",
       "product_id                 13541017\n",
       "name                       13541017\n",
       "product_sub_category_id    13541017\n",
       "product_category_id        13541017\n",
       "brand_id                   13541017\n",
       "quantity                   13541017\n",
       "dtype: int64"
      ]
     },
     "execution_count": 7,
     "metadata": {},
     "output_type": "execute_result"
    }
   ],
   "source": [
    "train.count()"
   ]
  },
  {
   "cell_type": "code",
   "execution_count": 8,
   "metadata": {},
   "outputs": [],
   "source": [
    "train = train.drop_duplicates()"
   ]
  },
  {
   "cell_type": "code",
   "execution_count": 9,
   "metadata": {},
   "outputs": [
    {
     "data": {
      "text/plain": [
       "check_id                   13538475\n",
       "sale_date_date             13538475\n",
       "contact_id                 13538475\n",
       "shop_id                    13538475\n",
       "product_id                 13538475\n",
       "name                       13538475\n",
       "product_sub_category_id    13538475\n",
       "product_category_id        13538475\n",
       "brand_id                   13538475\n",
       "quantity                   13538475\n",
       "dtype: int64"
      ]
     },
     "execution_count": 9,
     "metadata": {},
     "output_type": "execute_result"
    }
   ],
   "source": [
    "train.count()"
   ]
  },
  {
   "cell_type": "code",
   "execution_count": 76,
   "metadata": {},
   "outputs": [
    {
     "data": {
      "application/vnd.jupyter.widget-view+json": {
       "model_id": "6db9104733b643078fd54024e6107332",
       "version_major": 2,
       "version_minor": 0
      },
      "text/plain": [
       "  0%|          | 0/13465470 [00:00<?, ?it/s]"
      ]
     },
     "metadata": {},
     "output_type": "display_data"
    }
   ],
   "source": [
    "checks_train = train.groupby(['check_id'])['product_id'].progress_apply(list)"
   ]
  },
  {
   "cell_type": "code",
   "execution_count": 77,
   "metadata": {},
   "outputs": [
    {
     "data": {
      "text/plain": [
       "check_id\n",
       "0            [90546]\n",
       "1            [72074]\n",
       "2           [111277]\n",
       "3            [83335]\n",
       "4            [73855]\n",
       "              ...   \n",
       "14305132    [117333]\n",
       "14305133     [41844]\n",
       "14305134     [68751]\n",
       "14305135     [85121]\n",
       "14305136    [138857]\n",
       "Name: product_id, Length: 13465470, dtype: object"
      ]
     },
     "execution_count": 77,
     "metadata": {},
     "output_type": "execute_result"
    }
   ],
   "source": [
    "checks_train"
   ]
  },
  {
   "cell_type": "code",
   "execution_count": 16,
   "metadata": {},
   "outputs": [],
   "source": [
    "# Отбросим чеки с единичными покупками\n",
    "checks_train = checks_train[checks_train.str.len() > 1]"
   ]
  },
  {
   "cell_type": "code",
   "execution_count": 19,
   "metadata": {},
   "outputs": [
    {
     "data": {
      "text/plain": [
       "check_id\n",
       "8244          [78049, 64731]\n",
       "11100        [124263, 67974]\n",
       "13526         [53850, 65540]\n",
       "13884         [79147, 52938]\n",
       "16706        [53488, 114869]\n",
       "                  ...       \n",
       "14300856    [127232, 142404]\n",
       "14302357     [127243, 21252]\n",
       "14303932     [76420, 126741]\n",
       "14303965      [43401, 79724]\n",
       "14304386      [65702, 41353]\n",
       "Name: product_id, Length: 59614, dtype: object"
      ]
     },
     "execution_count": 19,
     "metadata": {},
     "output_type": "execute_result"
    }
   ],
   "source": [
    "checks_train"
   ]
  },
  {
   "cell_type": "code",
   "execution_count": 80,
   "metadata": {},
   "outputs": [],
   "source": [
    "# checks_train = pd.Series(checks_train.values)\n",
    "with open(input_path+'checks_train.pkl', 'wb') as f:\n",
    "    pickle.dump(checks_train, f)"
   ]
  },
  {
   "cell_type": "code",
   "execution_count": 12,
   "metadata": {},
   "outputs": [],
   "source": [
    "with open(input_path+'checks_train.pkl', 'rb') as f:\n",
    "    checks_train = pickle.load(f)"
   ]
  },
  {
   "cell_type": "code",
   "execution_count": 13,
   "metadata": {},
   "outputs": [
    {
     "name": "stdout",
     "output_type": "stream",
     "text": [
      "112\n"
     ]
    }
   ],
   "source": [
    "# GET SENTENCES\n",
    "sentences = checks_train\n",
    "longest = np.max(sentences.apply(len))\n",
    "sentences = sentences.values\n",
    "print(longest)"
   ]
  },
  {
   "cell_type": "code",
   "execution_count": 14,
   "metadata": {},
   "outputs": [
    {
     "data": {
      "text/plain": [
       "59614"
      ]
     },
     "execution_count": 14,
     "metadata": {},
     "output_type": "execute_result"
    }
   ],
   "source": [
    "len(sentences)"
   ]
  },
  {
   "cell_type": "markdown",
   "metadata": {},
   "source": [
    "#### THE MODEL"
   ]
  },
  {
   "cell_type": "code",
   "execution_count": 15,
   "metadata": {},
   "outputs": [
    {
     "name": "stdout",
     "output_type": "stream",
     "text": [
      "7508\n"
     ]
    }
   ],
   "source": [
    "import gensim\n",
    "\n",
    "# set the model\n",
    "window_size = longest\n",
    "epochs = 5\n",
    "embedding_size = 100\n",
    "min_count = 3  # Drop infrequent items in dataset\n",
    "number_of_negative_samples = 7\n",
    "ns_exponent = 0\n",
    "\n",
    "model = gensim.models.Word2Vec(sentences, sg=1, vector_size=embedding_size, window=window_size, min_count=min_count,\n",
    "                               workers=4, hs=0, negative=number_of_negative_samples, ns_exponent=ns_exponent, epochs=epochs)\n",
    "model.save(input_path+'model18')\n",
    "\n",
    "vocab_size = len(model.wv.key_to_index)\n",
    "print(vocab_size)"
   ]
  },
  {
   "cell_type": "code",
   "execution_count": 16,
   "metadata": {},
   "outputs": [
    {
     "data": {
      "application/vnd.jupyter.widget-view+json": {
       "model_id": "083172bcb12c42568687136d089f8d84",
       "version_major": 2,
       "version_minor": 0
      },
      "text/plain": [
       "  0%|          | 0/7508 [00:00<?, ?it/s]"
      ]
     },
     "metadata": {},
     "output_type": "display_data"
    },
    {
     "data": {
      "text/plain": [
       "True"
      ]
     },
     "execution_count": 16,
     "metadata": {},
     "output_type": "execute_result"
    }
   ],
   "source": [
    "from annoy import AnnoyIndex\n",
    "\n",
    "# Для того, чтобы быстро находить айтемы положим эмбединги их тайтлов в ANN индекс\n",
    "# Создадим объект индекса\n",
    "\n",
    "embedding_size = 100\n",
    "ft_index_items = AnnoyIndex(embedding_size, 'angular')\n",
    "\n",
    "index_map_items = {}\n",
    "counter = 0\n",
    "\n",
    "\n",
    "for vec in tqdm(model.wv.key_to_index.items()):\n",
    "    n_ft = 0\n",
    "\n",
    "    vector_ft = np.zeros(embedding_size)\n",
    "    product = vec[0]\n",
    "    wv_idx = vec[1]\n",
    "    index_map_items[counter] = product\n",
    "\n",
    "    # Получим \"complementary\" эмбеддинг\n",
    "    # (для  \"similar\" нужно писать model.wv[wv_idx])\n",
    "    vector_ft = model.syn1neg[wv_idx]\n",
    "\n",
    "    ft_index_items.add_item(counter, vector_ft)\n",
    "    counter += 1\n",
    "ft_index_items.build(10)"
   ]
  },
  {
   "cell_type": "markdown",
   "metadata": {},
   "source": [
    "### Evaluation"
   ]
  },
  {
   "cell_type": "code",
   "execution_count": 19,
   "metadata": {},
   "outputs": [
    {
     "data": {
      "text/html": [
       "<div>\n",
       "<style scoped>\n",
       "    .dataframe tbody tr th:only-of-type {\n",
       "        vertical-align: middle;\n",
       "    }\n",
       "\n",
       "    .dataframe tbody tr th {\n",
       "        vertical-align: top;\n",
       "    }\n",
       "\n",
       "    .dataframe thead th {\n",
       "        text-align: right;\n",
       "    }\n",
       "</style>\n",
       "<table border=\"1\" class=\"dataframe\">\n",
       "  <thead>\n",
       "    <tr style=\"text-align: right;\">\n",
       "      <th></th>\n",
       "      <th>check_id</th>\n",
       "      <th>sale_date_date</th>\n",
       "      <th>contact_id</th>\n",
       "      <th>shop_id</th>\n",
       "      <th>product_id</th>\n",
       "      <th>name</th>\n",
       "      <th>product_sub_category_id</th>\n",
       "      <th>product_category_id</th>\n",
       "      <th>brand_id</th>\n",
       "      <th>quantity</th>\n",
       "    </tr>\n",
       "  </thead>\n",
       "  <tbody>\n",
       "    <tr>\n",
       "      <th>0</th>\n",
       "      <td>12445782</td>\n",
       "      <td>2018-06-08</td>\n",
       "      <td>499581</td>\n",
       "      <td>266</td>\n",
       "      <td>25575</td>\n",
       "      <td>Гексал таб.10мг №50</td>\n",
       "      <td>738</td>\n",
       "      <td>170</td>\n",
       "      <td>-1</td>\n",
       "      <td>1,00</td>\n",
       "    </tr>\n",
       "    <tr>\n",
       "      <th>1</th>\n",
       "      <td>12445795</td>\n",
       "      <td>2018-06-08</td>\n",
       "      <td>1128997</td>\n",
       "      <td>346</td>\n",
       "      <td>50906</td>\n",
       "      <td>сироп 15 мг/5 мл. фл. 100 мл. с мерн. стак.</td>\n",
       "      <td>700</td>\n",
       "      <td>162</td>\n",
       "      <td>-1</td>\n",
       "      <td>1,00</td>\n",
       "    </tr>\n",
       "    <tr>\n",
       "      <th>2</th>\n",
       "      <td>12445794</td>\n",
       "      <td>2018-06-08</td>\n",
       "      <td>1074123</td>\n",
       "      <td>608</td>\n",
       "      <td>161495</td>\n",
       "      <td>спрей наз. 0,1% фл.15мл</td>\n",
       "      <td>701</td>\n",
       "      <td>162</td>\n",
       "      <td>-1</td>\n",
       "      <td>1,00</td>\n",
       "    </tr>\n",
       "    <tr>\n",
       "      <th>3</th>\n",
       "      <td>12445793</td>\n",
       "      <td>2018-06-08</td>\n",
       "      <td>55296</td>\n",
       "      <td>151</td>\n",
       "      <td>151429</td>\n",
       "      <td>Кло таб.п.п.о. 40мг+12,5мг №28</td>\n",
       "      <td>738</td>\n",
       "      <td>170</td>\n",
       "      <td>-1</td>\n",
       "      <td>1,00</td>\n",
       "    </tr>\n",
       "    <tr>\n",
       "      <th>4</th>\n",
       "      <td>12445792</td>\n",
       "      <td>2018-06-08</td>\n",
       "      <td>522930</td>\n",
       "      <td>326</td>\n",
       "      <td>64731</td>\n",
       "      <td>А таб.п.п.о.2,5мг+0,625мг №30</td>\n",
       "      <td>738</td>\n",
       "      <td>170</td>\n",
       "      <td>-1</td>\n",
       "      <td>1,00</td>\n",
       "    </tr>\n",
       "  </tbody>\n",
       "</table>\n",
       "</div>"
      ],
      "text/plain": [
       "   check_id sale_date_date  contact_id  shop_id product_id  \\\n",
       "0  12445782     2018-06-08      499581      266      25575   \n",
       "1  12445795     2018-06-08     1128997      346      50906   \n",
       "2  12445794     2018-06-08     1074123      608     161495   \n",
       "3  12445793     2018-06-08       55296      151     151429   \n",
       "4  12445792     2018-06-08      522930      326      64731   \n",
       "\n",
       "                                          name  product_sub_category_id  \\\n",
       "0                          Гексал таб.10мг №50                      738   \n",
       "1  сироп 15 мг/5 мл. фл. 100 мл. с мерн. стак.                      700   \n",
       "2                      спрей наз. 0,1% фл.15мл                      701   \n",
       "3               Кло таб.п.п.о. 40мг+12,5мг №28                      738   \n",
       "4                А таб.п.п.о.2,5мг+0,625мг №30                      738   \n",
       "\n",
       "   product_category_id  brand_id quantity  \n",
       "0                  170        -1     1,00  \n",
       "1                  162        -1     1,00  \n",
       "2                  162        -1     1,00  \n",
       "3                  170        -1     1,00  \n",
       "4                  170        -1     1,00  "
      ]
     },
     "execution_count": 19,
     "metadata": {},
     "output_type": "execute_result"
    }
   ],
   "source": [
    "test.head()"
   ]
  },
  {
   "cell_type": "code",
   "execution_count": 20,
   "metadata": {},
   "outputs": [],
   "source": [
    "test = test.drop_duplicates()"
   ]
  },
  {
   "cell_type": "code",
   "execution_count": 29,
   "metadata": {},
   "outputs": [
    {
     "data": {
      "application/vnd.jupyter.widget-view+json": {
       "model_id": "cc7ce93bf675487793c51de74c728d4e",
       "version_major": 2,
       "version_minor": 0
      },
      "text/plain": [
       "  0%|          | 0/1459167 [00:00<?, ?it/s]"
      ]
     },
     "metadata": {},
     "output_type": "display_data"
    }
   ],
   "source": [
    "checks_test = test.groupby(['check_id'])['product_id'].progress_apply(list)"
   ]
  },
  {
   "cell_type": "code",
   "execution_count": 31,
   "metadata": {},
   "outputs": [],
   "source": [
    "# Отбросим чеки с единичными покупками\n",
    "checks_test = checks_test[checks_test.str.len() > 1]"
   ]
  },
  {
   "cell_type": "code",
   "execution_count": 32,
   "metadata": {},
   "outputs": [],
   "source": [
    "# checks_train = pd.Series(checks_train.values)\n",
    "with open(input_path+'checks_test.pkl', 'wb') as f:\n",
    "    pickle.dump(checks_test, f)"
   ]
  },
  {
   "cell_type": "code",
   "execution_count": 17,
   "metadata": {},
   "outputs": [],
   "source": [
    "with open(input_path+'checks_test.pkl', 'rb') as f:\n",
    "    checks_test = pickle.load(f)"
   ]
  },
  {
   "cell_type": "code",
   "execution_count": 5,
   "metadata": {},
   "outputs": [
    {
     "data": {
      "text/plain": [
       "check_id\n",
       "11971028           [116819, 142470]\n",
       "11972589            [122512, 46797]\n",
       "11972616            [118026, 42878]\n",
       "11973244           [124000, 134832]\n",
       "11975976           [134632, 141161]\n",
       "                     ...           \n",
       "14923031            [32659, 124630]\n",
       "14923036    [33239, 133629, 156355]\n",
       "14923038            [83424, 163273]\n",
       "14923040             [35480, 53488]\n",
       "14923043             [81888, 57357]\n",
       "Name: product_id, Length: 30963, dtype: object"
      ]
     },
     "execution_count": 5,
     "metadata": {},
     "output_type": "execute_result"
    }
   ],
   "source": [
    "checks_test"
   ]
  },
  {
   "cell_type": "markdown",
   "metadata": {},
   "source": [
    "### Оценка эффективности рекомендации товара по имеющимся в чеке"
   ]
  },
  {
   "cell_type": "code",
   "execution_count": 18,
   "metadata": {},
   "outputs": [
    {
     "data": {
      "application/vnd.jupyter.widget-view+json": {
       "model_id": "771ab262483f4f218f11797fbad61734",
       "version_major": 2,
       "version_minor": 0
      },
      "text/plain": [
       "0it [00:00, ?it/s]"
      ]
     },
     "metadata": {},
     "output_type": "display_data"
    },
    {
     "name": "stdout",
     "output_type": "stream",
     "text": [
      "Всего чеков 30963\n",
      "Всего полученных рекомендаций товаров 73115\n",
      "Эффективность полученных рекомендаций : 3.1594064145524174\n"
     ]
    }
   ],
   "source": [
    "import time\n",
    "\n",
    "order_count = 0\n",
    "evaluated_order_count = 0\n",
    "hitCount = 0\n",
    "evaluate_min_item_orders = 2\n",
    "\n",
    "\n",
    "start_time = time.time()\n",
    "\n",
    "# Loop Checks\n",
    "\n",
    "for items in tqdm(checks_test.items()):\n",
    "    t0 = time.perf_counter()\n",
    "    order_count += 1\n",
    "\n",
    "    #OrderID and Products\n",
    "    # order_ID = items[0]  # not used\n",
    "    product_IDs = items[1]\n",
    "\n",
    "    # Минимальный размер чека (не меньше двух, иначе не проверим)\n",
    "    if len(product_IDs) < evaluate_min_item_orders:\n",
    "        continue\n",
    "\n",
    "    # Убираем каждый товар из чека и смотрим удалось ли его предсказать по товарам оставшимся в чеке\n",
    "\n",
    "    for i in range(len(product_IDs)):\n",
    "        product_IDs = items[1].copy()\n",
    "        removed_ProductID = product_IDs.pop(i)\n",
    "        averaged_vector_for_products = np.zeros(embedding_size)\n",
    "        n_ft = 0\n",
    "        # Каждое \"слово\"(товар) из оставшихся в чеке  обернем в эмбеддинг\n",
    "        for product_ID in product_IDs:\n",
    "            if product_ID in model.wv.key_to_index:\n",
    "                averaged_vector_for_products += model.wv[product_ID]\n",
    "                n_ft += 1\n",
    "        if n_ft > 0:\n",
    "            averaged_vector_for_products = averaged_vector_for_products / n_ft\n",
    "            \n",
    "        # Составим список рекомендаций из 10 ближайших 'complementary' товаров\n",
    "        rec_items = ft_index_items.get_nns_by_vector(\n",
    "            averaged_vector_for_products, 10, include_distances=True)[0] \n",
    "        recommendations = [index_map_items[recm] for recm in rec_items]\n",
    "\n",
    "        evaluated_order_count += 1\n",
    "        \n",
    "        # если получилось найти \"удаленный\" товар в списке рекомендаций, то засчитываем рекомендацию\n",
    "        if (removed_ProductID in recommendations): \n",
    "            hitCount += 1 # счетчик удачных рекомендаций\n",
    "print(\"Всего чеков\",order_count)\n",
    "print(\"Всего полученных рекомендаций товаров\", evaluated_order_count)\n",
    "print(\"Эффективность полученных рекомендаций :\", hitCount/evaluated_order_count*100)"
   ]
  },
  {
   "cell_type": "markdown",
   "metadata": {},
   "source": [
    "### Заключение.\n",
    "Данный проект оказался для меня наиболее долгим из-за на редкость минималистичной постановки задачи. \n",
    "Плюс в том, что пришлось изучить более 20 статей по темам word2vec, prod2vec, item2vec.\n",
    "Удалось реализовать не только word2vec модель (на основе материалов курса), но и более сложную item2vec c эффективностью рекомендаций около 3%."
   ]
  },
  {
   "cell_type": "code",
   "execution_count": null,
   "metadata": {},
   "outputs": [],
   "source": []
  }
 ],
 "metadata": {
  "kernelspec": {
   "display_name": "Python 3",
   "language": "python",
   "name": "python3"
  },
  "language_info": {
   "codemirror_mode": {
    "name": "ipython",
    "version": 3
   },
   "file_extension": ".py",
   "mimetype": "text/x-python",
   "name": "python",
   "nbconvert_exporter": "python",
   "pygments_lexer": "ipython3",
   "version": "3.7.6"
  }
 },
 "nbformat": 4,
 "nbformat_minor": 2
}
