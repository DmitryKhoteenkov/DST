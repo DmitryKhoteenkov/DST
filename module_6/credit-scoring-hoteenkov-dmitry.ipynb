{
 "cells": [
  {
   "cell_type": "markdown",
   "metadata": {
    "papermill": {
     "duration": 0.041069,
     "end_time": "2021-01-20T12:56:26.042034",
     "exception": false,
     "start_time": "2021-01-20T12:56:26.000965",
     "status": "completed"
    },
    "tags": []
   },
   "source": [
    "# Credit-scoring "
   ]
  },
  {
   "cell_type": "code",
   "execution_count": 1,
   "metadata": {
    "execution": {
     "iopub.execute_input": "2021-01-20T12:56:26.124225Z",
     "iopub.status.busy": "2021-01-20T12:56:26.123539Z",
     "iopub.status.idle": "2021-01-20T12:56:27.426873Z",
     "shell.execute_reply": "2021-01-20T12:56:27.425645Z"
    },
    "papermill": {
     "duration": 1.345492,
     "end_time": "2021-01-20T12:56:27.427052",
     "exception": false,
     "start_time": "2021-01-20T12:56:26.081560",
     "status": "completed"
    },
    "tags": []
   },
   "outputs": [
    {
     "name": "stdout",
     "output_type": "stream",
     "text": [
      "kaggle\\input\\sf-dst-scoring\\sample_submission.csv\n",
      "kaggle\\input\\sf-dst-scoring\\test.csv\n",
      "kaggle\\input\\sf-dst-scoring\\train.csv\n"
     ]
    }
   ],
   "source": [
    "import warnings\n",
    "import numpy as np\n",
    "import pandas as pd\n",
    "from datetime import datetime\n",
    "\n",
    "from pandas import Series\n",
    "\n",
    "import matplotlib.pyplot as plt\n",
    "import seaborn as sns\n",
    "\n",
    "from sklearn.feature_selection import f_classif, mutual_info_classif\n",
    "from sklearn.preprocessing import LabelEncoder, OneHotEncoder, StandardScaler, RobustScaler\n",
    "\n",
    "from sklearn.model_selection import train_test_split, GridSearchCV\n",
    "from sklearn.linear_model import LogisticRegression\n",
    "\n",
    "\n",
    "from sklearn.metrics import accuracy_score, precision_score, recall_score, f1_score, confusion_matrix, plot_confusion_matrix\n",
    "from sklearn.metrics import auc, roc_auc_score, roc_curve, precision_recall_curve, average_precision_score\n",
    "\n",
    "from xgboost import XGBClassifier\n",
    "from sklearn.model_selection import StratifiedKFold\n",
    "from imblearn.under_sampling import RandomUnderSampler\n",
    "\n",
    "import os\n",
    "for dirname, _, filenames in os.walk('kaggle\\input'):\n",
    "    for filename in filenames:\n",
    "        print(os.path.join(dirname, filename))\n",
    "warnings.filterwarnings(\"ignore\")"
   ]
  },
  {
   "cell_type": "code",
   "execution_count": 2,
   "metadata": {
    "execution": {
     "iopub.execute_input": "2021-01-20T12:56:27.513845Z",
     "iopub.status.busy": "2021-01-20T12:56:27.513179Z",
     "iopub.status.idle": "2021-01-20T12:56:30.661815Z",
     "shell.execute_reply": "2021-01-20T12:56:30.661294Z"
    },
    "papermill": {
     "duration": 3.192192,
     "end_time": "2021-01-20T12:56:30.661929",
     "exception": false,
     "start_time": "2021-01-20T12:56:27.469737",
     "status": "completed"
    },
    "tags": []
   },
   "outputs": [],
   "source": [
    "RANDOM_SEED = 42\n",
    "\n",
    "\n",
    "# Импорт и просмотр данных\n",
    "df_train = pd.read_csv(r'.\\kaggle\\input\\sf-dst-scoring\\train.csv')\n",
    "df_test = pd.read_csv(r'.\\kaggle\\input\\sf-dst-scoring\\test.csv')"
   ]
  },
  {
   "cell_type": "code",
   "execution_count": 3,
   "metadata": {},
   "outputs": [
    {
     "data": {
      "text/html": [
       "<div>\n",
       "<style scoped>\n",
       "    .dataframe tbody tr th:only-of-type {\n",
       "        vertical-align: middle;\n",
       "    }\n",
       "\n",
       "    .dataframe tbody tr th {\n",
       "        vertical-align: top;\n",
       "    }\n",
       "\n",
       "    .dataframe thead th {\n",
       "        text-align: right;\n",
       "    }\n",
       "</style>\n",
       "<table border=\"1\" class=\"dataframe\">\n",
       "  <thead>\n",
       "    <tr style=\"text-align: right;\">\n",
       "      <th></th>\n",
       "      <th>client_id</th>\n",
       "      <th>app_date</th>\n",
       "      <th>education</th>\n",
       "      <th>sex</th>\n",
       "      <th>age</th>\n",
       "      <th>car</th>\n",
       "      <th>car_type</th>\n",
       "      <th>decline_app_cnt</th>\n",
       "      <th>good_work</th>\n",
       "      <th>score_bki</th>\n",
       "      <th>bki_request_cnt</th>\n",
       "      <th>region_rating</th>\n",
       "      <th>home_address</th>\n",
       "      <th>work_address</th>\n",
       "      <th>income</th>\n",
       "      <th>sna</th>\n",
       "      <th>first_time</th>\n",
       "      <th>foreign_passport</th>\n",
       "      <th>default</th>\n",
       "    </tr>\n",
       "  </thead>\n",
       "  <tbody>\n",
       "    <tr>\n",
       "      <th>0</th>\n",
       "      <td>25905</td>\n",
       "      <td>01FEB2014</td>\n",
       "      <td>SCH</td>\n",
       "      <td>M</td>\n",
       "      <td>62</td>\n",
       "      <td>Y</td>\n",
       "      <td>Y</td>\n",
       "      <td>0</td>\n",
       "      <td>0</td>\n",
       "      <td>-2.008753</td>\n",
       "      <td>1</td>\n",
       "      <td>50</td>\n",
       "      <td>1</td>\n",
       "      <td>2</td>\n",
       "      <td>18000</td>\n",
       "      <td>4</td>\n",
       "      <td>1</td>\n",
       "      <td>N</td>\n",
       "      <td>0</td>\n",
       "    </tr>\n",
       "    <tr>\n",
       "      <th>1</th>\n",
       "      <td>63161</td>\n",
       "      <td>12MAR2014</td>\n",
       "      <td>SCH</td>\n",
       "      <td>F</td>\n",
       "      <td>59</td>\n",
       "      <td>N</td>\n",
       "      <td>N</td>\n",
       "      <td>0</td>\n",
       "      <td>0</td>\n",
       "      <td>-1.532276</td>\n",
       "      <td>3</td>\n",
       "      <td>50</td>\n",
       "      <td>2</td>\n",
       "      <td>3</td>\n",
       "      <td>19000</td>\n",
       "      <td>4</td>\n",
       "      <td>1</td>\n",
       "      <td>N</td>\n",
       "      <td>0</td>\n",
       "    </tr>\n",
       "    <tr>\n",
       "      <th>2</th>\n",
       "      <td>25887</td>\n",
       "      <td>01FEB2014</td>\n",
       "      <td>SCH</td>\n",
       "      <td>M</td>\n",
       "      <td>25</td>\n",
       "      <td>Y</td>\n",
       "      <td>N</td>\n",
       "      <td>2</td>\n",
       "      <td>0</td>\n",
       "      <td>-1.408142</td>\n",
       "      <td>1</td>\n",
       "      <td>80</td>\n",
       "      <td>1</td>\n",
       "      <td>2</td>\n",
       "      <td>30000</td>\n",
       "      <td>1</td>\n",
       "      <td>4</td>\n",
       "      <td>Y</td>\n",
       "      <td>0</td>\n",
       "    </tr>\n",
       "    <tr>\n",
       "      <th>3</th>\n",
       "      <td>16222</td>\n",
       "      <td>23JAN2014</td>\n",
       "      <td>SCH</td>\n",
       "      <td>F</td>\n",
       "      <td>53</td>\n",
       "      <td>N</td>\n",
       "      <td>N</td>\n",
       "      <td>0</td>\n",
       "      <td>0</td>\n",
       "      <td>-2.057471</td>\n",
       "      <td>2</td>\n",
       "      <td>50</td>\n",
       "      <td>2</td>\n",
       "      <td>3</td>\n",
       "      <td>10000</td>\n",
       "      <td>1</td>\n",
       "      <td>3</td>\n",
       "      <td>N</td>\n",
       "      <td>0</td>\n",
       "    </tr>\n",
       "    <tr>\n",
       "      <th>4</th>\n",
       "      <td>101655</td>\n",
       "      <td>18APR2014</td>\n",
       "      <td>GRD</td>\n",
       "      <td>M</td>\n",
       "      <td>48</td>\n",
       "      <td>N</td>\n",
       "      <td>N</td>\n",
       "      <td>0</td>\n",
       "      <td>1</td>\n",
       "      <td>-1.244723</td>\n",
       "      <td>1</td>\n",
       "      <td>60</td>\n",
       "      <td>2</td>\n",
       "      <td>3</td>\n",
       "      <td>30000</td>\n",
       "      <td>1</td>\n",
       "      <td>4</td>\n",
       "      <td>Y</td>\n",
       "      <td>0</td>\n",
       "    </tr>\n",
       "    <tr>\n",
       "      <th>...</th>\n",
       "      <td>...</td>\n",
       "      <td>...</td>\n",
       "      <td>...</td>\n",
       "      <td>...</td>\n",
       "      <td>...</td>\n",
       "      <td>...</td>\n",
       "      <td>...</td>\n",
       "      <td>...</td>\n",
       "      <td>...</td>\n",
       "      <td>...</td>\n",
       "      <td>...</td>\n",
       "      <td>...</td>\n",
       "      <td>...</td>\n",
       "      <td>...</td>\n",
       "      <td>...</td>\n",
       "      <td>...</td>\n",
       "      <td>...</td>\n",
       "      <td>...</td>\n",
       "      <td>...</td>\n",
       "    </tr>\n",
       "    <tr>\n",
       "      <th>73794</th>\n",
       "      <td>54887</td>\n",
       "      <td>04MAR2014</td>\n",
       "      <td>GRD</td>\n",
       "      <td>F</td>\n",
       "      <td>45</td>\n",
       "      <td>N</td>\n",
       "      <td>N</td>\n",
       "      <td>0</td>\n",
       "      <td>0</td>\n",
       "      <td>-1.792064</td>\n",
       "      <td>3</td>\n",
       "      <td>50</td>\n",
       "      <td>1</td>\n",
       "      <td>2</td>\n",
       "      <td>17000</td>\n",
       "      <td>4</td>\n",
       "      <td>4</td>\n",
       "      <td>N</td>\n",
       "      <td>0</td>\n",
       "    </tr>\n",
       "    <tr>\n",
       "      <th>73795</th>\n",
       "      <td>76821</td>\n",
       "      <td>24MAR2014</td>\n",
       "      <td>SCH</td>\n",
       "      <td>M</td>\n",
       "      <td>41</td>\n",
       "      <td>Y</td>\n",
       "      <td>Y</td>\n",
       "      <td>0</td>\n",
       "      <td>0</td>\n",
       "      <td>-2.058029</td>\n",
       "      <td>1</td>\n",
       "      <td>50</td>\n",
       "      <td>2</td>\n",
       "      <td>2</td>\n",
       "      <td>70000</td>\n",
       "      <td>1</td>\n",
       "      <td>4</td>\n",
       "      <td>N</td>\n",
       "      <td>0</td>\n",
       "    </tr>\n",
       "    <tr>\n",
       "      <th>73796</th>\n",
       "      <td>103695</td>\n",
       "      <td>22APR2014</td>\n",
       "      <td>SCH</td>\n",
       "      <td>M</td>\n",
       "      <td>31</td>\n",
       "      <td>N</td>\n",
       "      <td>N</td>\n",
       "      <td>0</td>\n",
       "      <td>0</td>\n",
       "      <td>-1.512635</td>\n",
       "      <td>4</td>\n",
       "      <td>80</td>\n",
       "      <td>2</td>\n",
       "      <td>3</td>\n",
       "      <td>45000</td>\n",
       "      <td>2</td>\n",
       "      <td>2</td>\n",
       "      <td>N</td>\n",
       "      <td>0</td>\n",
       "    </tr>\n",
       "    <tr>\n",
       "      <th>73797</th>\n",
       "      <td>861</td>\n",
       "      <td>04JAN2014</td>\n",
       "      <td>SCH</td>\n",
       "      <td>F</td>\n",
       "      <td>29</td>\n",
       "      <td>N</td>\n",
       "      <td>N</td>\n",
       "      <td>0</td>\n",
       "      <td>1</td>\n",
       "      <td>-1.479334</td>\n",
       "      <td>3</td>\n",
       "      <td>50</td>\n",
       "      <td>1</td>\n",
       "      <td>3</td>\n",
       "      <td>13000</td>\n",
       "      <td>2</td>\n",
       "      <td>3</td>\n",
       "      <td>N</td>\n",
       "      <td>1</td>\n",
       "    </tr>\n",
       "    <tr>\n",
       "      <th>73798</th>\n",
       "      <td>15796</td>\n",
       "      <td>23JAN2014</td>\n",
       "      <td>GRD</td>\n",
       "      <td>M</td>\n",
       "      <td>34</td>\n",
       "      <td>N</td>\n",
       "      <td>N</td>\n",
       "      <td>0</td>\n",
       "      <td>0</td>\n",
       "      <td>-1.764711</td>\n",
       "      <td>2</td>\n",
       "      <td>50</td>\n",
       "      <td>2</td>\n",
       "      <td>3</td>\n",
       "      <td>25000</td>\n",
       "      <td>1</td>\n",
       "      <td>3</td>\n",
       "      <td>N</td>\n",
       "      <td>0</td>\n",
       "    </tr>\n",
       "  </tbody>\n",
       "</table>\n",
       "<p>73799 rows × 19 columns</p>\n",
       "</div>"
      ],
      "text/plain": [
       "       client_id   app_date education sex  age car car_type  decline_app_cnt  \\\n",
       "0          25905  01FEB2014       SCH   M   62   Y        Y                0   \n",
       "1          63161  12MAR2014       SCH   F   59   N        N                0   \n",
       "2          25887  01FEB2014       SCH   M   25   Y        N                2   \n",
       "3          16222  23JAN2014       SCH   F   53   N        N                0   \n",
       "4         101655  18APR2014       GRD   M   48   N        N                0   \n",
       "...          ...        ...       ...  ..  ...  ..      ...              ...   \n",
       "73794      54887  04MAR2014       GRD   F   45   N        N                0   \n",
       "73795      76821  24MAR2014       SCH   M   41   Y        Y                0   \n",
       "73796     103695  22APR2014       SCH   M   31   N        N                0   \n",
       "73797        861  04JAN2014       SCH   F   29   N        N                0   \n",
       "73798      15796  23JAN2014       GRD   M   34   N        N                0   \n",
       "\n",
       "       good_work  score_bki  bki_request_cnt  region_rating  home_address  \\\n",
       "0              0  -2.008753                1             50             1   \n",
       "1              0  -1.532276                3             50             2   \n",
       "2              0  -1.408142                1             80             1   \n",
       "3              0  -2.057471                2             50             2   \n",
       "4              1  -1.244723                1             60             2   \n",
       "...          ...        ...              ...            ...           ...   \n",
       "73794          0  -1.792064                3             50             1   \n",
       "73795          0  -2.058029                1             50             2   \n",
       "73796          0  -1.512635                4             80             2   \n",
       "73797          1  -1.479334                3             50             1   \n",
       "73798          0  -1.764711                2             50             2   \n",
       "\n",
       "       work_address  income  sna  first_time foreign_passport  default  \n",
       "0                 2   18000    4           1                N        0  \n",
       "1                 3   19000    4           1                N        0  \n",
       "2                 2   30000    1           4                Y        0  \n",
       "3                 3   10000    1           3                N        0  \n",
       "4                 3   30000    1           4                Y        0  \n",
       "...             ...     ...  ...         ...              ...      ...  \n",
       "73794             2   17000    4           4                N        0  \n",
       "73795             2   70000    1           4                N        0  \n",
       "73796             3   45000    2           2                N        0  \n",
       "73797             3   13000    2           3                N        1  \n",
       "73798             3   25000    1           3                N        0  \n",
       "\n",
       "[73799 rows x 19 columns]"
      ]
     },
     "execution_count": 3,
     "metadata": {},
     "output_type": "execute_result"
    }
   ],
   "source": [
    "df_train"
   ]
  },
  {
   "cell_type": "code",
   "execution_count": 4,
   "metadata": {},
   "outputs": [
    {
     "data": {
      "text/plain": [
       "default                 2\n",
       "foreign_passport        2\n",
       "car_type                2\n",
       "car                     2\n",
       "good_work               2\n",
       "sex                     2\n",
       "home_address            3\n",
       "work_address            3\n",
       "sna                     4\n",
       "first_time              4\n",
       "education               5\n",
       "region_rating           7\n",
       "decline_app_cnt        21\n",
       "bki_request_cnt        38\n",
       "age                    52\n",
       "app_date              120\n",
       "income                966\n",
       "score_bki           69096\n",
       "client_id           73799\n",
       "dtype: int64"
      ]
     },
     "execution_count": 4,
     "metadata": {},
     "output_type": "execute_result"
    }
   ],
   "source": [
    "# Пробежимся по количеству встречающихся значений по всем признакам\n",
    "df_train.nunique().sort_values()"
   ]
  },
  {
   "cell_type": "code",
   "execution_count": 5,
   "metadata": {
    "execution": {
     "iopub.execute_input": "2021-01-20T12:56:30.752788Z",
     "iopub.status.busy": "2021-01-20T12:56:30.752124Z",
     "iopub.status.idle": "2021-01-20T12:56:30.817636Z",
     "shell.execute_reply": "2021-01-20T12:56:30.816964Z"
    },
    "papermill": {
     "duration": 0.113051,
     "end_time": "2021-01-20T12:56:30.817750",
     "exception": false,
     "start_time": "2021-01-20T12:56:30.704699",
     "status": "completed"
    },
    "tags": []
   },
   "outputs": [
    {
     "name": "stdout",
     "output_type": "stream",
     "text": [
      "<class 'pandas.core.frame.DataFrame'>\n",
      "RangeIndex: 73799 entries, 0 to 73798\n",
      "Data columns (total 19 columns):\n",
      " #   Column            Non-Null Count  Dtype  \n",
      "---  ------            --------------  -----  \n",
      " 0   client_id         73799 non-null  int64  \n",
      " 1   app_date          73799 non-null  object \n",
      " 2   education         73492 non-null  object \n",
      " 3   sex               73799 non-null  object \n",
      " 4   age               73799 non-null  int64  \n",
      " 5   car               73799 non-null  object \n",
      " 6   car_type          73799 non-null  object \n",
      " 7   decline_app_cnt   73799 non-null  int64  \n",
      " 8   good_work         73799 non-null  int64  \n",
      " 9   score_bki         73799 non-null  float64\n",
      " 10  bki_request_cnt   73799 non-null  int64  \n",
      " 11  region_rating     73799 non-null  int64  \n",
      " 12  home_address      73799 non-null  int64  \n",
      " 13  work_address      73799 non-null  int64  \n",
      " 14  income            73799 non-null  int64  \n",
      " 15  sna               73799 non-null  int64  \n",
      " 16  first_time        73799 non-null  int64  \n",
      " 17  foreign_passport  73799 non-null  object \n",
      " 18  default           73799 non-null  int64  \n",
      "dtypes: float64(1), int64(12), object(6)\n",
      "memory usage: 10.7+ MB\n"
     ]
    }
   ],
   "source": [
    "df_train.info()"
   ]
  },
  {
   "cell_type": "code",
   "execution_count": 6,
   "metadata": {},
   "outputs": [
    {
     "data": {
      "text/html": [
       "<div>\n",
       "<style scoped>\n",
       "    .dataframe tbody tr th:only-of-type {\n",
       "        vertical-align: middle;\n",
       "    }\n",
       "\n",
       "    .dataframe tbody tr th {\n",
       "        vertical-align: top;\n",
       "    }\n",
       "\n",
       "    .dataframe thead th {\n",
       "        text-align: right;\n",
       "    }\n",
       "</style>\n",
       "<table border=\"1\" class=\"dataframe\">\n",
       "  <thead>\n",
       "    <tr style=\"text-align: right;\">\n",
       "      <th></th>\n",
       "      <th>app_date</th>\n",
       "      <th>education</th>\n",
       "      <th>sex</th>\n",
       "      <th>car</th>\n",
       "      <th>car_type</th>\n",
       "      <th>foreign_passport</th>\n",
       "    </tr>\n",
       "  </thead>\n",
       "  <tbody>\n",
       "    <tr>\n",
       "      <th>count</th>\n",
       "      <td>73799</td>\n",
       "      <td>73492</td>\n",
       "      <td>73799</td>\n",
       "      <td>73799</td>\n",
       "      <td>73799</td>\n",
       "      <td>73799</td>\n",
       "    </tr>\n",
       "    <tr>\n",
       "      <th>unique</th>\n",
       "      <td>120</td>\n",
       "      <td>5</td>\n",
       "      <td>2</td>\n",
       "      <td>2</td>\n",
       "      <td>2</td>\n",
       "      <td>2</td>\n",
       "    </tr>\n",
       "    <tr>\n",
       "      <th>top</th>\n",
       "      <td>18MAR2014</td>\n",
       "      <td>SCH</td>\n",
       "      <td>F</td>\n",
       "      <td>N</td>\n",
       "      <td>N</td>\n",
       "      <td>N</td>\n",
       "    </tr>\n",
       "    <tr>\n",
       "      <th>freq</th>\n",
       "      <td>1018</td>\n",
       "      <td>38860</td>\n",
       "      <td>41562</td>\n",
       "      <td>49832</td>\n",
       "      <td>59791</td>\n",
       "      <td>62733</td>\n",
       "    </tr>\n",
       "  </tbody>\n",
       "</table>\n",
       "</div>"
      ],
      "text/plain": [
       "         app_date education    sex    car car_type foreign_passport\n",
       "count       73799     73492  73799  73799    73799            73799\n",
       "unique        120         5      2      2        2                2\n",
       "top     18MAR2014       SCH      F      N        N                N\n",
       "freq         1018     38860  41562  49832    59791            62733"
      ]
     },
     "execution_count": 6,
     "metadata": {},
     "output_type": "execute_result"
    }
   ],
   "source": [
    "df_train.describe(include='object')"
   ]
  },
  {
   "cell_type": "code",
   "execution_count": 7,
   "metadata": {
    "execution": {
     "iopub.execute_input": "2021-01-20T12:56:30.958562Z",
     "iopub.status.busy": "2021-01-20T12:56:30.911658Z",
     "iopub.status.idle": "2021-01-20T12:56:30.969699Z",
     "shell.execute_reply": "2021-01-20T12:56:30.969143Z"
    },
    "papermill": {
     "duration": 0.106883,
     "end_time": "2021-01-20T12:56:30.969810",
     "exception": false,
     "start_time": "2021-01-20T12:56:30.862927",
     "status": "completed"
    },
    "tags": []
   },
   "outputs": [
    {
     "data": {
      "text/plain": [
       "client_id             0\n",
       "app_date              0\n",
       "education           307\n",
       "sex                   0\n",
       "age                   0\n",
       "car                   0\n",
       "car_type              0\n",
       "decline_app_cnt       0\n",
       "good_work             0\n",
       "score_bki             0\n",
       "bki_request_cnt       0\n",
       "region_rating         0\n",
       "home_address          0\n",
       "work_address          0\n",
       "income                0\n",
       "sna                   0\n",
       "first_time            0\n",
       "foreign_passport      0\n",
       "default               0\n",
       "dtype: int64"
      ]
     },
     "execution_count": 7,
     "metadata": {},
     "output_type": "execute_result"
    }
   ],
   "source": [
    "df_train.isnull().sum()"
   ]
  },
  {
   "cell_type": "code",
   "execution_count": 8,
   "metadata": {
    "execution": {
     "iopub.execute_input": "2021-01-20T12:56:31.086805Z",
     "iopub.status.busy": "2021-01-20T12:56:31.063128Z",
     "iopub.status.idle": "2021-01-20T12:56:31.099738Z",
     "shell.execute_reply": "2021-01-20T12:56:31.100775Z"
    },
    "papermill": {
     "duration": 0.086592,
     "end_time": "2021-01-20T12:56:31.101048",
     "exception": false,
     "start_time": "2021-01-20T12:56:31.014456",
     "status": "completed"
    },
    "tags": []
   },
   "outputs": [
    {
     "name": "stdout",
     "output_type": "stream",
     "text": [
      "<class 'pandas.core.frame.DataFrame'>\n",
      "RangeIndex: 36349 entries, 0 to 36348\n",
      "Data columns (total 18 columns):\n",
      " #   Column            Non-Null Count  Dtype  \n",
      "---  ------            --------------  -----  \n",
      " 0   client_id         36349 non-null  int64  \n",
      " 1   app_date          36349 non-null  object \n",
      " 2   education         36178 non-null  object \n",
      " 3   sex               36349 non-null  object \n",
      " 4   age               36349 non-null  int64  \n",
      " 5   car               36349 non-null  object \n",
      " 6   car_type          36349 non-null  object \n",
      " 7   decline_app_cnt   36349 non-null  int64  \n",
      " 8   good_work         36349 non-null  int64  \n",
      " 9   score_bki         36349 non-null  float64\n",
      " 10  bki_request_cnt   36349 non-null  int64  \n",
      " 11  region_rating     36349 non-null  int64  \n",
      " 12  home_address      36349 non-null  int64  \n",
      " 13  work_address      36349 non-null  int64  \n",
      " 14  income            36349 non-null  int64  \n",
      " 15  sna               36349 non-null  int64  \n",
      " 16  first_time        36349 non-null  int64  \n",
      " 17  foreign_passport  36349 non-null  object \n",
      "dtypes: float64(1), int64(11), object(6)\n",
      "memory usage: 5.0+ MB\n"
     ]
    }
   ],
   "source": [
    "df_test.info()"
   ]
  },
  {
   "cell_type": "code",
   "execution_count": 9,
   "metadata": {},
   "outputs": [
    {
     "data": {
      "text/html": [
       "<div>\n",
       "<style scoped>\n",
       "    .dataframe tbody tr th:only-of-type {\n",
       "        vertical-align: middle;\n",
       "    }\n",
       "\n",
       "    .dataframe tbody tr th {\n",
       "        vertical-align: top;\n",
       "    }\n",
       "\n",
       "    .dataframe thead th {\n",
       "        text-align: right;\n",
       "    }\n",
       "</style>\n",
       "<table border=\"1\" class=\"dataframe\">\n",
       "  <thead>\n",
       "    <tr style=\"text-align: right;\">\n",
       "      <th></th>\n",
       "      <th>app_date</th>\n",
       "      <th>education</th>\n",
       "      <th>sex</th>\n",
       "      <th>car</th>\n",
       "      <th>car_type</th>\n",
       "      <th>foreign_passport</th>\n",
       "    </tr>\n",
       "  </thead>\n",
       "  <tbody>\n",
       "    <tr>\n",
       "      <th>count</th>\n",
       "      <td>36349</td>\n",
       "      <td>36178</td>\n",
       "      <td>36349</td>\n",
       "      <td>36349</td>\n",
       "      <td>36349</td>\n",
       "      <td>36349</td>\n",
       "    </tr>\n",
       "    <tr>\n",
       "      <th>unique</th>\n",
       "      <td>120</td>\n",
       "      <td>5</td>\n",
       "      <td>2</td>\n",
       "      <td>2</td>\n",
       "      <td>2</td>\n",
       "      <td>2</td>\n",
       "    </tr>\n",
       "    <tr>\n",
       "      <th>top</th>\n",
       "      <td>18MAR2014</td>\n",
       "      <td>SCH</td>\n",
       "      <td>F</td>\n",
       "      <td>N</td>\n",
       "      <td>N</td>\n",
       "      <td>N</td>\n",
       "    </tr>\n",
       "    <tr>\n",
       "      <th>freq</th>\n",
       "      <td>473</td>\n",
       "      <td>19138</td>\n",
       "      <td>20274</td>\n",
       "      <td>24458</td>\n",
       "      <td>29349</td>\n",
       "      <td>30988</td>\n",
       "    </tr>\n",
       "  </tbody>\n",
       "</table>\n",
       "</div>"
      ],
      "text/plain": [
       "         app_date education    sex    car car_type foreign_passport\n",
       "count       36349     36178  36349  36349    36349            36349\n",
       "unique        120         5      2      2        2                2\n",
       "top     18MAR2014       SCH      F      N        N                N\n",
       "freq          473     19138  20274  24458    29349            30988"
      ]
     },
     "execution_count": 9,
     "metadata": {},
     "output_type": "execute_result"
    }
   ],
   "source": [
    "df_test.describe(include='object')"
   ]
  },
  {
   "cell_type": "code",
   "execution_count": 10,
   "metadata": {
    "execution": {
     "iopub.execute_input": "2021-01-20T12:56:31.218931Z",
     "iopub.status.busy": "2021-01-20T12:56:31.217854Z",
     "iopub.status.idle": "2021-01-20T12:56:31.227090Z",
     "shell.execute_reply": "2021-01-20T12:56:31.226397Z"
    },
    "papermill": {
     "duration": 0.081462,
     "end_time": "2021-01-20T12:56:31.227211",
     "exception": false,
     "start_time": "2021-01-20T12:56:31.145749",
     "status": "completed"
    },
    "tags": []
   },
   "outputs": [
    {
     "data": {
      "text/plain": [
       "client_id             0\n",
       "app_date              0\n",
       "education           171\n",
       "sex                   0\n",
       "age                   0\n",
       "car                   0\n",
       "car_type              0\n",
       "decline_app_cnt       0\n",
       "good_work             0\n",
       "score_bki             0\n",
       "bki_request_cnt       0\n",
       "region_rating         0\n",
       "home_address          0\n",
       "work_address          0\n",
       "income                0\n",
       "sna                   0\n",
       "first_time            0\n",
       "foreign_passport      0\n",
       "dtype: int64"
      ]
     },
     "execution_count": 10,
     "metadata": {},
     "output_type": "execute_result"
    }
   ],
   "source": [
    "df_test.isnull().sum()"
   ]
  },
  {
   "cell_type": "markdown",
   "metadata": {
    "papermill": {
     "duration": 0.046497,
     "end_time": "2021-01-20T12:56:31.770058",
     "exception": false,
     "start_time": "2021-01-20T12:56:31.723561",
     "status": "completed"
    },
    "tags": []
   },
   "source": [
    "В исходных данных 19 признаков:<br>\n",
    "1 временной, типа str ('app_date'),<br>\n",
    "6 бинарных ('sex', 'car', 'car_type', 'good_work', 'foreign_passport', 'default'),<br>\n",
    "6 категориальных ('education', 'region_rating', 'home_address', 'work_address', 'sna', 'first_time')<br>\n",
    "6 числовых ('client_id', 'age', 'decline_app_cnt', 'score_bki', 'bki_request_cnt', 'income').<br>\n",
    "\n",
    "Пропуски встречаются только в признаке 'education' - (в df_train - 307 пропусков, в df_test - 171 пропуск).\n",
    "\n",
    "client_id - числовой идентификационный признак, можно удалить из рассмотрения.<br>\n",
    "default - целевая переменная, есть только в тренировочных данных.\n",
    "\n",
    "Описание признаков\n",
    "   client_id - идентификатор клиента\n",
    "   \n",
    "    education - уровень образования\n",
    "    \n",
    "    sex - пол заемщика\n",
    "    \n",
    "    age - возраст заемщика\n",
    "    \n",
    "    car - флаг наличия автомобиля\n",
    "    \n",
    "    car_type - флаг автомобиля иномарки\n",
    "    \n",
    "    decline_app_cnt - количество отказанных прошлых заявок\n",
    "    \n",
    "    good_work - флаг наличия “хорошей” работы\n",
    "    \n",
    "    bki_request_cnt - количество запросов в БКИ\n",
    "    \n",
    "    home_address - категоризатор домашнего адреса\n",
    "    \n",
    "    work_address - категоризатор рабочего адреса\n",
    "    \n",
    "    income - доход заемщика\n",
    "    \n",
    "    foreign_passport - наличие загранпаспорта\n",
    "    \n",
    "    sna - связь заемщика с клиентами банка\n",
    "    \n",
    "    first_time - давность наличия информации о заемщике\n",
    "    \n",
    "    score_bki - скоринговый балл по данным из БКИ\n",
    "    \n",
    "    region_rating - рейтинг региона\n",
    "    \n",
    "    app_date - дата подачи заявки\n",
    "    \n",
    "    default - флаг дефолта по кредиту\n",
    "    "
   ]
  },
  {
   "cell_type": "markdown",
   "metadata": {
    "papermill": {
     "duration": 0.046918,
     "end_time": "2021-01-20T12:56:31.863032",
     "exception": false,
     "start_time": "2021-01-20T12:56:31.816114",
     "status": "completed"
    },
    "tags": []
   },
   "source": [
    "### Анализ и предобработка признаков"
   ]
  },
  {
   "cell_type": "markdown",
   "metadata": {},
   "source": [
    "#### default  - target"
   ]
  },
  {
   "cell_type": "code",
   "execution_count": 11,
   "metadata": {},
   "outputs": [
    {
     "data": {
      "text/plain": [
       "0    64427\n",
       "1     9372\n",
       "Name: default, dtype: int64"
      ]
     },
     "execution_count": 11,
     "metadata": {},
     "output_type": "execute_result"
    },
    {
     "data": {
      "image/png": "[encoded data removed]",
      "text/plain": [
       "<Figure size 432x288 with 1 Axes>"
      ]
     },
     "metadata": {
      "needs_background": "light"
     },
     "output_type": "display_data"
    }
   ],
   "source": [
    "sns.countplot(x='default', data=df_train)\n",
    "df_train.default.value_counts()\n",
    "# распределение классов - сильно несбаланисованное и недефолтных клиентов заметно больше."
   ]
  },
  {
   "cell_type": "markdown",
   "metadata": {},
   "source": [
    "#### client_id"
   ]
  },
  {
   "cell_type": "code",
   "execution_count": 12,
   "metadata": {},
   "outputs": [
    {
     "data": {
      "text/plain": [
       "[<matplotlib.lines.Line2D at 0xcd85ee0>]"
      ]
     },
     "execution_count": 12,
     "metadata": {},
     "output_type": "execute_result"
    },
    {
     "data": {
      "image/png": "[encoded data removed]",
      "text/plain": [
       "<Figure size 432x288 with 1 Axes>"
      ]
     },
     "metadata": {
      "needs_background": "light"
     },
     "output_type": "display_data"
    }
   ],
   "source": [
    "plt.plot(df_train['client_id'].sort_values().values)"
   ]
  },
  {
   "cell_type": "markdown",
   "metadata": {},
   "source": [
    "номер клиента - удаляем из списка рассматриваемых признаков\n"
   ]
  },
  {
   "cell_type": "markdown",
   "metadata": {},
   "source": [
    "#### education"
   ]
  },
  {
   "cell_type": "code",
   "execution_count": 13,
   "metadata": {},
   "outputs": [
    {
     "data": {
      "text/plain": [
       "<AxesSubplot:xlabel='education', ylabel='count'>"
      ]
     },
     "execution_count": 13,
     "metadata": {},
     "output_type": "execute_result"
    },
    {
     "data": {
      "image/png": "[encoded data removed]",
      "text/plain": [
       "<Figure size 432x288 with 1 Axes>"
      ]
     },
     "metadata": {
      "needs_background": "light"
     },
     "output_type": "display_data"
    }
   ],
   "source": [
    "# Рассмотрим подробнее столбец education\n",
    "sns.countplot(df_train['education'])"
   ]
  },
  {
   "cell_type": "code",
   "execution_count": 14,
   "metadata": {},
   "outputs": [],
   "source": [
    "# Заполним пропуски в столбце education\n",
    "df_train.education.fillna(df_train.education.mode()[0], inplace=True)\n",
    "df_test.education.fillna(df_train.education.mode()[0], inplace=True)\n",
    "# Ввиду малого числа значений класса 'ACD' переведем их в ближайший по смыслу класс 'PGR'\n",
    "df_train.education = df_train.education.apply(\n",
    "    lambda x: 'PGR' if x == 'ACD' else x)\n",
    "df_test.education = df_test.education.apply(\n",
    "    lambda x: 'PGR' if x == 'ACD' else x)"
   ]
  },
  {
   "cell_type": "markdown",
   "metadata": {
    "papermill": {
     "duration": 0.046399,
     "end_time": "2021-01-20T12:56:31.956450",
     "exception": false,
     "start_time": "2021-01-20T12:56:31.910051",
     "status": "completed"
    },
    "tags": []
   },
   "source": [
    "#### app_date"
   ]
  },
  {
   "cell_type": "code",
   "execution_count": 15,
   "metadata": {
    "execution": {
     "iopub.execute_input": "2021-01-20T12:56:32.056963Z",
     "iopub.status.busy": "2021-01-20T12:56:32.056276Z",
     "iopub.status.idle": "2021-01-20T12:56:32.059748Z",
     "shell.execute_reply": "2021-01-20T12:56:32.059161Z"
    },
    "papermill": {
     "duration": 0.05676,
     "end_time": "2021-01-20T12:56:32.059868",
     "exception": false,
     "start_time": "2021-01-20T12:56:32.003108",
     "status": "completed"
    },
    "tags": []
   },
   "outputs": [
    {
     "data": {
      "text/plain": [
       "str"
      ]
     },
     "execution_count": 15,
     "metadata": {},
     "output_type": "execute_result"
    }
   ],
   "source": [
    "\n",
    "\n",
    "type(df_train.app_date.values[0])"
   ]
  },
  {
   "cell_type": "code",
   "execution_count": 16,
   "metadata": {
    "execution": {
     "iopub.execute_input": "2021-01-20T12:56:32.164889Z",
     "iopub.status.busy": "2021-01-20T12:56:32.163933Z",
     "iopub.status.idle": "2021-01-20T12:56:32.190163Z",
     "shell.execute_reply": "2021-01-20T12:56:32.189479Z"
    },
    "papermill": {
     "duration": 0.084119,
     "end_time": "2021-01-20T12:56:32.190276",
     "exception": false,
     "start_time": "2021-01-20T12:56:32.106157",
     "status": "completed"
    },
    "tags": []
   },
   "outputs": [
    {
     "data": {
      "text/plain": [
       "<AxesSubplot:xlabel='app_date', ylabel='default'>"
      ]
     },
     "execution_count": 16,
     "metadata": {},
     "output_type": "execute_result"
    },
    {
     "data": {
      "image/png": "[encoded data removed]",
      "text/plain": [
       "<Figure size 720x216 with 1 Axes>"
      ]
     },
     "metadata": {
      "needs_background": "light"
     },
     "output_type": "display_data"
    }
   ],
   "source": [
    "# Переведем str to datetime\n",
    "df_train.app_date = pd.to_datetime(df_train.app_date)\n",
    "df_test.app_date = pd.to_datetime(df_test.app_date)\n",
    "# Посмотрим на связь месяца подачи заявки и наступления дефолта\n",
    "plt.subplots(figsize=(10, 3))\n",
    "sns.barplot(data=df_train, x=df_train.app_date.dt.month, y='default')"
   ]
  },
  {
   "cell_type": "code",
   "execution_count": 17,
   "metadata": {
    "execution": {
     "iopub.execute_input": "2021-01-20T12:56:33.386523Z",
     "iopub.status.busy": "2021-01-20T12:56:33.385640Z",
     "iopub.status.idle": "2021-01-20T12:56:33.402462Z",
     "shell.execute_reply": "2021-01-20T12:56:33.401780Z"
    },
    "papermill": {
     "duration": 0.068749,
     "end_time": "2021-01-20T12:56:33.402575",
     "exception": false,
     "start_time": "2021-01-20T12:56:33.333826",
     "status": "completed"
    },
    "tags": []
   },
   "outputs": [],
   "source": [
    "# Введем дополнительный признак - месяц подачи заявки\n",
    "\n",
    "df_train['app_month'] = df_train['app_date'].dt.month\n",
    "df_test['app_month'] = df_test['app_date'].dt.month\n",
    "\n",
    "# так как нет четкого представления почему апрель лучше января - лучше кодировать через dummies\n",
    "#df_train = pd.get_dummies(df_train, columns=['app_month'], drop_first=True)\n",
    "#df_test = pd.get_dummies(df_test, columns=['app_month'], drop_first=True)\n",
    "\n",
    "# Удалим ненужный строковый столбец app_date\n",
    "df_train.drop(columns=['app_date'], inplace=True)\n",
    "df_test.drop(columns=['app_date'], inplace=True)"
   ]
  },
  {
   "cell_type": "code",
   "execution_count": 18,
   "metadata": {
    "execution": {
     "iopub.execute_input": "2021-01-20T12:56:34.116321Z",
     "iopub.status.busy": "2021-01-20T12:56:34.115589Z",
     "iopub.status.idle": "2021-01-20T12:56:34.118410Z",
     "shell.execute_reply": "2021-01-20T12:56:34.117876Z"
    },
    "papermill": {
     "duration": 0.057635,
     "end_time": "2021-01-20T12:56:34.118518",
     "exception": false,
     "start_time": "2021-01-20T12:56:34.060883",
     "status": "completed"
    },
    "tags": []
   },
   "outputs": [],
   "source": [
    "# объединим все полученные признаки по категориям\n",
    "\n",
    "\n",
    "# бинарные переменные\n",
    "bin_cols = ['sex', 'car', 'car_type', 'good_work', 'foreign_passport']\n",
    "\n",
    "# категориальные переменные\n",
    "cat_cols = ['education', 'home_address', 'work_address',\n",
    "            'sna', 'first_time', 'app_month', 'region_rating']\n",
    "\n",
    "# числовые переменные\n",
    "num_cols = ['age', 'decline_app_cnt',\n",
    "            'score_bki', 'bki_request_cnt',  'income']"
   ]
  },
  {
   "cell_type": "markdown",
   "metadata": {
    "papermill": {
     "duration": 0.049991,
     "end_time": "2021-01-20T12:56:34.217969",
     "exception": false,
     "start_time": "2021-01-20T12:56:34.167978",
     "status": "completed"
    },
    "tags": []
   },
   "source": [
    "### Визуализация"
   ]
  },
  {
   "cell_type": "markdown",
   "metadata": {},
   "source": [
    "#### Числовые признаки"
   ]
  },
  {
   "cell_type": "code",
   "execution_count": 19,
   "metadata": {},
   "outputs": [
    {
     "data": {
      "image/png": "[encoded data removed]",
      "text/plain": [
       "<Figure size 1800x432 with 5 Axes>"
      ]
     },
     "metadata": {
      "needs_background": "light"
     },
     "output_type": "display_data"
    }
   ],
   "source": [
    "fig, axes = plt.subplots(1, 5, figsize=(25, 6))\n",
    "for col, i in zip(num_cols, range(len(num_cols))):\n",
    "    sns.distplot(df_train[col], kde=False, ax=axes.flat[i])"
   ]
  },
  {
   "cell_type": "markdown",
   "metadata": {},
   "source": [
    "Все, кроме score_bki, распределены не нормально. \n",
    "#### Попробуем прологарифмировать их:"
   ]
  },
  {
   "cell_type": "code",
   "execution_count": 20,
   "metadata": {},
   "outputs": [
    {
     "data": {
      "image/png": "[encoded data removed]",
      "text/plain": [
       "<Figure size 1800x432 with 4 Axes>"
      ]
     },
     "metadata": {
      "needs_background": "light"
     },
     "output_type": "display_data"
    }
   ],
   "source": [
    "num_cols.remove('score_bki')\n",
    "fig, axes = plt.subplots(1, 4, figsize=(25, 6))\n",
    "for col, i in zip(num_cols, range(len(num_cols))):\n",
    "    df_train[col] = np.log(df_train[col]+1)\n",
    "    df_test[col] = np.log(df_test[col]+1)\n",
    "    sns.distplot(df_train[col], kde=False, ax=axes.flat[i], color='b')\n",
    "num_cols.append('score_bki')"
   ]
  },
  {
   "cell_type": "markdown",
   "metadata": {},
   "source": [
    "#### Построим матрицу корреляций:"
   ]
  },
  {
   "cell_type": "code",
   "execution_count": 21,
   "metadata": {},
   "outputs": [
    {
     "data": {
      "text/plain": [
       "<AxesSubplot:>"
      ]
     },
     "execution_count": 21,
     "metadata": {},
     "output_type": "execute_result"
    },
    {
     "data": {
      "image/png": "[encoded data removed]",
      "text/plain": [
       "<Figure size 432x288 with 2 Axes>"
      ]
     },
     "metadata": {
      "needs_background": "light"
     },
     "output_type": "display_data"
    }
   ],
   "source": [
    "# Можно добавить еще два порядковых признака\n",
    "num_cols_ = num_cols+['app_month', 'region_rating']\n",
    "\n",
    "sns.heatmap(df_train[num_cols_].corr(), annot=True)"
   ]
  },
  {
   "cell_type": "markdown",
   "metadata": {},
   "source": [
    "Существенных корреляций между признаками не наблюдается"
   ]
  },
  {
   "cell_type": "markdown",
   "metadata": {},
   "source": [
    "#### Построим boxplot’ы для численных переменных:"
   ]
  },
  {
   "cell_type": "code",
   "execution_count": 22,
   "metadata": {},
   "outputs": [
    {
     "data": {
      "image/png": "[encoded data removed]",
      "text/plain": [
       "<Figure size 1800x1800 with 6 Axes>"
      ]
     },
     "metadata": {
      "needs_background": "light"
     },
     "output_type": "display_data"
    }
   ],
   "source": [
    "fig, axes = plt.subplots(3, 2, figsize=(25, 25))\n",
    "for col, i in zip(num_cols, range(len(num_cols))):\n",
    "    sns.boxplot(x='default', y=col, data=df_train, ax=axes.flat[i])"
   ]
  },
  {
   "cell_type": "markdown",
   "metadata": {},
   "source": [
    "1. Недефолтные клиенты в среднем старше дефолтных <br>\n",
    "2. У дефолтных клиентов количество отклоненных заявок выше, чем у недефолтных<br>\n",
    "3. У дефолтных клиентов количество запросов выше, чем у недефолтных<br>\n",
    "4. Скоринговый балл в среднем выше у дефолтных клиентов!!!<br>\n",
    "5. Доход недефолтных клиентов несколько выше, чем доход дефолтных<br>\n",
    "6. Везде, кроме столбца age, имеются выбросы."
   ]
  },
  {
   "cell_type": "markdown",
   "metadata": {},
   "source": [
    "### Значимость непрерывных переменных"
   ]
  },
  {
   "cell_type": "code",
   "execution_count": 23,
   "metadata": {},
   "outputs": [
    {
     "data": {
      "text/plain": [
       "<AxesSubplot:title={'center':'Значимость числовых переменных'}>"
      ]
     },
     "execution_count": 23,
     "metadata": {},
     "output_type": "execute_result"
    },
    {
     "data": {
      "image/png": "[encoded data removed]",
      "text/plain": [
       "<Figure size 432x288 with 1 Axes>"
      ]
     },
     "metadata": {
      "needs_background": "light"
     },
     "output_type": "display_data"
    }
   ],
   "source": [
    "imp_num = pd.Series(f_classif(df_train[num_cols], df_train['default'])[\n",
    "                    0], index=num_cols)\n",
    "imp_num.sort_values(inplace=True)\n",
    "imp_num.plot(kind='barh', title='Значимость числовых переменных')"
   ]
  },
  {
   "cell_type": "markdown",
   "metadata": {},
   "source": [
    "### Значимость бинарных и категориальных переменных"
   ]
  },
  {
   "cell_type": "markdown",
   "metadata": {},
   "source": [
    "#### Преобразование бинарных и категориальных переменных"
   ]
  },
  {
   "cell_type": "code",
   "execution_count": 24,
   "metadata": {},
   "outputs": [
    {
     "data": {
      "text/html": [
       "<div>\n",
       "<style scoped>\n",
       "    .dataframe tbody tr th:only-of-type {\n",
       "        vertical-align: middle;\n",
       "    }\n",
       "\n",
       "    .dataframe tbody tr th {\n",
       "        vertical-align: top;\n",
       "    }\n",
       "\n",
       "    .dataframe thead th {\n",
       "        text-align: right;\n",
       "    }\n",
       "</style>\n",
       "<table border=\"1\" class=\"dataframe\">\n",
       "  <thead>\n",
       "    <tr style=\"text-align: right;\">\n",
       "      <th></th>\n",
       "      <th>sex</th>\n",
       "      <th>car</th>\n",
       "      <th>car_type</th>\n",
       "      <th>good_work</th>\n",
       "      <th>foreign_passport</th>\n",
       "    </tr>\n",
       "  </thead>\n",
       "  <tbody>\n",
       "    <tr>\n",
       "      <th>0</th>\n",
       "      <td>1</td>\n",
       "      <td>1</td>\n",
       "      <td>1</td>\n",
       "      <td>0</td>\n",
       "      <td>0</td>\n",
       "    </tr>\n",
       "    <tr>\n",
       "      <th>1</th>\n",
       "      <td>0</td>\n",
       "      <td>0</td>\n",
       "      <td>0</td>\n",
       "      <td>0</td>\n",
       "      <td>0</td>\n",
       "    </tr>\n",
       "    <tr>\n",
       "      <th>2</th>\n",
       "      <td>1</td>\n",
       "      <td>1</td>\n",
       "      <td>1</td>\n",
       "      <td>0</td>\n",
       "      <td>1</td>\n",
       "    </tr>\n",
       "    <tr>\n",
       "      <th>3</th>\n",
       "      <td>1</td>\n",
       "      <td>0</td>\n",
       "      <td>0</td>\n",
       "      <td>0</td>\n",
       "      <td>0</td>\n",
       "    </tr>\n",
       "    <tr>\n",
       "      <th>4</th>\n",
       "      <td>0</td>\n",
       "      <td>0</td>\n",
       "      <td>0</td>\n",
       "      <td>0</td>\n",
       "      <td>0</td>\n",
       "    </tr>\n",
       "  </tbody>\n",
       "</table>\n",
       "</div>"
      ],
      "text/plain": [
       "   sex  car  car_type  good_work  foreign_passport\n",
       "0    1    1         1          0                 0\n",
       "1    0    0         0          0                 0\n",
       "2    1    1         1          0                 1\n",
       "3    1    0         0          0                 0\n",
       "4    0    0         0          0                 0"
      ]
     },
     "metadata": {},
     "output_type": "display_data"
    }
   ],
   "source": [
    "# Для бинарных признаков мы будем использовать LabelEncoder\n",
    "\n",
    "label_encoder = LabelEncoder()\n",
    "\n",
    "for column in bin_cols:\n",
    "    df_train[column] = label_encoder.fit_transform(df_train[column])\n",
    "    df_test[column] = label_encoder.transform(df_test[column])\n",
    "\n",
    "# Переведем текстовые категории столбца education в числовые значения\n",
    "df_train['education'] = label_encoder.fit_transform(df_train['education'])\n",
    "df_test['education'] = label_encoder.transform(df_test['education'])\n",
    "\n",
    "# убедимся в преобразовании\n",
    "display(df_test[bin_cols].head())"
   ]
  },
  {
   "cell_type": "code",
   "execution_count": 25,
   "metadata": {},
   "outputs": [
    {
     "data": {
      "text/plain": [
       "<AxesSubplot:title={'center':'Значимость бинарных и категориальных признаков'}>"
      ]
     },
     "execution_count": 25,
     "metadata": {},
     "output_type": "execute_result"
    },
    {
     "data": {
      "image/png": "[encoded data removed]",
      "text/plain": [
       "<Figure size 432x288 with 1 Axes>"
      ]
     },
     "metadata": {
      "needs_background": "light"
     },
     "output_type": "display_data"
    }
   ],
   "source": [
    "imp_cat = Series(mutual_info_classif(df_train[bin_cols + cat_cols], df_train['default'],\n",
    "                                     discrete_features=True), index=bin_cols + cat_cols)\n",
    "imp_cat.sort_values(inplace=True)\n",
    "imp_cat.plot(\n",
    "    kind='barh', title='Значимость бинарных и категориальных признаков')"
   ]
  },
  {
   "cell_type": "code",
   "execution_count": 26,
   "metadata": {},
   "outputs": [
    {
     "data": {
      "text/html": [
       "<div>\n",
       "<style scoped>\n",
       "    .dataframe tbody tr th:only-of-type {\n",
       "        vertical-align: middle;\n",
       "    }\n",
       "\n",
       "    .dataframe tbody tr th {\n",
       "        vertical-align: top;\n",
       "    }\n",
       "\n",
       "    .dataframe thead th {\n",
       "        text-align: right;\n",
       "    }\n",
       "</style>\n",
       "<table border=\"1\" class=\"dataframe\">\n",
       "  <thead>\n",
       "    <tr style=\"text-align: right;\">\n",
       "      <th></th>\n",
       "      <th>client_id</th>\n",
       "      <th>education</th>\n",
       "      <th>sex</th>\n",
       "      <th>age</th>\n",
       "      <th>car</th>\n",
       "      <th>car_type</th>\n",
       "      <th>decline_app_cnt</th>\n",
       "      <th>good_work</th>\n",
       "      <th>score_bki</th>\n",
       "      <th>bki_request_cnt</th>\n",
       "      <th>region_rating</th>\n",
       "      <th>home_address</th>\n",
       "      <th>work_address</th>\n",
       "      <th>income</th>\n",
       "      <th>sna</th>\n",
       "      <th>first_time</th>\n",
       "      <th>foreign_passport</th>\n",
       "      <th>default</th>\n",
       "      <th>app_month</th>\n",
       "    </tr>\n",
       "  </thead>\n",
       "  <tbody>\n",
       "    <tr>\n",
       "      <th>count</th>\n",
       "      <td>73799.000000</td>\n",
       "      <td>73799.000000</td>\n",
       "      <td>73799.000000</td>\n",
       "      <td>73799.000000</td>\n",
       "      <td>73799.000000</td>\n",
       "      <td>73799.000000</td>\n",
       "      <td>73799.000000</td>\n",
       "      <td>73799.000000</td>\n",
       "      <td>73799.000000</td>\n",
       "      <td>73799.000000</td>\n",
       "      <td>73799.000000</td>\n",
       "      <td>73799.000000</td>\n",
       "      <td>73799.000000</td>\n",
       "      <td>73799.000000</td>\n",
       "      <td>73799.000000</td>\n",
       "      <td>73799.000000</td>\n",
       "      <td>73799.000000</td>\n",
       "      <td>73799.000000</td>\n",
       "      <td>73799.000000</td>\n",
       "    </tr>\n",
       "    <tr>\n",
       "      <th>mean</th>\n",
       "      <td>55137.965094</td>\n",
       "      <td>1.480142</td>\n",
       "      <td>0.436822</td>\n",
       "      <td>3.655332</td>\n",
       "      <td>0.324760</td>\n",
       "      <td>0.189813</td>\n",
       "      <td>0.152451</td>\n",
       "      <td>0.164894</td>\n",
       "      <td>-1.904724</td>\n",
       "      <td>0.878014</td>\n",
       "      <td>56.725701</td>\n",
       "      <td>1.575509</td>\n",
       "      <td>2.496280</td>\n",
       "      <td>10.345886</td>\n",
       "      <td>1.733330</td>\n",
       "      <td>2.765458</td>\n",
       "      <td>0.149948</td>\n",
       "      <td>0.126994</td>\n",
       "      <td>2.537053</td>\n",
       "    </tr>\n",
       "    <tr>\n",
       "      <th>std</th>\n",
       "      <td>31841.921168</td>\n",
       "      <td>1.071843</td>\n",
       "      <td>0.495996</td>\n",
       "      <td>0.285077</td>\n",
       "      <td>0.468288</td>\n",
       "      <td>0.392156</td>\n",
       "      <td>0.362971</td>\n",
       "      <td>0.371087</td>\n",
       "      <td>0.498231</td>\n",
       "      <td>0.657881</td>\n",
       "      <td>13.055717</td>\n",
       "      <td>0.527631</td>\n",
       "      <td>0.689818</td>\n",
       "      <td>0.697702</td>\n",
       "      <td>1.123622</td>\n",
       "      <td>1.009463</td>\n",
       "      <td>0.357023</td>\n",
       "      <td>0.332968</td>\n",
       "      <td>1.089098</td>\n",
       "    </tr>\n",
       "    <tr>\n",
       "      <th>min</th>\n",
       "      <td>1.000000</td>\n",
       "      <td>0.000000</td>\n",
       "      <td>0.000000</td>\n",
       "      <td>3.091042</td>\n",
       "      <td>0.000000</td>\n",
       "      <td>0.000000</td>\n",
       "      <td>0.000000</td>\n",
       "      <td>0.000000</td>\n",
       "      <td>-3.624586</td>\n",
       "      <td>0.000000</td>\n",
       "      <td>20.000000</td>\n",
       "      <td>1.000000</td>\n",
       "      <td>1.000000</td>\n",
       "      <td>6.908755</td>\n",
       "      <td>1.000000</td>\n",
       "      <td>1.000000</td>\n",
       "      <td>0.000000</td>\n",
       "      <td>0.000000</td>\n",
       "      <td>1.000000</td>\n",
       "    </tr>\n",
       "    <tr>\n",
       "      <th>25%</th>\n",
       "      <td>27440.500000</td>\n",
       "      <td>0.000000</td>\n",
       "      <td>0.000000</td>\n",
       "      <td>3.433987</td>\n",
       "      <td>0.000000</td>\n",
       "      <td>0.000000</td>\n",
       "      <td>0.000000</td>\n",
       "      <td>0.000000</td>\n",
       "      <td>-2.259534</td>\n",
       "      <td>0.000000</td>\n",
       "      <td>50.000000</td>\n",
       "      <td>1.000000</td>\n",
       "      <td>2.000000</td>\n",
       "      <td>9.903538</td>\n",
       "      <td>1.000000</td>\n",
       "      <td>2.000000</td>\n",
       "      <td>0.000000</td>\n",
       "      <td>0.000000</td>\n",
       "      <td>2.000000</td>\n",
       "    </tr>\n",
       "    <tr>\n",
       "      <th>50%</th>\n",
       "      <td>55274.000000</td>\n",
       "      <td>2.000000</td>\n",
       "      <td>0.000000</td>\n",
       "      <td>3.637586</td>\n",
       "      <td>0.000000</td>\n",
       "      <td>0.000000</td>\n",
       "      <td>0.000000</td>\n",
       "      <td>0.000000</td>\n",
       "      <td>-1.920823</td>\n",
       "      <td>0.693147</td>\n",
       "      <td>50.000000</td>\n",
       "      <td>2.000000</td>\n",
       "      <td>3.000000</td>\n",
       "      <td>10.308986</td>\n",
       "      <td>1.000000</td>\n",
       "      <td>3.000000</td>\n",
       "      <td>0.000000</td>\n",
       "      <td>0.000000</td>\n",
       "      <td>3.000000</td>\n",
       "    </tr>\n",
       "    <tr>\n",
       "      <th>75%</th>\n",
       "      <td>82758.500000</td>\n",
       "      <td>2.000000</td>\n",
       "      <td>1.000000</td>\n",
       "      <td>3.891820</td>\n",
       "      <td>1.000000</td>\n",
       "      <td>0.000000</td>\n",
       "      <td>0.000000</td>\n",
       "      <td>0.000000</td>\n",
       "      <td>-1.569831</td>\n",
       "      <td>1.386294</td>\n",
       "      <td>60.000000</td>\n",
       "      <td>2.000000</td>\n",
       "      <td>3.000000</td>\n",
       "      <td>10.778977</td>\n",
       "      <td>2.000000</td>\n",
       "      <td>4.000000</td>\n",
       "      <td>0.000000</td>\n",
       "      <td>0.000000</td>\n",
       "      <td>3.000000</td>\n",
       "    </tr>\n",
       "    <tr>\n",
       "      <th>max</th>\n",
       "      <td>110147.000000</td>\n",
       "      <td>3.000000</td>\n",
       "      <td>1.000000</td>\n",
       "      <td>4.290459</td>\n",
       "      <td>1.000000</td>\n",
       "      <td>1.000000</td>\n",
       "      <td>3.526361</td>\n",
       "      <td>1.000000</td>\n",
       "      <td>0.199773</td>\n",
       "      <td>3.988984</td>\n",
       "      <td>80.000000</td>\n",
       "      <td>3.000000</td>\n",
       "      <td>3.000000</td>\n",
       "      <td>13.815512</td>\n",
       "      <td>4.000000</td>\n",
       "      <td>4.000000</td>\n",
       "      <td>1.000000</td>\n",
       "      <td>1.000000</td>\n",
       "      <td>4.000000</td>\n",
       "    </tr>\n",
       "  </tbody>\n",
       "</table>\n",
       "</div>"
      ],
      "text/plain": [
       "           client_id     education           sex           age           car  \\\n",
       "count   73799.000000  73799.000000  73799.000000  73799.000000  73799.000000   \n",
       "mean    55137.965094      1.480142      0.436822      3.655332      0.324760   \n",
       "std     31841.921168      1.071843      0.495996      0.285077      0.468288   \n",
       "min         1.000000      0.000000      0.000000      3.091042      0.000000   \n",
       "25%     27440.500000      0.000000      0.000000      3.433987      0.000000   \n",
       "50%     55274.000000      2.000000      0.000000      3.637586      0.000000   \n",
       "75%     82758.500000      2.000000      1.000000      3.891820      1.000000   \n",
       "max    110147.000000      3.000000      1.000000      4.290459      1.000000   \n",
       "\n",
       "           car_type  decline_app_cnt     good_work     score_bki  \\\n",
       "count  73799.000000     73799.000000  73799.000000  73799.000000   \n",
       "mean       0.189813         0.152451      0.164894     -1.904724   \n",
       "std        0.392156         0.362971      0.371087      0.498231   \n",
       "min        0.000000         0.000000      0.000000     -3.624586   \n",
       "25%        0.000000         0.000000      0.000000     -2.259534   \n",
       "50%        0.000000         0.000000      0.000000     -1.920823   \n",
       "75%        0.000000         0.000000      0.000000     -1.569831   \n",
       "max        1.000000         3.526361      1.000000      0.199773   \n",
       "\n",
       "       bki_request_cnt  region_rating  home_address  work_address  \\\n",
       "count     73799.000000   73799.000000  73799.000000  73799.000000   \n",
       "mean          0.878014      56.725701      1.575509      2.496280   \n",
       "std           0.657881      13.055717      0.527631      0.689818   \n",
       "min           0.000000      20.000000      1.000000      1.000000   \n",
       "25%           0.000000      50.000000      1.000000      2.000000   \n",
       "50%           0.693147      50.000000      2.000000      3.000000   \n",
       "75%           1.386294      60.000000      2.000000      3.000000   \n",
       "max           3.988984      80.000000      3.000000      3.000000   \n",
       "\n",
       "             income           sna    first_time  foreign_passport  \\\n",
       "count  73799.000000  73799.000000  73799.000000      73799.000000   \n",
       "mean      10.345886      1.733330      2.765458          0.149948   \n",
       "std        0.697702      1.123622      1.009463          0.357023   \n",
       "min        6.908755      1.000000      1.000000          0.000000   \n",
       "25%        9.903538      1.000000      2.000000          0.000000   \n",
       "50%       10.308986      1.000000      3.000000          0.000000   \n",
       "75%       10.778977      2.000000      4.000000          0.000000   \n",
       "max       13.815512      4.000000      4.000000          1.000000   \n",
       "\n",
       "            default     app_month  \n",
       "count  73799.000000  73799.000000  \n",
       "mean       0.126994      2.537053  \n",
       "std        0.332968      1.089098  \n",
       "min        0.000000      1.000000  \n",
       "25%        0.000000      2.000000  \n",
       "50%        0.000000      3.000000  \n",
       "75%        0.000000      3.000000  \n",
       "max        1.000000      4.000000  "
      ]
     },
     "execution_count": 26,
     "metadata": {},
     "output_type": "execute_result"
    }
   ],
   "source": [
    "df_train.describe()"
   ]
  },
  {
   "cell_type": "code",
   "execution_count": 27,
   "metadata": {},
   "outputs": [
    {
     "data": {
      "text/html": [
       "<div>\n",
       "<style scoped>\n",
       "    .dataframe tbody tr th:only-of-type {\n",
       "        vertical-align: middle;\n",
       "    }\n",
       "\n",
       "    .dataframe tbody tr th {\n",
       "        vertical-align: top;\n",
       "    }\n",
       "\n",
       "    .dataframe thead th {\n",
       "        text-align: right;\n",
       "    }\n",
       "</style>\n",
       "<table border=\"1\" class=\"dataframe\">\n",
       "  <thead>\n",
       "    <tr style=\"text-align: right;\">\n",
       "      <th></th>\n",
       "      <th>client_id</th>\n",
       "      <th>education</th>\n",
       "      <th>sex</th>\n",
       "      <th>age</th>\n",
       "      <th>car</th>\n",
       "      <th>car_type</th>\n",
       "      <th>decline_app_cnt</th>\n",
       "      <th>good_work</th>\n",
       "      <th>score_bki</th>\n",
       "      <th>bki_request_cnt</th>\n",
       "      <th>region_rating</th>\n",
       "      <th>home_address</th>\n",
       "      <th>work_address</th>\n",
       "      <th>income</th>\n",
       "      <th>sna</th>\n",
       "      <th>first_time</th>\n",
       "      <th>foreign_passport</th>\n",
       "      <th>app_month</th>\n",
       "    </tr>\n",
       "  </thead>\n",
       "  <tbody>\n",
       "    <tr>\n",
       "      <th>count</th>\n",
       "      <td>36349.000000</td>\n",
       "      <td>36349.000000</td>\n",
       "      <td>36349.000000</td>\n",
       "      <td>36349.000000</td>\n",
       "      <td>36349.000000</td>\n",
       "      <td>36349.000000</td>\n",
       "      <td>36349.000000</td>\n",
       "      <td>36349.000000</td>\n",
       "      <td>36349.000000</td>\n",
       "      <td>36349.000000</td>\n",
       "      <td>36349.000000</td>\n",
       "      <td>36349.000000</td>\n",
       "      <td>36349.000000</td>\n",
       "      <td>36349.000000</td>\n",
       "      <td>36349.000000</td>\n",
       "      <td>36349.000000</td>\n",
       "      <td>36349.000000</td>\n",
       "      <td>36349.000000</td>\n",
       "    </tr>\n",
       "    <tr>\n",
       "      <th>mean</th>\n",
       "      <td>54945.647473</td>\n",
       "      <td>1.488872</td>\n",
       "      <td>0.442241</td>\n",
       "      <td>3.652950</td>\n",
       "      <td>0.327134</td>\n",
       "      <td>0.192578</td>\n",
       "      <td>0.149054</td>\n",
       "      <td>0.166772</td>\n",
       "      <td>-1.904152</td>\n",
       "      <td>0.880251</td>\n",
       "      <td>56.802938</td>\n",
       "      <td>1.573798</td>\n",
       "      <td>2.501087</td>\n",
       "      <td>10.345602</td>\n",
       "      <td>1.728053</td>\n",
       "      <td>2.765798</td>\n",
       "      <td>0.147487</td>\n",
       "      <td>2.531156</td>\n",
       "    </tr>\n",
       "    <tr>\n",
       "      <th>std</th>\n",
       "      <td>31706.052195</td>\n",
       "      <td>1.071772</td>\n",
       "      <td>0.496659</td>\n",
       "      <td>0.285005</td>\n",
       "      <td>0.469173</td>\n",
       "      <td>0.394329</td>\n",
       "      <td>0.357972</td>\n",
       "      <td>0.372777</td>\n",
       "      <td>0.501764</td>\n",
       "      <td>0.660265</td>\n",
       "      <td>13.086646</td>\n",
       "      <td>0.527428</td>\n",
       "      <td>0.683227</td>\n",
       "      <td>0.694477</td>\n",
       "      <td>1.120686</td>\n",
       "      <td>1.011560</td>\n",
       "      <td>0.354595</td>\n",
       "      <td>1.084800</td>\n",
       "    </tr>\n",
       "    <tr>\n",
       "      <th>min</th>\n",
       "      <td>4.000000</td>\n",
       "      <td>0.000000</td>\n",
       "      <td>0.000000</td>\n",
       "      <td>3.091042</td>\n",
       "      <td>0.000000</td>\n",
       "      <td>0.000000</td>\n",
       "      <td>0.000000</td>\n",
       "      <td>0.000000</td>\n",
       "      <td>-3.574197</td>\n",
       "      <td>0.000000</td>\n",
       "      <td>20.000000</td>\n",
       "      <td>1.000000</td>\n",
       "      <td>1.000000</td>\n",
       "      <td>6.908755</td>\n",
       "      <td>1.000000</td>\n",
       "      <td>1.000000</td>\n",
       "      <td>0.000000</td>\n",
       "      <td>1.000000</td>\n",
       "    </tr>\n",
       "    <tr>\n",
       "      <th>25%</th>\n",
       "      <td>27744.000000</td>\n",
       "      <td>0.000000</td>\n",
       "      <td>0.000000</td>\n",
       "      <td>3.433987</td>\n",
       "      <td>0.000000</td>\n",
       "      <td>0.000000</td>\n",
       "      <td>0.000000</td>\n",
       "      <td>0.000000</td>\n",
       "      <td>-2.261909</td>\n",
       "      <td>0.000000</td>\n",
       "      <td>50.000000</td>\n",
       "      <td>1.000000</td>\n",
       "      <td>2.000000</td>\n",
       "      <td>9.903538</td>\n",
       "      <td>1.000000</td>\n",
       "      <td>2.000000</td>\n",
       "      <td>0.000000</td>\n",
       "      <td>2.000000</td>\n",
       "    </tr>\n",
       "    <tr>\n",
       "      <th>50%</th>\n",
       "      <td>54657.000000</td>\n",
       "      <td>2.000000</td>\n",
       "      <td>0.000000</td>\n",
       "      <td>3.637586</td>\n",
       "      <td>0.000000</td>\n",
       "      <td>0.000000</td>\n",
       "      <td>0.000000</td>\n",
       "      <td>0.000000</td>\n",
       "      <td>-1.920823</td>\n",
       "      <td>0.693147</td>\n",
       "      <td>50.000000</td>\n",
       "      <td>2.000000</td>\n",
       "      <td>3.000000</td>\n",
       "      <td>10.308986</td>\n",
       "      <td>1.000000</td>\n",
       "      <td>3.000000</td>\n",
       "      <td>0.000000</td>\n",
       "      <td>3.000000</td>\n",
       "    </tr>\n",
       "    <tr>\n",
       "      <th>75%</th>\n",
       "      <td>82322.000000</td>\n",
       "      <td>2.000000</td>\n",
       "      <td>1.000000</td>\n",
       "      <td>3.891820</td>\n",
       "      <td>1.000000</td>\n",
       "      <td>0.000000</td>\n",
       "      <td>0.000000</td>\n",
       "      <td>0.000000</td>\n",
       "      <td>-1.563957</td>\n",
       "      <td>1.386294</td>\n",
       "      <td>60.000000</td>\n",
       "      <td>2.000000</td>\n",
       "      <td>3.000000</td>\n",
       "      <td>10.778977</td>\n",
       "      <td>2.000000</td>\n",
       "      <td>4.000000</td>\n",
       "      <td>0.000000</td>\n",
       "      <td>3.000000</td>\n",
       "    </tr>\n",
       "    <tr>\n",
       "      <th>max</th>\n",
       "      <td>110148.000000</td>\n",
       "      <td>3.000000</td>\n",
       "      <td>1.000000</td>\n",
       "      <td>4.276666</td>\n",
       "      <td>1.000000</td>\n",
       "      <td>1.000000</td>\n",
       "      <td>3.433987</td>\n",
       "      <td>1.000000</td>\n",
       "      <td>0.188820</td>\n",
       "      <td>3.871201</td>\n",
       "      <td>80.000000</td>\n",
       "      <td>3.000000</td>\n",
       "      <td>3.000000</td>\n",
       "      <td>13.815512</td>\n",
       "      <td>4.000000</td>\n",
       "      <td>4.000000</td>\n",
       "      <td>1.000000</td>\n",
       "      <td>4.000000</td>\n",
       "    </tr>\n",
       "  </tbody>\n",
       "</table>\n",
       "</div>"
      ],
      "text/plain": [
       "           client_id     education           sex           age           car  \\\n",
       "count   36349.000000  36349.000000  36349.000000  36349.000000  36349.000000   \n",
       "mean    54945.647473      1.488872      0.442241      3.652950      0.327134   \n",
       "std     31706.052195      1.071772      0.496659      0.285005      0.469173   \n",
       "min         4.000000      0.000000      0.000000      3.091042      0.000000   \n",
       "25%     27744.000000      0.000000      0.000000      3.433987      0.000000   \n",
       "50%     54657.000000      2.000000      0.000000      3.637586      0.000000   \n",
       "75%     82322.000000      2.000000      1.000000      3.891820      1.000000   \n",
       "max    110148.000000      3.000000      1.000000      4.276666      1.000000   \n",
       "\n",
       "           car_type  decline_app_cnt     good_work     score_bki  \\\n",
       "count  36349.000000     36349.000000  36349.000000  36349.000000   \n",
       "mean       0.192578         0.149054      0.166772     -1.904152   \n",
       "std        0.394329         0.357972      0.372777      0.501764   \n",
       "min        0.000000         0.000000      0.000000     -3.574197   \n",
       "25%        0.000000         0.000000      0.000000     -2.261909   \n",
       "50%        0.000000         0.000000      0.000000     -1.920823   \n",
       "75%        0.000000         0.000000      0.000000     -1.563957   \n",
       "max        1.000000         3.433987      1.000000      0.188820   \n",
       "\n",
       "       bki_request_cnt  region_rating  home_address  work_address  \\\n",
       "count     36349.000000   36349.000000  36349.000000  36349.000000   \n",
       "mean          0.880251      56.802938      1.573798      2.501087   \n",
       "std           0.660265      13.086646      0.527428      0.683227   \n",
       "min           0.000000      20.000000      1.000000      1.000000   \n",
       "25%           0.000000      50.000000      1.000000      2.000000   \n",
       "50%           0.693147      50.000000      2.000000      3.000000   \n",
       "75%           1.386294      60.000000      2.000000      3.000000   \n",
       "max           3.871201      80.000000      3.000000      3.000000   \n",
       "\n",
       "             income           sna    first_time  foreign_passport  \\\n",
       "count  36349.000000  36349.000000  36349.000000      36349.000000   \n",
       "mean      10.345602      1.728053      2.765798          0.147487   \n",
       "std        0.694477      1.120686      1.011560          0.354595   \n",
       "min        6.908755      1.000000      1.000000          0.000000   \n",
       "25%        9.903538      1.000000      2.000000          0.000000   \n",
       "50%       10.308986      1.000000      3.000000          0.000000   \n",
       "75%       10.778977      2.000000      4.000000          0.000000   \n",
       "max       13.815512      4.000000      4.000000          1.000000   \n",
       "\n",
       "          app_month  \n",
       "count  36349.000000  \n",
       "mean       2.531156  \n",
       "std        1.084800  \n",
       "min        1.000000  \n",
       "25%        2.000000  \n",
       "50%        3.000000  \n",
       "75%        3.000000  \n",
       "max        4.000000  "
      ]
     },
     "execution_count": 27,
     "metadata": {},
     "output_type": "execute_result"
    }
   ],
   "source": [
    "df_test.describe()"
   ]
  },
  {
   "cell_type": "markdown",
   "metadata": {
    "papermill": {
     "duration": 0.068153,
     "end_time": "2021-01-20T12:56:59.680791",
     "exception": false,
     "start_time": "2021-01-20T12:56:59.612638",
     "status": "completed"
    },
    "tags": []
   },
   "source": [
    "## Подготовка к ML"
   ]
  },
  {
   "cell_type": "code",
   "execution_count": 28,
   "metadata": {},
   "outputs": [
    {
     "name": "stdout",
     "output_type": "stream",
     "text": [
      "Число категориальных признаков после OneHot кодирования должно быть:  22\n"
     ]
    },
    {
     "data": {
      "text/plain": [
       "home_address     3\n",
       "work_address     3\n",
       "education        4\n",
       "sna              4\n",
       "first_time       4\n",
       "app_month        4\n",
       "region_rating    7\n",
       "dtype: int64"
      ]
     },
     "execution_count": 28,
     "metadata": {},
     "output_type": "execute_result"
    }
   ],
   "source": [
    "# Пробежимся по количеству встречающихся значений по всем категориальным признакам\n",
    "\n",
    "print('Число категориальных признаков после OneHot кодирования должно быть: ',\n",
    "      df_train[cat_cols].nunique().sum()-len(cat_cols))\n",
    "df_train[cat_cols].nunique().sort_values()"
   ]
  },
  {
   "cell_type": "markdown",
   "metadata": {},
   "source": [
    "#### Преобразуем категориальные переменные при помощи OneHotEncoder:"
   ]
  },
  {
   "cell_type": "code",
   "execution_count": 29,
   "metadata": {},
   "outputs": [
    {
     "name": "stdout",
     "output_type": "stream",
     "text": [
      "(73799, 22)\n",
      "(36349, 22)\n"
     ]
    }
   ],
   "source": [
    "oh_encoder = OneHotEncoder(sparse=False, drop='first').fit(df_train[cat_cols])\n",
    "X_cat_train = oh_encoder.transform(df_train[cat_cols].values)\n",
    "X_cat_test = oh_encoder.transform(df_test[cat_cols].values)\n",
    "print(X_cat_train.shape)\n",
    "print(X_cat_test.shape)"
   ]
  },
  {
   "cell_type": "markdown",
   "metadata": {},
   "source": [
    "#### Дополним автоматически полиномиальные признаки :"
   ]
  },
  {
   "cell_type": "code",
   "execution_count": 30,
   "metadata": {},
   "outputs": [],
   "source": [
    "from sklearn.preprocessing import PolynomialFeatures\n",
    "\n",
    "poly = PolynomialFeatures(2)\n",
    "\n",
    "X_num_train = poly.fit_transform(df_train[num_cols].values)\n",
    "X_num_test = poly.transform(df_test[num_cols].values)\n"
   ]
  },
  {
   "cell_type": "markdown",
   "metadata": {
    "papermill": {
     "duration": 0.068597,
     "end_time": "2021-01-20T12:57:00.000249",
     "exception": false,
     "start_time": "2021-01-20T12:56:59.931652",
     "status": "completed"
    },
    "tags": []
   },
   "source": [
    "### Нормирование данных"
   ]
  },
  {
   "cell_type": "code",
   "execution_count": 31,
   "metadata": {},
   "outputs": [],
   "source": [
    "#X_num_train = df_train[num_cols].values\n",
    "#X_num_test = df_test[num_cols].values"
   ]
  },
  {
   "cell_type": "code",
   "execution_count": 32,
   "metadata": {
    "execution": {
     "iopub.execute_input": "2021-01-20T12:57:00.141974Z",
     "iopub.status.busy": "2021-01-20T12:57:00.141249Z",
     "iopub.status.idle": "2021-01-20T12:57:00.360379Z",
     "shell.execute_reply": "2021-01-20T12:57:00.359723Z"
    },
    "papermill": {
     "duration": 0.290345,
     "end_time": "2021-01-20T12:57:00.360497",
     "exception": false,
     "start_time": "2021-01-20T12:57:00.070152",
     "status": "completed"
    },
    "tags": []
   },
   "outputs": [],
   "source": [
    "# Поскольку в данных выбросы, воспользуемся RobustScaler\n",
    "rscaler = RobustScaler().fit(X_num_train)\n",
    "X_num_train = rscaler.transform(X_num_train)\n",
    "X_num_test = rscaler.transform(X_num_test)\n"
   ]
  },
  {
   "cell_type": "markdown",
   "metadata": {
    "papermill": {
     "duration": 0.06897,
     "end_time": "2021-01-20T12:57:00.655022",
     "exception": false,
     "start_time": "2021-01-20T12:57:00.586052",
     "status": "completed"
    },
    "tags": []
   },
   "source": [
    "### ML"
   ]
  },
  {
   "cell_type": "code",
   "execution_count": 33,
   "metadata": {
    "execution": {
     "iopub.execute_input": "2021-01-20T12:57:00.805192Z",
     "iopub.status.busy": "2021-01-20T12:57:00.803952Z",
     "iopub.status.idle": "2021-01-20T12:57:00.836941Z",
     "shell.execute_reply": "2021-01-20T12:57:00.836118Z"
    },
    "papermill": {
     "duration": 0.11152,
     "end_time": "2021-01-20T12:57:00.837084",
     "exception": false,
     "start_time": "2021-01-20T12:57:00.725564",
     "status": "completed"
    },
    "tags": []
   },
   "outputs": [],
   "source": [
    "# Объединяем\n",
    "\n",
    "# тренировочные данные \n",
    "X = np.hstack([X_num_train, df_train[bin_cols].values, X_cat_train])\n",
    "y = df_train['default'].values\n",
    "\n",
    "# тестовые данные\n",
    "test_data = np.hstack([X_num_test, df_test[bin_cols].values, X_cat_test])"
   ]
  },
  {
   "cell_type": "markdown",
   "metadata": {},
   "source": [
    "Из X выделяем данные на валидацию (имеется ввиду тестирование и получение метрик на части тренировочного датасета X перед сабмитом)\n"
   ]
  },
  {
   "cell_type": "code",
   "execution_count": 34,
   "metadata": {},
   "outputs": [],
   "source": [
    "X_train, X_valid, y_train, y_valid = train_test_split(\n",
    "    X, y, test_size=0.20, random_state=42, shuffle=True)"
   ]
  },
  {
   "cell_type": "code",
   "execution_count": 35,
   "metadata": {},
   "outputs": [
    {
     "data": {
      "text/html": [
       "<div>\n",
       "<style scoped>\n",
       "    .dataframe tbody tr th:only-of-type {\n",
       "        vertical-align: middle;\n",
       "    }\n",
       "\n",
       "    .dataframe tbody tr th {\n",
       "        vertical-align: top;\n",
       "    }\n",
       "\n",
       "    .dataframe thead th {\n",
       "        text-align: right;\n",
       "    }\n",
       "</style>\n",
       "<table border=\"1\" class=\"dataframe\">\n",
       "  <thead>\n",
       "    <tr style=\"text-align: right;\">\n",
       "      <th></th>\n",
       "      <th></th>\n",
       "      <th>Значение</th>\n",
       "    </tr>\n",
       "  </thead>\n",
       "  <tbody>\n",
       "    <tr>\n",
       "      <th>0</th>\n",
       "      <td>размер y</td>\n",
       "      <td>73799.000000</td>\n",
       "    </tr>\n",
       "    <tr>\n",
       "      <th>1</th>\n",
       "      <td>размер y_train</td>\n",
       "      <td>59039.000000</td>\n",
       "    </tr>\n",
       "    <tr>\n",
       "      <th>2</th>\n",
       "      <td>размер y_valid</td>\n",
       "      <td>14760.000000</td>\n",
       "    </tr>\n",
       "    <tr>\n",
       "      <th>3</th>\n",
       "      <td>Соотношение классов в 'default' для обучения</td>\n",
       "      <td>0.127797</td>\n",
       "    </tr>\n",
       "    <tr>\n",
       "      <th>4</th>\n",
       "      <td>Соотношение классов в 'default' для валидации</td>\n",
       "      <td>0.123780</td>\n",
       "    </tr>\n",
       "  </tbody>\n",
       "</table>\n",
       "</div>"
      ],
      "text/plain": [
       "                                                      Значение\n",
       "0                                       размер y  73799.000000\n",
       "1                                 размер y_train  59039.000000\n",
       "2                                 размер y_valid  14760.000000\n",
       "3   Соотношение классов в 'default' для обучения      0.127797\n",
       "4  Соотношение классов в 'default' для валидации      0.123780"
      ]
     },
     "metadata": {},
     "output_type": "display_data"
    }
   ],
   "source": [
    "stats = ['размер y', 'размер y_train', 'размер y_valid', 'Соотношение классов в \\'default\\' для обучения','Соотношение классов в \\'default\\' для валидации']\n",
    "value = [len(y), len(y_train),len(y_valid),sum(y_train)/len(y_train),sum(y_valid)/len(y_valid)]\n",
    "display(pd.DataFrame(\n",
    "    {' ': stats, 'Значение': value}, columns=[' ', 'Значение']))\n"
   ]
  },
  {
   "cell_type": "markdown",
   "metadata": {},
   "source": [
    "Учитывая диспропорции классов в переменной 'default', подготовим данные для обучения моделей с помощью стратификации и ресемплинга:"
   ]
  },
  {
   "cell_type": "code",
   "execution_count": 36,
   "metadata": {},
   "outputs": [
    {
     "data": {
      "text/html": [
       "<div>\n",
       "<style scoped>\n",
       "    .dataframe tbody tr th:only-of-type {\n",
       "        vertical-align: middle;\n",
       "    }\n",
       "\n",
       "    .dataframe tbody tr th {\n",
       "        vertical-align: top;\n",
       "    }\n",
       "\n",
       "    .dataframe thead th {\n",
       "        text-align: right;\n",
       "    }\n",
       "</style>\n",
       "<table border=\"1\" class=\"dataframe\">\n",
       "  <thead>\n",
       "    <tr style=\"text-align: right;\">\n",
       "      <th></th>\n",
       "      <th></th>\n",
       "      <th>Значение</th>\n",
       "    </tr>\n",
       "  </thead>\n",
       "  <tbody>\n",
       "    <tr>\n",
       "      <th>0</th>\n",
       "      <td>размер y</td>\n",
       "      <td>73799.000000</td>\n",
       "    </tr>\n",
       "    <tr>\n",
       "      <th>1</th>\n",
       "      <td>размер y_train_s</td>\n",
       "      <td>59039.000000</td>\n",
       "    </tr>\n",
       "    <tr>\n",
       "      <th>2</th>\n",
       "      <td>размер y_valid_s</td>\n",
       "      <td>14760.000000</td>\n",
       "    </tr>\n",
       "    <tr>\n",
       "      <th>3</th>\n",
       "      <td>Соотношение классов в 'default' для обучения</td>\n",
       "      <td>0.127001</td>\n",
       "    </tr>\n",
       "    <tr>\n",
       "      <th>4</th>\n",
       "      <td>Соотношение классов в 'default' для валидации</td>\n",
       "      <td>0.126965</td>\n",
       "    </tr>\n",
       "  </tbody>\n",
       "</table>\n",
       "</div>"
      ],
      "text/plain": [
       "                                                      Значение\n",
       "0                                       размер y  73799.000000\n",
       "1                               размер y_train_s  59039.000000\n",
       "2                               размер y_valid_s  14760.000000\n",
       "3   Соотношение классов в 'default' для обучения      0.127001\n",
       "4  Соотношение классов в 'default' для валидации      0.126965"
      ]
     },
     "metadata": {},
     "output_type": "display_data"
    }
   ],
   "source": [
    "# Из train выделяем данные на валидацию с учетом пропорций классов в переменной 'default'\n",
    "X_train_s, X_valid_s, y_train_s, y_valid_s = train_test_split(\n",
    "    X, y, test_size=0.20, random_state=42, shuffle=True, stratify=y)\n",
    "stats = ['размер y', 'размер y_train_s', 'размер y_valid_s', 'Соотношение классов в \\'default\\' для обучения','Соотношение классов в \\'default\\' для валидации']\n",
    "value = [len(y), len(y_train_s),len(y_valid_s),sum(y_train_s)/len(y_train_s),sum(y_valid_s)/len(y_valid_s)]\n",
    "display(pd.DataFrame(\n",
    "    {' ': stats, 'Значение': value}, columns=[' ', 'Значение']))"
   ]
  },
  {
   "cell_type": "code",
   "execution_count": 37,
   "metadata": {
    "execution": {
     "iopub.execute_input": "2021-01-20T12:57:00.986259Z",
     "iopub.status.busy": "2021-01-20T12:57:00.984706Z",
     "iopub.status.idle": "2021-01-20T12:57:01.023192Z",
     "shell.execute_reply": "2021-01-20T12:57:01.022588Z"
    },
    "papermill": {
     "duration": 0.115305,
     "end_time": "2021-01-20T12:57:01.023313",
     "exception": false,
     "start_time": "2021-01-20T12:57:00.908008",
     "status": "completed"
    },
    "tags": []
   },
   "outputs": [
    {
     "data": {
      "text/html": [
       "<div>\n",
       "<style scoped>\n",
       "    .dataframe tbody tr th:only-of-type {\n",
       "        vertical-align: middle;\n",
       "    }\n",
       "\n",
       "    .dataframe tbody tr th {\n",
       "        vertical-align: top;\n",
       "    }\n",
       "\n",
       "    .dataframe thead th {\n",
       "        text-align: right;\n",
       "    }\n",
       "</style>\n",
       "<table border=\"1\" class=\"dataframe\">\n",
       "  <thead>\n",
       "    <tr style=\"text-align: right;\">\n",
       "      <th></th>\n",
       "      <th></th>\n",
       "      <th>Значение</th>\n",
       "    </tr>\n",
       "  </thead>\n",
       "  <tbody>\n",
       "    <tr>\n",
       "      <th>0</th>\n",
       "      <td>размер y</td>\n",
       "      <td>73799.00000</td>\n",
       "    </tr>\n",
       "    <tr>\n",
       "      <th>1</th>\n",
       "      <td>размер y_train_s_r</td>\n",
       "      <td>14996.00000</td>\n",
       "    </tr>\n",
       "    <tr>\n",
       "      <th>2</th>\n",
       "      <td>размер y_valid_s_r</td>\n",
       "      <td>14760.00000</td>\n",
       "    </tr>\n",
       "    <tr>\n",
       "      <th>3</th>\n",
       "      <td>Соотношение классов в 'default' для обучения</td>\n",
       "      <td>0.50000</td>\n",
       "    </tr>\n",
       "    <tr>\n",
       "      <th>4</th>\n",
       "      <td>Соотношение классов в 'default' для валидации</td>\n",
       "      <td>0.12378</td>\n",
       "    </tr>\n",
       "  </tbody>\n",
       "</table>\n",
       "</div>"
      ],
      "text/plain": [
       "                                                     Значение\n",
       "0                                       размер y  73799.00000\n",
       "1                             размер y_train_s_r  14996.00000\n",
       "2                             размер y_valid_s_r  14760.00000\n",
       "3   Соотношение классов в 'default' для обучения      0.50000\n",
       "4  Соотношение классов в 'default' для валидации      0.12378"
      ]
     },
     "metadata": {},
     "output_type": "display_data"
    }
   ],
   "source": [
    "# Учитывая дисбаланс классов проведем ресемплинг \n",
    "X_train_s_r, y_train_s_r = RandomUnderSampler(random_state=42).fit_sample(X_train_s, y_train_s)\n",
    "\n",
    "stats = ['размер y', 'размер y_train_s_r', 'размер y_valid_s_r', 'Соотношение классов в \\'default\\' для обучения','Соотношение классов в \\'default\\' для валидации']\n",
    "value = [len(y), len(y_train_s_r),len(y_valid_s),sum(y_train_s_r)/len(y_train_s_r),sum(y_valid)/len(y_valid)]\n",
    "display(pd.DataFrame(\n",
    "    {' ': stats, 'Значение': value}, columns=[' ', 'Значение']))"
   ]
  },
  {
   "cell_type": "code",
   "execution_count": 38,
   "metadata": {},
   "outputs": [
    {
     "data": {
      "text/plain": [
       "0.5"
      ]
     },
     "execution_count": 38,
     "metadata": {},
     "output_type": "execute_result"
    }
   ],
   "source": [
    "# Соотношение классов в 'default' для обучения теперь: \n",
    "sum(y_train_s_r)/len(y_train_s_r)"
   ]
  },
  {
   "cell_type": "code",
   "execution_count": 39,
   "metadata": {},
   "outputs": [
    {
     "data": {
      "text/plain": [
       "0.12378048780487805"
      ]
     },
     "execution_count": 39,
     "metadata": {},
     "output_type": "execute_result"
    }
   ],
   "source": [
    "# Соотношение классов в 'default' для валидации: \n",
    "sum(y_valid)/len(y_valid)"
   ]
  },
  {
   "cell_type": "markdown",
   "metadata": {},
   "source": [
    "#### Пробуем логистическую регрессию"
   ]
  },
  {
   "cell_type": "code",
   "execution_count": 40,
   "metadata": {},
   "outputs": [
    {
     "data": {
      "text/plain": [
       "LogisticRegression(random_state=42)"
      ]
     },
     "execution_count": 40,
     "metadata": {},
     "output_type": "execute_result"
    }
   ],
   "source": [
    "model = LogisticRegression(random_state=RANDOM_SEED )\n",
    "# Обучаем\n",
    "model.fit(X_train_s_r, y_train_s_r)\n",
    "\n"
   ]
  },
  {
   "cell_type": "code",
   "execution_count": 41,
   "metadata": {},
   "outputs": [
    {
     "data": {
      "image/png": "[encoded data removed]",
      "text/plain": [
       "<Figure size 432x288 with 1 Axes>"
      ]
     },
     "metadata": {
      "needs_background": "light"
     },
     "output_type": "display_data"
    },
    {
     "data": {
      "image/png": "[encoded data removed]",
      "text/plain": [
       "<Figure size 432x288 with 2 Axes>"
      ]
     },
     "metadata": {
      "needs_background": "light"
     },
     "output_type": "display_data"
    },
    {
     "data": {
      "text/html": [
       "<div>\n",
       "<style scoped>\n",
       "    .dataframe tbody tr th:only-of-type {\n",
       "        vertical-align: middle;\n",
       "    }\n",
       "\n",
       "    .dataframe tbody tr th {\n",
       "        vertical-align: top;\n",
       "    }\n",
       "\n",
       "    .dataframe thead th {\n",
       "        text-align: right;\n",
       "    }\n",
       "</style>\n",
       "<table border=\"1\" class=\"dataframe\">\n",
       "  <thead>\n",
       "    <tr style=\"text-align: right;\">\n",
       "      <th></th>\n",
       "      <th>Метрика</th>\n",
       "      <th>Значение</th>\n",
       "    </tr>\n",
       "  </thead>\n",
       "  <tbody>\n",
       "    <tr>\n",
       "      <th>0</th>\n",
       "      <td>accuracy</td>\n",
       "      <td>0.667683</td>\n",
       "    </tr>\n",
       "    <tr>\n",
       "      <th>1</th>\n",
       "      <td>precision</td>\n",
       "      <td>0.224588</td>\n",
       "    </tr>\n",
       "    <tr>\n",
       "      <th>2</th>\n",
       "      <td>recall</td>\n",
       "      <td>0.686918</td>\n",
       "    </tr>\n",
       "    <tr>\n",
       "      <th>3</th>\n",
       "      <td>f1_score</td>\n",
       "      <td>0.338503</td>\n",
       "    </tr>\n",
       "  </tbody>\n",
       "</table>\n",
       "</div>"
      ],
      "text/plain": [
       "     Метрика  Значение\n",
       "0   accuracy  0.667683\n",
       "1  precision  0.224588\n",
       "2     recall  0.686918\n",
       "3   f1_score  0.338503"
      ]
     },
     "metadata": {},
     "output_type": "display_data"
    }
   ],
   "source": [
    "# Запускаем модель \n",
    "def get_model_metrics(model_name,model,X_train,y_train,X_valid,y_valid):\n",
    "    y_pred_prob = model.predict_proba(X_valid)[:,1]\n",
    "    y_pred = model.predict(X_valid)\n",
    "\n",
    "    y_pred_prob_train = model.predict_proba(X_train)[:, 1]\n",
    "    y_pred_train = model.predict(X_train)\n",
    "\n",
    "    fpr_train, tpr_train, threshold_train = roc_curve(y_train, y_pred_prob_train)\n",
    "    roc_auc_train = roc_auc_score(y_train, y_pred_prob_train)\n",
    "\n",
    "    y_pred_prob = model.predict_proba(X_valid)[:, 1]\n",
    "    y_pred = model.predict(X_valid)\n",
    "\n",
    "    fpr, tpr, threshold = roc_curve(y_valid, y_pred_prob)\n",
    "    roc_auc = roc_auc_score(y_valid, y_pred_prob)\n",
    "\n",
    "    plt.figure()\n",
    "    plt.plot([0, 1], label='Baseline', linestyle='--')\n",
    "    plt.plot(fpr, tpr, label='Test')\n",
    "\n",
    "    plt.plot(fpr_train, tpr_train, label='Train')\n",
    "    \n",
    "    plt.title(f'{model_name} ROC AUC Train = {roc_auc_train.round(3)} \\n {model_name} ROC AUC Test = {roc_auc.round(3)}')\n",
    "    plt.ylabel('True Positive Rate')\n",
    "    plt.xlabel('False Positive Rate')\n",
    "    plt.legend(loc='lower right')\n",
    "    plt.show()\n",
    "\n",
    "    plot_confusion_matrix(model, X_valid, y_valid)\n",
    "    plt.show()\n",
    "    \n",
    "    metrics = ['accuracy', 'precision', 'recall', 'f1_score']\n",
    "    value = [accuracy_score(y_valid, y_pred), precision_score(\n",
    "        y_valid, y_pred), recall_score(y_valid, y_pred), f1_score(y_valid, y_pred)]\n",
    "    display(pd.DataFrame(\n",
    "        {'Метрика': metrics, 'Значение': value}, columns=['Метрика', 'Значение']))\n",
    "    return\n",
    "get_model_metrics('Logistic Regression',model,X_train_s_r,y_train_s_r,X_valid,y_valid)"
   ]
  },
  {
   "cell_type": "markdown",
   "metadata": {},
   "source": [
    "#### Регуляризация"
   ]
  },
  {
   "cell_type": "code",
   "execution_count": 42,
   "metadata": {},
   "outputs": [
    {
     "name": "stdout",
     "output_type": "stream",
     "text": [
      "Лучший penalty: l2\n",
      "Лучшее C: 3593.813663804626\n"
     ]
    }
   ],
   "source": [
    "# Зададим ограничения для параметра регуляризации\n",
    "C = np.logspace(0, 4, 10)\n",
    "\n",
    "penalty = ['l1', 'l2']\n",
    "hyperparameters = dict(C=C, penalty=penalty)\n",
    "model = LogisticRegression()\n",
    "model.fit(X_train_s_r, y_train_s_r)\n",
    "\n",
    "clf = GridSearchCV(model, hyperparameters, cv=5, verbose=0)\n",
    "\n",
    "best_model = clf.fit(X_train_s_r, y_train_s_r)\n",
    "\n",
    "print('Лучший penalty:', best_model.best_estimator_.get_params()['penalty'])\n",
    "print('Лучшее C:', best_model.best_estimator_.get_params()['C'])"
   ]
  },
  {
   "cell_type": "code",
   "execution_count": 47,
   "metadata": {},
   "outputs": [
    {
     "data": {
      "text/plain": [
       "LogisticRegression(C=3593.813663804626, random_state=42)"
      ]
     },
     "execution_count": 47,
     "metadata": {},
     "output_type": "execute_result"
    }
   ],
   "source": [
    "# Обучаем модель с полученными параметрами\n",
    "model = LogisticRegression(random_state=RANDOM_SEED, penalty = 'l2', C=3593.813663804626)\n",
    "model.fit(X_train_s_r, y_train_s_r)"
   ]
  },
  {
   "cell_type": "code",
   "execution_count": 48,
   "metadata": {},
   "outputs": [
    {
     "data": {
      "image/png": "[encoded data removed]",
      "text/plain": [
       "<Figure size 432x288 with 1 Axes>"
      ]
     },
     "metadata": {
      "needs_background": "light"
     },
     "output_type": "display_data"
    },
    {
     "data": {
      "image/png": "[encoded data removed]",
      "text/plain": [
       "<Figure size 432x288 with 2 Axes>"
      ]
     },
     "metadata": {
      "needs_background": "light"
     },
     "output_type": "display_data"
    },
    {
     "data": {
      "text/html": [
       "<div>\n",
       "<style scoped>\n",
       "    .dataframe tbody tr th:only-of-type {\n",
       "        vertical-align: middle;\n",
       "    }\n",
       "\n",
       "    .dataframe tbody tr th {\n",
       "        vertical-align: top;\n",
       "    }\n",
       "\n",
       "    .dataframe thead th {\n",
       "        text-align: right;\n",
       "    }\n",
       "</style>\n",
       "<table border=\"1\" class=\"dataframe\">\n",
       "  <thead>\n",
       "    <tr style=\"text-align: right;\">\n",
       "      <th></th>\n",
       "      <th>Метрика</th>\n",
       "      <th>Значение</th>\n",
       "    </tr>\n",
       "  </thead>\n",
       "  <tbody>\n",
       "    <tr>\n",
       "      <th>0</th>\n",
       "      <td>accuracy</td>\n",
       "      <td>0.667547</td>\n",
       "    </tr>\n",
       "    <tr>\n",
       "      <th>1</th>\n",
       "      <td>precision</td>\n",
       "      <td>0.224705</td>\n",
       "    </tr>\n",
       "    <tr>\n",
       "      <th>2</th>\n",
       "      <td>recall</td>\n",
       "      <td>0.688013</td>\n",
       "    </tr>\n",
       "    <tr>\n",
       "      <th>3</th>\n",
       "      <td>f1_score</td>\n",
       "      <td>0.338768</td>\n",
       "    </tr>\n",
       "  </tbody>\n",
       "</table>\n",
       "</div>"
      ],
      "text/plain": [
       "     Метрика  Значение\n",
       "0   accuracy  0.667547\n",
       "1  precision  0.224705\n",
       "2     recall  0.688013\n",
       "3   f1_score  0.338768"
      ]
     },
     "metadata": {},
     "output_type": "display_data"
    }
   ],
   "source": [
    "# Запускаем модель\n",
    "get_model_metrics('Logistic Regression w/Regul.',model,X_train_s_r,y_train_s_r,X_valid,y_valid)"
   ]
  },
  {
   "cell_type": "markdown",
   "metadata": {},
   "source": [
    "#### Поиск оптимальных значений гиперпараметров для логистической регрессии"
   ]
  },
  {
   "cell_type": "code",
   "execution_count": 45,
   "metadata": {},
   "outputs": [
    {
     "name": "stdout",
     "output_type": "stream",
     "text": [
      "C 1.0 \n",
      "\n",
      "class_weight none \n",
      "\n",
      "dual False \n",
      "\n",
      "fit_intercept True \n",
      "\n",
      "intercept_scaling 1 \n",
      "\n",
      "l1_ratio None \n",
      "\n",
      "max_iter 100 \n",
      "\n",
      "multi_class auto \n",
      "\n",
      "n_jobs None \n",
      "\n",
      "penalty none \n",
      "\n",
      "random_state 42 \n",
      "\n",
      "solver lbfgs \n",
      "\n",
      "tol 0.0001 \n",
      "\n",
      "verbose 0 \n",
      "\n",
      "warm_start False \n",
      "\n"
     ]
    }
   ],
   "source": [
    "# ищем оптимальные значения гиперпараметров\n",
    "model = LogisticRegression(random_state=42)\n",
    "param_grid = [\n",
    "    {'penalty': ['l1'],\n",
    "     'solver': ['liblinear', 'lbfgs'],\n",
    "     'class_weight':['none', 'balanced'],\n",
    "     'multi_class': ['auto', 'ovr']},\n",
    "    {'penalty': ['l2'],\n",
    "     'solver': ['newton-cg', 'lbfgs', 'liblinear', 'sag', 'saga'],\n",
    "     'class_weight':['none', 'balanced'],\n",
    "     'multi_class': ['auto', 'ovr']},\n",
    "    {'penalty': ['none'],\n",
    "     'solver': ['newton-cg', 'lbfgs', 'sag', 'saga'],\n",
    "     'class_weight':['none', 'balanced'],\n",
    "     'multi_class': ['auto', 'ovr']}\n",
    "]\n",
    "gridsearch = GridSearchCV(model, param_grid, scoring='f1', n_jobs=-1)\n",
    "gridsearch.fit(X_train_s_r, y_train_s_r)\n",
    "model = gridsearch.best_estimator_\n",
    "# печатаем параметры\n",
    "best_parameters = model.get_params()\n",
    "for param_name in best_parameters:\n",
    "    print(param_name, best_parameters[param_name], '\\n')"
   ]
  },
  {
   "cell_type": "markdown",
   "metadata": {},
   "source": [
    "#### Запускаем модель:"
   ]
  },
  {
   "cell_type": "code",
   "execution_count": 46,
   "metadata": {},
   "outputs": [
    {
     "data": {
      "image/png": "[encoded data removed]",
      "text/plain": [
       "<Figure size 432x288 with 1 Axes>"
      ]
     },
     "metadata": {
      "needs_background": "light"
     },
     "output_type": "display_data"
    },
    {
     "data": {
      "image/png": "[encoded data removed]",
      "text/plain": [
       "<Figure size 432x288 with 2 Axes>"
      ]
     },
     "metadata": {
      "needs_background": "light"
     },
     "output_type": "display_data"
    },
    {
     "data": {
      "text/html": [
       "<div>\n",
       "<style scoped>\n",
       "    .dataframe tbody tr th:only-of-type {\n",
       "        vertical-align: middle;\n",
       "    }\n",
       "\n",
       "    .dataframe tbody tr th {\n",
       "        vertical-align: top;\n",
       "    }\n",
       "\n",
       "    .dataframe thead th {\n",
       "        text-align: right;\n",
       "    }\n",
       "</style>\n",
       "<table border=\"1\" class=\"dataframe\">\n",
       "  <thead>\n",
       "    <tr style=\"text-align: right;\">\n",
       "      <th></th>\n",
       "      <th>Метрика</th>\n",
       "      <th>Значение</th>\n",
       "    </tr>\n",
       "  </thead>\n",
       "  <tbody>\n",
       "    <tr>\n",
       "      <th>0</th>\n",
       "      <td>accuracy</td>\n",
       "      <td>0.667073</td>\n",
       "    </tr>\n",
       "    <tr>\n",
       "      <th>1</th>\n",
       "      <td>precision</td>\n",
       "      <td>0.224227</td>\n",
       "    </tr>\n",
       "    <tr>\n",
       "      <th>2</th>\n",
       "      <td>recall</td>\n",
       "      <td>0.686918</td>\n",
       "    </tr>\n",
       "    <tr>\n",
       "      <th>3</th>\n",
       "      <td>f1_score</td>\n",
       "      <td>0.338093</td>\n",
       "    </tr>\n",
       "  </tbody>\n",
       "</table>\n",
       "</div>"
      ],
      "text/plain": [
       "     Метрика  Значение\n",
       "0   accuracy  0.667073\n",
       "1  precision  0.224227\n",
       "2     recall  0.686918\n",
       "3   f1_score  0.338093"
      ]
     },
     "metadata": {},
     "output_type": "display_data"
    }
   ],
   "source": [
    "# Обучаем модель с полученными параметрами\n",
    "model.fit(X_train_s_r, y_train_s_r)\n",
    "# Запускаем модель\n",
    "get_model_metrics('Logistic Regression w/Regul.',model,X_train_s_r,y_train_s_r,X_valid,y_valid)"
   ]
  },
  {
   "cell_type": "markdown",
   "metadata": {
    "papermill": {
     "duration": 0.079308,
     "end_time": "2021-01-20T12:58:54.493456",
     "exception": false,
     "start_time": "2021-01-20T12:58:54.414148",
     "status": "completed"
    },
    "tags": []
   },
   "source": [
    "# Submission"
   ]
  },
  {
   "cell_type": "code",
   "execution_count": 49,
   "metadata": {
    "execution": {
     "iopub.execute_input": "2021-01-20T12:58:55.201664Z",
     "iopub.status.busy": "2021-01-20T12:58:55.200404Z",
     "iopub.status.idle": "2021-01-20T12:58:55.661409Z",
     "shell.execute_reply": "2021-01-20T12:58:55.660666Z"
    },
    "papermill": {
     "duration": 0.548951,
     "end_time": "2021-01-20T12:58:55.661540",
     "exception": false,
     "start_time": "2021-01-20T12:58:55.112589",
     "status": "completed"
    },
    "tags": []
   },
   "outputs": [
    {
     "data": {
      "text/html": [
       "<div>\n",
       "<style scoped>\n",
       "    .dataframe tbody tr th:only-of-type {\n",
       "        vertical-align: middle;\n",
       "    }\n",
       "\n",
       "    .dataframe tbody tr th {\n",
       "        vertical-align: top;\n",
       "    }\n",
       "\n",
       "    .dataframe thead th {\n",
       "        text-align: right;\n",
       "    }\n",
       "</style>\n",
       "<table border=\"1\" class=\"dataframe\">\n",
       "  <thead>\n",
       "    <tr style=\"text-align: right;\">\n",
       "      <th></th>\n",
       "      <th>client_id</th>\n",
       "      <th>default</th>\n",
       "    </tr>\n",
       "  </thead>\n",
       "  <tbody>\n",
       "    <tr>\n",
       "      <th>0</th>\n",
       "      <td>74835</td>\n",
       "      <td>0.247604</td>\n",
       "    </tr>\n",
       "    <tr>\n",
       "      <th>1</th>\n",
       "      <td>17527</td>\n",
       "      <td>0.782805</td>\n",
       "    </tr>\n",
       "    <tr>\n",
       "      <th>2</th>\n",
       "      <td>75683</td>\n",
       "      <td>0.380594</td>\n",
       "    </tr>\n",
       "    <tr>\n",
       "      <th>3</th>\n",
       "      <td>26883</td>\n",
       "      <td>0.377669</td>\n",
       "    </tr>\n",
       "    <tr>\n",
       "      <th>4</th>\n",
       "      <td>28862</td>\n",
       "      <td>0.119049</td>\n",
       "    </tr>\n",
       "    <tr>\n",
       "      <th>5</th>\n",
       "      <td>99881</td>\n",
       "      <td>0.517226</td>\n",
       "    </tr>\n",
       "    <tr>\n",
       "      <th>6</th>\n",
       "      <td>26630</td>\n",
       "      <td>0.805304</td>\n",
       "    </tr>\n",
       "    <tr>\n",
       "      <th>7</th>\n",
       "      <td>79934</td>\n",
       "      <td>0.214480</td>\n",
       "    </tr>\n",
       "    <tr>\n",
       "      <th>8</th>\n",
       "      <td>16605</td>\n",
       "      <td>0.078790</td>\n",
       "    </tr>\n",
       "    <tr>\n",
       "      <th>9</th>\n",
       "      <td>105449</td>\n",
       "      <td>0.118642</td>\n",
       "    </tr>\n",
       "  </tbody>\n",
       "</table>\n",
       "</div>"
      ],
      "text/plain": [
       "   client_id   default\n",
       "0      74835  0.247604\n",
       "1      17527  0.782805\n",
       "2      75683  0.380594\n",
       "3      26883  0.377669\n",
       "4      28862  0.119049\n",
       "5      99881  0.517226\n",
       "6      26630  0.805304\n",
       "7      79934  0.214480\n",
       "8      16605  0.078790\n",
       "9     105449  0.118642"
      ]
     },
     "metadata": {},
     "output_type": "display_data"
    }
   ],
   "source": [
    "predict_submission = model.predict_proba(test_data)[:, 1]\n",
    "\n",
    "submit = pd.DataFrame(df_test.client_id)\n",
    "submit['default'] = predict_submission\n",
    "submit.to_csv('submission.csv', index=False)\n",
    "display(submit.head(10))"
   ]
  },
  {
   "cell_type": "code",
   "execution_count": null,
   "metadata": {},
   "outputs": [],
   "source": []
  }
 ],
 "metadata": {
  "kernelspec": {
   "display_name": "Python 3",
   "language": "python",
   "name": "python3"
  },
  "language_info": {
   "codemirror_mode": {
    "name": "ipython",
    "version": 3
   },
   "file_extension": ".py",
   "mimetype": "text/x-python",
   "name": "python",
   "nbconvert_exporter": "python",
   "pygments_lexer": "ipython3",
   "version": "3.8.5"
  },
  "papermill": {
   "duration": 155.070488,
   "end_time": "2021-01-20T12:58:56.010197",
   "environment_variables": {},
   "exception": null,
   "input_path": "__notebook__.ipynb",
   "output_path": "__notebook__.ipynb",
   "parameters": {},
   "start_time": "2021-01-20T12:56:20.939709",
   "version": "2.1.0"
  }
 },
 "nbformat": 4,
 "nbformat_minor": 4
}
