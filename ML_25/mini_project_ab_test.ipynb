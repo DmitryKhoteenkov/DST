{
 "cells": [
  {
   "cell_type": "markdown",
   "metadata": {},
   "source": [
    "Необходимо отметить, что данное задание вызвало у меня кучу вопросов и заставило потерять еще пару недель (так как очень трудно заставить себя выполнять то, что вообще непонятно с точки зрения \"куда лошадей запрягать\", хотя учебный материал модуля вопросов не вызывал). То есть опять (кстати как и в модуле по рекомендательным системам, где я месяц разбирался, что же автор задания подразумевал под словом \"чек\") изучали одно, а проект в основном про другое. Возможно для человека погруженного в подобные задачи все ясно, но на мой взгляд некоторые важные детали в материалах упущены. Дали бы хотя бы пример расчета метрик и куча вопросов отвалилась бы (а точнее даже не появилась бы). Одна фраза  \"нет ли проблемы с разъезжанием сплитов\" чего стоит... Ну да, если я не высыпаюсь и работаю на двух работах, то просто нет лишних сил на попытку понять, что же хотел сказать автор задания с помощью данной аллегории, которую естественно раньше не использовал в учебном материале. А это мистическое: \"тест равенства долей для A и C групп по всем метрикам\". Долей чего? Где-то упоминались \"доли\"? Все это дико сбивает студента и раздражает.. Тест Шапиро-Уилка - опять же не появляется нигде в учебном материале.. При этом в материале от учи.ru предлагается использовать критерий стьюдента независимо от нормальности распределения (лишь бы выборочные средние нормально распределены), зачем тогда здесь его проводить ? Ничего сложного, можно и самим почитать )) но причем здесь тогда этот курс?) В итоге прочитаный материал почти никак не помог с работой над этим заданием..."
   ]
  },
  {
   "cell_type": "raw",
   "metadata": {},
   "source": [
    "ПОСТАНОВКА ЗАДАЧИ\n",
    "\n",
    "К вам попали результаты A/A/B-тестирования от одного известного маркетплейса. \n",
    "\n",
    "sample_a, sample_c — АА-группы, sample_b — отдельная группа. \n",
    "\n",
    "В каждом датасете есть три типа действий пользователей: 0 — клик, 1 — просмотр и 2 — покупка (пользователь просматривает выдачу товаров, кликает на понравившийся товар и совершает покупку).\n",
    "\n",
    "Маркетплейс ориентируется на следующие метрики:\n",
    "\n",
    "ctr (отношение кликов к просмотрам товаров);\n",
    "purchase rate (отношение покупок к просмотрам товаров);\n",
    "gmv (оборот, сумма произведений количества покупок на стоимость покупки), где считаем 1 сессию за 1 точку (1 сессия на 1 пользователя).\n",
    "Данные уже почищены по сессиям, вы можете использовать их в агрегированном виде. Ваша задача — понять, нет ли проблемы с разъезжанием сплитов и улучшает ли алгоритм B работу маркетплейса.\n",
    "\n",
    "Тест Шапиро-Уилка проведите на альфа=0.01.\n",
    "\n",
    "КРИТЕРИИ ОЦЕНИВАНИЯ\n",
    "\n",
    "2 балла\tПроведена проверка, что нет ситуаций, когда происходит покупка 2/клик 0 без действия просмотра 1. Удалены дубли.\n",
    "2 балла\tРассчитаны метрики по датасетам, проведено общее сравнение метрик.\n",
    "3 балла Проведён тест равенства долей для A и C групп по всем метрикам. Сделан вывод.\n",
    "3 балла\tПроведён тест равенства долей для A и B групп по всем метрикам. Сделан вывод"
   ]
  },
  {
   "cell_type": "code",
   "execution_count": 2,
   "metadata": {},
   "outputs": [],
   "source": [
    "import pandas as pd\n",
    "import numpy as np\n",
    "\n",
    "\n",
    "df = {}"
   ]
  },
  {
   "cell_type": "code",
   "execution_count": 3,
   "metadata": {},
   "outputs": [
    {
     "name": "stdout",
     "output_type": "stream",
     "text": [
      "Размер датасета a: (1188912, 3)\n"
     ]
    },
    {
     "data": {
      "text/html": [
       "<div>\n",
       "<style scoped>\n",
       "    .dataframe tbody tr th:only-of-type {\n",
       "        vertical-align: middle;\n",
       "    }\n",
       "\n",
       "    .dataframe tbody tr th {\n",
       "        vertical-align: top;\n",
       "    }\n",
       "\n",
       "    .dataframe thead th {\n",
       "        text-align: right;\n",
       "    }\n",
       "</style>\n",
       "<table border=\"1\" class=\"dataframe\">\n",
       "  <thead>\n",
       "    <tr style=\"text-align: right;\">\n",
       "      <th></th>\n",
       "      <th>user_id</th>\n",
       "      <th>item_id</th>\n",
       "      <th>action_id</th>\n",
       "    </tr>\n",
       "  </thead>\n",
       "  <tbody>\n",
       "    <tr>\n",
       "      <th>0</th>\n",
       "      <td>84636</td>\n",
       "      <td>360</td>\n",
       "      <td>1</td>\n",
       "    </tr>\n",
       "    <tr>\n",
       "      <th>1</th>\n",
       "      <td>21217</td>\n",
       "      <td>9635</td>\n",
       "      <td>1</td>\n",
       "    </tr>\n",
       "    <tr>\n",
       "      <th>2</th>\n",
       "      <td>13445</td>\n",
       "      <td>8590</td>\n",
       "      <td>1</td>\n",
       "    </tr>\n",
       "    <tr>\n",
       "      <th>3</th>\n",
       "      <td>38450</td>\n",
       "      <td>5585</td>\n",
       "      <td>1</td>\n",
       "    </tr>\n",
       "    <tr>\n",
       "      <th>4</th>\n",
       "      <td>14160</td>\n",
       "      <td>2383</td>\n",
       "      <td>0</td>\n",
       "    </tr>\n",
       "  </tbody>\n",
       "</table>\n",
       "</div>"
      ],
      "text/plain": [
       "   user_id  item_id  action_id\n",
       "0    84636      360          1\n",
       "1    21217     9635          1\n",
       "2    13445     8590          1\n",
       "3    38450     5585          1\n",
       "4    14160     2383          0"
      ]
     },
     "metadata": {},
     "output_type": "display_data"
    },
    {
     "name": "stdout",
     "output_type": "stream",
     "text": [
      "Размер датасета b: (1198438, 3)\n"
     ]
    },
    {
     "data": {
      "text/html": [
       "<div>\n",
       "<style scoped>\n",
       "    .dataframe tbody tr th:only-of-type {\n",
       "        vertical-align: middle;\n",
       "    }\n",
       "\n",
       "    .dataframe tbody tr th {\n",
       "        vertical-align: top;\n",
       "    }\n",
       "\n",
       "    .dataframe thead th {\n",
       "        text-align: right;\n",
       "    }\n",
       "</style>\n",
       "<table border=\"1\" class=\"dataframe\">\n",
       "  <thead>\n",
       "    <tr style=\"text-align: right;\">\n",
       "      <th></th>\n",
       "      <th>user_id</th>\n",
       "      <th>item_id</th>\n",
       "      <th>action_id</th>\n",
       "    </tr>\n",
       "  </thead>\n",
       "  <tbody>\n",
       "    <tr>\n",
       "      <th>0</th>\n",
       "      <td>118375</td>\n",
       "      <td>4105</td>\n",
       "      <td>1</td>\n",
       "    </tr>\n",
       "    <tr>\n",
       "      <th>1</th>\n",
       "      <td>107569</td>\n",
       "      <td>8204</td>\n",
       "      <td>1</td>\n",
       "    </tr>\n",
       "    <tr>\n",
       "      <th>2</th>\n",
       "      <td>175990</td>\n",
       "      <td>880</td>\n",
       "      <td>1</td>\n",
       "    </tr>\n",
       "    <tr>\n",
       "      <th>3</th>\n",
       "      <td>160582</td>\n",
       "      <td>9568</td>\n",
       "      <td>0</td>\n",
       "    </tr>\n",
       "    <tr>\n",
       "      <th>4</th>\n",
       "      <td>123400</td>\n",
       "      <td>4000</td>\n",
       "      <td>1</td>\n",
       "    </tr>\n",
       "  </tbody>\n",
       "</table>\n",
       "</div>"
      ],
      "text/plain": [
       "   user_id  item_id  action_id\n",
       "0   118375     4105          1\n",
       "1   107569     8204          1\n",
       "2   175990      880          1\n",
       "3   160582     9568          0\n",
       "4   123400     4000          1"
      ]
     },
     "metadata": {},
     "output_type": "display_data"
    },
    {
     "name": "stdout",
     "output_type": "stream",
     "text": [
      "Размер датасета c: (1205510, 3)\n"
     ]
    },
    {
     "data": {
      "text/html": [
       "<div>\n",
       "<style scoped>\n",
       "    .dataframe tbody tr th:only-of-type {\n",
       "        vertical-align: middle;\n",
       "    }\n",
       "\n",
       "    .dataframe tbody tr th {\n",
       "        vertical-align: top;\n",
       "    }\n",
       "\n",
       "    .dataframe thead th {\n",
       "        text-align: right;\n",
       "    }\n",
       "</style>\n",
       "<table border=\"1\" class=\"dataframe\">\n",
       "  <thead>\n",
       "    <tr style=\"text-align: right;\">\n",
       "      <th></th>\n",
       "      <th>user_id</th>\n",
       "      <th>item_id</th>\n",
       "      <th>action_id</th>\n",
       "    </tr>\n",
       "  </thead>\n",
       "  <tbody>\n",
       "    <tr>\n",
       "      <th>0</th>\n",
       "      <td>274623</td>\n",
       "      <td>2863</td>\n",
       "      <td>1</td>\n",
       "    </tr>\n",
       "    <tr>\n",
       "      <th>1</th>\n",
       "      <td>265472</td>\n",
       "      <td>343</td>\n",
       "      <td>1</td>\n",
       "    </tr>\n",
       "    <tr>\n",
       "      <th>2</th>\n",
       "      <td>242779</td>\n",
       "      <td>6009</td>\n",
       "      <td>0</td>\n",
       "    </tr>\n",
       "    <tr>\n",
       "      <th>3</th>\n",
       "      <td>275009</td>\n",
       "      <td>2184</td>\n",
       "      <td>1</td>\n",
       "    </tr>\n",
       "    <tr>\n",
       "      <th>4</th>\n",
       "      <td>268104</td>\n",
       "      <td>3134</td>\n",
       "      <td>2</td>\n",
       "    </tr>\n",
       "  </tbody>\n",
       "</table>\n",
       "</div>"
      ],
      "text/plain": [
       "   user_id  item_id  action_id\n",
       "0   274623     2863          1\n",
       "1   265472      343          1\n",
       "2   242779     6009          0\n",
       "3   275009     2184          1\n",
       "4   268104     3134          2"
      ]
     },
     "metadata": {},
     "output_type": "display_data"
    }
   ],
   "source": [
    "for s in ['a', 'b', 'c']:\n",
    "\n",
    "    df[s] = pd.read_csv(f\"sample_{s}.csv\")\n",
    "    print(f'Размер датасета {s}:', df[s].shape)\n",
    "    display(df[s].head())"
   ]
  },
  {
   "cell_type": "code",
   "execution_count": 4,
   "metadata": {},
   "outputs": [
    {
     "name": "stdout",
     "output_type": "stream",
     "text": [
      "a 0\n",
      "b 0\n",
      "c 0\n"
     ]
    }
   ],
   "source": [
    "# Есть ли дубли? (спойлер: их нет)\n",
    "for s in ['a', 'b', 'c']:\n",
    "    print(s, sum(df[s].duplicated()))"
   ]
  },
  {
   "cell_type": "code",
   "execution_count": 5,
   "metadata": {},
   "outputs": [
    {
     "data": {
      "text/plain": [
       "1    951130\n",
       "0    190226\n",
       "2     47556\n",
       "Name: action_id, dtype: int64"
      ]
     },
     "execution_count": 5,
     "metadata": {},
     "output_type": "execute_result"
    }
   ],
   "source": [
    "df['a'].action_id.value_counts()"
   ]
  },
  {
   "cell_type": "code",
   "execution_count": 6,
   "metadata": {},
   "outputs": [
    {
     "data": {
      "text/plain": [
       "1    949221\n",
       "0    199336\n",
       "2     56953\n",
       "Name: action_id, dtype: int64"
      ]
     },
     "execution_count": 6,
     "metadata": {},
     "output_type": "execute_result"
    }
   ],
   "source": [
    "df['c'].action_id.value_counts()"
   ]
  },
  {
   "cell_type": "code",
   "execution_count": 7,
   "metadata": {},
   "outputs": [
    {
     "data": {
      "text/plain": [
       "1    951141\n",
       "0    152183\n",
       "2     95114\n",
       "Name: action_id, dtype: int64"
      ]
     },
     "execution_count": 7,
     "metadata": {},
     "output_type": "execute_result"
    }
   ],
   "source": [
    "df['b'].action_id.value_counts()"
   ]
  },
  {
   "cell_type": "raw",
   "metadata": {},
   "source": [
    "Найдем суммы действий сгруппированных по юзеру и товару:\n",
    "\n",
    "df.groupby(['user_id','item_id'])['action_id'].sum()\n",
    "\n",
    "Допустимые варианты сумм:\n",
    "1(просмотр)  => сумма = 1\n",
    "1+0 = 1  => сумма = 1\n",
    "1+2 = 3  => сумма = 3\n",
    "То есть сумма может принимать значения из valid_summ = [1, 3]\n",
    "\n",
    "Недопустимые варианты сумм:\n",
    "0 клик без просмотра => сумма = 0\n",
    "2 покупка без просмотра => сумма = 2\n",
    "То есть сумма не должна принимать значения из invalid_summ = [0, 2]"
   ]
  },
  {
   "cell_type": "code",
   "execution_count": 8,
   "metadata": {},
   "outputs": [
    {
     "data": {
      "text/plain": [
       "1    903574\n",
       "3     47556\n",
       "Name: action_id, dtype: int64"
      ]
     },
     "execution_count": 8,
     "metadata": {},
     "output_type": "execute_result"
    }
   ],
   "source": [
    "df['a'].groupby(['user_id', 'item_id'])['action_id'].sum().value_counts()"
   ]
  },
  {
   "cell_type": "code",
   "execution_count": 9,
   "metadata": {},
   "outputs": [
    {
     "data": {
      "text/plain": [
       "1    856027\n",
       "3     95114\n",
       "Name: action_id, dtype: int64"
      ]
     },
     "execution_count": 9,
     "metadata": {},
     "output_type": "execute_result"
    }
   ],
   "source": [
    "df['b'].groupby(['user_id', 'item_id'])['action_id'].sum().value_counts()"
   ]
  },
  {
   "cell_type": "code",
   "execution_count": 10,
   "metadata": {},
   "outputs": [
    {
     "data": {
      "text/plain": [
       "1    892268\n",
       "3     56953\n",
       "Name: action_id, dtype: int64"
      ]
     },
     "execution_count": 10,
     "metadata": {},
     "output_type": "execute_result"
    }
   ],
   "source": [
    "df['c'].groupby(['user_id', 'item_id'])['action_id'].sum().value_counts()"
   ]
  },
  {
   "cell_type": "markdown",
   "metadata": {},
   "source": [
    "#### Итак, дублей нет. \n",
    "#### Проверка, что нет ситуаций, когда происходит покупка 2/клик 0 без действия просмотра 1 проведена.\n",
    "#### Расчитаем метрики:"
   ]
  },
  {
   "cell_type": "raw",
   "metadata": {},
   "source": [
    "ctr (отношение кликов к просмотрам товаров);\n",
    "purchase rate (отношение покупок к просмотрам товаров);\n",
    "gmv (оборот, сумма произведений количества покупок на стоимость покупки), где считаем 1 сессию за 1 точку (1 сессия на 1 пользователя).\n",
    "Данные уже почищены по сессиям, вы можете использовать их в агрегированном виде. Ваша задача — понять, нет ли проблемы с разъезжанием сплитов и улучшает ли алгоритм B работу маркетплейса.\n"
   ]
  },
  {
   "cell_type": "code",
   "execution_count": 11,
   "metadata": {},
   "outputs": [],
   "source": [
    "# Получим метрики для каждого датасета\n",
    "ctr = {}\n",
    "purchase_rate = {}\n",
    "gvm = {}"
   ]
  },
  {
   "cell_type": "code",
   "execution_count": 12,
   "metadata": {},
   "outputs": [
    {
     "name": "stdout",
     "output_type": "stream",
     "text": [
      "a ctr 20\n",
      "b ctr 16\n",
      "c ctr 21\n"
     ]
    }
   ],
   "source": [
    "for s in ['a', 'b', 'c']:\n",
    "    ctr[s] = round(sum(df[s]['action_id'] == 0) /\n",
    "                   sum(df[s]['action_id'] == 1)*100)\n",
    "    print(f'{s} ctr', ctr[s])"
   ]
  },
  {
   "cell_type": "code",
   "execution_count": 13,
   "metadata": {},
   "outputs": [
    {
     "name": "stdout",
     "output_type": "stream",
     "text": [
      "a purchase 5\n",
      "b purchase 10\n",
      "c purchase 6\n"
     ]
    }
   ],
   "source": [
    "for s in ['a', 'b', 'c']:\n",
    "    purchase_rate[s] = round(\n",
    "        sum(df[s]['action_id'] == 2)/sum(df[s]['action_id'] == 1)*100)\n",
    "    print(f'{s} purchase', purchase_rate[s])"
   ]
  },
  {
   "cell_type": "code",
   "execution_count": 14,
   "metadata": {},
   "outputs": [
    {
     "data": {
      "text/plain": [
       "item_id       45\n",
       "item_price    45\n",
       "dtype: int64"
      ]
     },
     "execution_count": 14,
     "metadata": {},
     "output_type": "execute_result"
    }
   ],
   "source": [
    "dfp = pd.read_csv(\"item_prices.csv\")\n",
    "dfp[dfp.item_id.duplicated()].sort_values('item_id').count()"
   ]
  },
  {
   "cell_type": "code",
   "execution_count": 15,
   "metadata": {},
   "outputs": [],
   "source": [
    "# один товар имеет несколько цен, уберем дубли оставив последний"
   ]
  },
  {
   "cell_type": "code",
   "execution_count": 16,
   "metadata": {},
   "outputs": [
    {
     "data": {
      "text/html": [
       "<div>\n",
       "<style scoped>\n",
       "    .dataframe tbody tr th:only-of-type {\n",
       "        vertical-align: middle;\n",
       "    }\n",
       "\n",
       "    .dataframe tbody tr th {\n",
       "        vertical-align: top;\n",
       "    }\n",
       "\n",
       "    .dataframe thead th {\n",
       "        text-align: right;\n",
       "    }\n",
       "</style>\n",
       "<table border=\"1\" class=\"dataframe\">\n",
       "  <thead>\n",
       "    <tr style=\"text-align: right;\">\n",
       "      <th></th>\n",
       "      <th>item_price</th>\n",
       "    </tr>\n",
       "    <tr>\n",
       "      <th>item_id</th>\n",
       "      <th></th>\n",
       "    </tr>\n",
       "  </thead>\n",
       "  <tbody>\n",
       "    <tr>\n",
       "      <th>74</th>\n",
       "      <td>647</td>\n",
       "    </tr>\n",
       "    <tr>\n",
       "      <th>7696</th>\n",
       "      <td>825</td>\n",
       "    </tr>\n",
       "    <tr>\n",
       "      <th>866</th>\n",
       "      <td>875</td>\n",
       "    </tr>\n",
       "    <tr>\n",
       "      <th>5876</th>\n",
       "      <td>804</td>\n",
       "    </tr>\n",
       "    <tr>\n",
       "      <th>153</th>\n",
       "      <td>1969</td>\n",
       "    </tr>\n",
       "  </tbody>\n",
       "</table>\n",
       "</div>"
      ],
      "text/plain": [
       "         item_price\n",
       "item_id            \n",
       "74              647\n",
       "7696            825\n",
       "866             875\n",
       "5876            804\n",
       "153            1969"
      ]
     },
     "execution_count": 16,
     "metadata": {},
     "output_type": "execute_result"
    }
   ],
   "source": [
    "dfp = dfp.drop_duplicates(subset=['item_id'], keep='last')\n",
    "dfp = dfp.set_index('item_id')\n",
    "dfp.head()"
   ]
  },
  {
   "cell_type": "code",
   "execution_count": 17,
   "metadata": {},
   "outputs": [
    {
     "data": {
      "text/plain": [
       "'Количества покупок каждого товара в  датасете a'"
      ]
     },
     "metadata": {},
     "output_type": "display_data"
    },
    {
     "data": {
      "text/html": [
       "<div>\n",
       "<style scoped>\n",
       "    .dataframe tbody tr th:only-of-type {\n",
       "        vertical-align: middle;\n",
       "    }\n",
       "\n",
       "    .dataframe tbody tr th {\n",
       "        vertical-align: top;\n",
       "    }\n",
       "\n",
       "    .dataframe thead th {\n",
       "        text-align: right;\n",
       "    }\n",
       "</style>\n",
       "<table border=\"1\" class=\"dataframe\">\n",
       "  <thead>\n",
       "    <tr style=\"text-align: right;\">\n",
       "      <th></th>\n",
       "      <th>purchase_num</th>\n",
       "    </tr>\n",
       "    <tr>\n",
       "      <th>item_id</th>\n",
       "      <th></th>\n",
       "    </tr>\n",
       "  </thead>\n",
       "  <tbody>\n",
       "    <tr>\n",
       "      <th>21</th>\n",
       "      <td>50</td>\n",
       "    </tr>\n",
       "    <tr>\n",
       "      <th>36</th>\n",
       "      <td>45</td>\n",
       "    </tr>\n",
       "    <tr>\n",
       "      <th>39</th>\n",
       "      <td>44</td>\n",
       "    </tr>\n",
       "    <tr>\n",
       "      <th>50</th>\n",
       "      <td>59</td>\n",
       "    </tr>\n",
       "    <tr>\n",
       "      <th>64</th>\n",
       "      <td>61</td>\n",
       "    </tr>\n",
       "  </tbody>\n",
       "</table>\n",
       "</div>"
      ],
      "text/plain": [
       "         purchase_num\n",
       "item_id              \n",
       "21                 50\n",
       "36                 45\n",
       "39                 44\n",
       "50                 59\n",
       "64                 61"
      ]
     },
     "metadata": {},
     "output_type": "display_data"
    },
    {
     "data": {
      "text/plain": [
       "'Количества покупок каждого товара в  датасете b'"
      ]
     },
     "metadata": {},
     "output_type": "display_data"
    },
    {
     "data": {
      "text/html": [
       "<div>\n",
       "<style scoped>\n",
       "    .dataframe tbody tr th:only-of-type {\n",
       "        vertical-align: middle;\n",
       "    }\n",
       "\n",
       "    .dataframe tbody tr th {\n",
       "        vertical-align: top;\n",
       "    }\n",
       "\n",
       "    .dataframe thead th {\n",
       "        text-align: right;\n",
       "    }\n",
       "</style>\n",
       "<table border=\"1\" class=\"dataframe\">\n",
       "  <thead>\n",
       "    <tr style=\"text-align: right;\">\n",
       "      <th></th>\n",
       "      <th>purchase_num</th>\n",
       "    </tr>\n",
       "    <tr>\n",
       "      <th>item_id</th>\n",
       "      <th></th>\n",
       "    </tr>\n",
       "  </thead>\n",
       "  <tbody>\n",
       "    <tr>\n",
       "      <th>21</th>\n",
       "      <td>105</td>\n",
       "    </tr>\n",
       "    <tr>\n",
       "      <th>36</th>\n",
       "      <td>93</td>\n",
       "    </tr>\n",
       "    <tr>\n",
       "      <th>39</th>\n",
       "      <td>115</td>\n",
       "    </tr>\n",
       "    <tr>\n",
       "      <th>50</th>\n",
       "      <td>100</td>\n",
       "    </tr>\n",
       "    <tr>\n",
       "      <th>64</th>\n",
       "      <td>94</td>\n",
       "    </tr>\n",
       "  </tbody>\n",
       "</table>\n",
       "</div>"
      ],
      "text/plain": [
       "         purchase_num\n",
       "item_id              \n",
       "21                105\n",
       "36                 93\n",
       "39                115\n",
       "50                100\n",
       "64                 94"
      ]
     },
     "metadata": {},
     "output_type": "display_data"
    },
    {
     "data": {
      "text/plain": [
       "'Количества покупок каждого товара в  датасете c'"
      ]
     },
     "metadata": {},
     "output_type": "display_data"
    },
    {
     "data": {
      "text/html": [
       "<div>\n",
       "<style scoped>\n",
       "    .dataframe tbody tr th:only-of-type {\n",
       "        vertical-align: middle;\n",
       "    }\n",
       "\n",
       "    .dataframe tbody tr th {\n",
       "        vertical-align: top;\n",
       "    }\n",
       "\n",
       "    .dataframe thead th {\n",
       "        text-align: right;\n",
       "    }\n",
       "</style>\n",
       "<table border=\"1\" class=\"dataframe\">\n",
       "  <thead>\n",
       "    <tr style=\"text-align: right;\">\n",
       "      <th></th>\n",
       "      <th>purchase_num</th>\n",
       "    </tr>\n",
       "    <tr>\n",
       "      <th>item_id</th>\n",
       "      <th></th>\n",
       "    </tr>\n",
       "  </thead>\n",
       "  <tbody>\n",
       "    <tr>\n",
       "      <th>21</th>\n",
       "      <td>56</td>\n",
       "    </tr>\n",
       "    <tr>\n",
       "      <th>36</th>\n",
       "      <td>59</td>\n",
       "    </tr>\n",
       "    <tr>\n",
       "      <th>39</th>\n",
       "      <td>54</td>\n",
       "    </tr>\n",
       "    <tr>\n",
       "      <th>50</th>\n",
       "      <td>53</td>\n",
       "    </tr>\n",
       "    <tr>\n",
       "      <th>64</th>\n",
       "      <td>78</td>\n",
       "    </tr>\n",
       "  </tbody>\n",
       "</table>\n",
       "</div>"
      ],
      "text/plain": [
       "         purchase_num\n",
       "item_id              \n",
       "21                 56\n",
       "36                 59\n",
       "39                 54\n",
       "50                 53\n",
       "64                 78"
      ]
     },
     "metadata": {},
     "output_type": "display_data"
    }
   ],
   "source": [
    "grp = {}\n",
    "for s in ['a', 'b', 'c']:\n",
    "    grp[s] = df[s][df[s]['action_id'] == 2].groupby('item_id').count()\n",
    "    grp[s] = grp[s].drop(columns=['action_id'])\n",
    "    grp[s] = grp[s].rename(columns={'user_id': 'purchase_num'})\n",
    "    display(\n",
    "        f'Количества покупок каждого товара в  датасете {s}', grp[s].head())"
   ]
  },
  {
   "cell_type": "code",
   "execution_count": 18,
   "metadata": {},
   "outputs": [
    {
     "data": {
      "text/html": [
       "<div>\n",
       "<style scoped>\n",
       "    .dataframe tbody tr th:only-of-type {\n",
       "        vertical-align: middle;\n",
       "    }\n",
       "\n",
       "    .dataframe tbody tr th {\n",
       "        vertical-align: top;\n",
       "    }\n",
       "\n",
       "    .dataframe thead th {\n",
       "        text-align: right;\n",
       "    }\n",
       "</style>\n",
       "<table border=\"1\" class=\"dataframe\">\n",
       "  <thead>\n",
       "    <tr style=\"text-align: right;\">\n",
       "      <th></th>\n",
       "      <th>purchase_num</th>\n",
       "      <th>item_price</th>\n",
       "      <th>amount</th>\n",
       "    </tr>\n",
       "    <tr>\n",
       "      <th>item_id</th>\n",
       "      <th></th>\n",
       "      <th></th>\n",
       "      <th></th>\n",
       "    </tr>\n",
       "  </thead>\n",
       "  <tbody>\n",
       "    <tr>\n",
       "      <th>21</th>\n",
       "      <td>50</td>\n",
       "      <td>452</td>\n",
       "      <td>22600</td>\n",
       "    </tr>\n",
       "    <tr>\n",
       "      <th>36</th>\n",
       "      <td>45</td>\n",
       "      <td>282</td>\n",
       "      <td>12690</td>\n",
       "    </tr>\n",
       "    <tr>\n",
       "      <th>39</th>\n",
       "      <td>44</td>\n",
       "      <td>1746</td>\n",
       "      <td>76824</td>\n",
       "    </tr>\n",
       "    <tr>\n",
       "      <th>50</th>\n",
       "      <td>59</td>\n",
       "      <td>871</td>\n",
       "      <td>51389</td>\n",
       "    </tr>\n",
       "    <tr>\n",
       "      <th>64</th>\n",
       "      <td>61</td>\n",
       "      <td>1479</td>\n",
       "      <td>90219</td>\n",
       "    </tr>\n",
       "  </tbody>\n",
       "</table>\n",
       "</div>"
      ],
      "text/plain": [
       "         purchase_num  item_price  amount\n",
       "item_id                                  \n",
       "21                 50         452   22600\n",
       "36                 45         282   12690\n",
       "39                 44        1746   76824\n",
       "50                 59         871   51389\n",
       "64                 61        1479   90219"
      ]
     },
     "metadata": {},
     "output_type": "display_data"
    },
    {
     "name": "stdout",
     "output_type": "stream",
     "text": [
      "a gvm: 51183991\n"
     ]
    },
    {
     "data": {
      "text/html": [
       "<div>\n",
       "<style scoped>\n",
       "    .dataframe tbody tr th:only-of-type {\n",
       "        vertical-align: middle;\n",
       "    }\n",
       "\n",
       "    .dataframe tbody tr th {\n",
       "        vertical-align: top;\n",
       "    }\n",
       "\n",
       "    .dataframe thead th {\n",
       "        text-align: right;\n",
       "    }\n",
       "</style>\n",
       "<table border=\"1\" class=\"dataframe\">\n",
       "  <thead>\n",
       "    <tr style=\"text-align: right;\">\n",
       "      <th></th>\n",
       "      <th>purchase_num</th>\n",
       "      <th>item_price</th>\n",
       "      <th>amount</th>\n",
       "    </tr>\n",
       "    <tr>\n",
       "      <th>item_id</th>\n",
       "      <th></th>\n",
       "      <th></th>\n",
       "      <th></th>\n",
       "    </tr>\n",
       "  </thead>\n",
       "  <tbody>\n",
       "    <tr>\n",
       "      <th>21</th>\n",
       "      <td>105</td>\n",
       "      <td>452</td>\n",
       "      <td>47460</td>\n",
       "    </tr>\n",
       "    <tr>\n",
       "      <th>36</th>\n",
       "      <td>93</td>\n",
       "      <td>282</td>\n",
       "      <td>26226</td>\n",
       "    </tr>\n",
       "    <tr>\n",
       "      <th>39</th>\n",
       "      <td>115</td>\n",
       "      <td>1746</td>\n",
       "      <td>200790</td>\n",
       "    </tr>\n",
       "    <tr>\n",
       "      <th>50</th>\n",
       "      <td>100</td>\n",
       "      <td>871</td>\n",
       "      <td>87100</td>\n",
       "    </tr>\n",
       "    <tr>\n",
       "      <th>64</th>\n",
       "      <td>94</td>\n",
       "      <td>1479</td>\n",
       "      <td>139026</td>\n",
       "    </tr>\n",
       "  </tbody>\n",
       "</table>\n",
       "</div>"
      ],
      "text/plain": [
       "         purchase_num  item_price  amount\n",
       "item_id                                  \n",
       "21                105         452   47460\n",
       "36                 93         282   26226\n",
       "39                115        1746  200790\n",
       "50                100         871   87100\n",
       "64                 94        1479  139026"
      ]
     },
     "metadata": {},
     "output_type": "display_data"
    },
    {
     "name": "stdout",
     "output_type": "stream",
     "text": [
      "b gvm: 102261317\n"
     ]
    },
    {
     "data": {
      "text/html": [
       "<div>\n",
       "<style scoped>\n",
       "    .dataframe tbody tr th:only-of-type {\n",
       "        vertical-align: middle;\n",
       "    }\n",
       "\n",
       "    .dataframe tbody tr th {\n",
       "        vertical-align: top;\n",
       "    }\n",
       "\n",
       "    .dataframe thead th {\n",
       "        text-align: right;\n",
       "    }\n",
       "</style>\n",
       "<table border=\"1\" class=\"dataframe\">\n",
       "  <thead>\n",
       "    <tr style=\"text-align: right;\">\n",
       "      <th></th>\n",
       "      <th>purchase_num</th>\n",
       "      <th>item_price</th>\n",
       "      <th>amount</th>\n",
       "    </tr>\n",
       "    <tr>\n",
       "      <th>item_id</th>\n",
       "      <th></th>\n",
       "      <th></th>\n",
       "      <th></th>\n",
       "    </tr>\n",
       "  </thead>\n",
       "  <tbody>\n",
       "    <tr>\n",
       "      <th>21</th>\n",
       "      <td>56</td>\n",
       "      <td>452</td>\n",
       "      <td>25312</td>\n",
       "    </tr>\n",
       "    <tr>\n",
       "      <th>36</th>\n",
       "      <td>59</td>\n",
       "      <td>282</td>\n",
       "      <td>16638</td>\n",
       "    </tr>\n",
       "    <tr>\n",
       "      <th>39</th>\n",
       "      <td>54</td>\n",
       "      <td>1746</td>\n",
       "      <td>94284</td>\n",
       "    </tr>\n",
       "    <tr>\n",
       "      <th>50</th>\n",
       "      <td>53</td>\n",
       "      <td>871</td>\n",
       "      <td>46163</td>\n",
       "    </tr>\n",
       "    <tr>\n",
       "      <th>64</th>\n",
       "      <td>78</td>\n",
       "      <td>1479</td>\n",
       "      <td>115362</td>\n",
       "    </tr>\n",
       "  </tbody>\n",
       "</table>\n",
       "</div>"
      ],
      "text/plain": [
       "         purchase_num  item_price  amount\n",
       "item_id                                  \n",
       "21                 56         452   25312\n",
       "36                 59         282   16638\n",
       "39                 54        1746   94284\n",
       "50                 53         871   46163\n",
       "64                 78        1479  115362"
      ]
     },
     "metadata": {},
     "output_type": "display_data"
    },
    {
     "name": "stdout",
     "output_type": "stream",
     "text": [
      "c gvm: 61236564\n"
     ]
    }
   ],
   "source": [
    "# Добавим столбец с ценой, получим произведения и рассчитаем gvm\n",
    "grp_p = {}\n",
    "for s in ['a', 'b', 'c']:\n",
    "    grp_p[s] = grp[s].join(dfp)\n",
    "    grp_p[s]['amount'] = grp_p[s]['purchase_num']*grp_p[s]['item_price']\n",
    "    gvm[s] = grp_p[s]['amount'].sum()\n",
    "    display(grp_p[s].head())\n",
    "    print(f'{s} gvm:', gvm[s])"
   ]
  },
  {
   "cell_type": "markdown",
   "metadata": {},
   "source": [
    "#### Сравним метрики по группам:"
   ]
  },
  {
   "cell_type": "code",
   "execution_count": 19,
   "metadata": {},
   "outputs": [
    {
     "data": {
      "text/html": [
       "<div>\n",
       "<style scoped>\n",
       "    .dataframe tbody tr th:only-of-type {\n",
       "        vertical-align: middle;\n",
       "    }\n",
       "\n",
       "    .dataframe tbody tr th {\n",
       "        vertical-align: top;\n",
       "    }\n",
       "\n",
       "    .dataframe thead th {\n",
       "        text-align: right;\n",
       "    }\n",
       "</style>\n",
       "<table border=\"1\" class=\"dataframe\">\n",
       "  <thead>\n",
       "    <tr style=\"text-align: right;\">\n",
       "      <th></th>\n",
       "      <th>a</th>\n",
       "      <th>b</th>\n",
       "      <th>c</th>\n",
       "    </tr>\n",
       "  </thead>\n",
       "  <tbody>\n",
       "    <tr>\n",
       "      <th>ctr %</th>\n",
       "      <td>20</td>\n",
       "      <td>16</td>\n",
       "      <td>21</td>\n",
       "    </tr>\n",
       "    <tr>\n",
       "      <th>purchase_rate %</th>\n",
       "      <td>5</td>\n",
       "      <td>10</td>\n",
       "      <td>6</td>\n",
       "    </tr>\n",
       "    <tr>\n",
       "      <th>gvm</th>\n",
       "      <td>51183991</td>\n",
       "      <td>102261317</td>\n",
       "      <td>61236564</td>\n",
       "    </tr>\n",
       "  </tbody>\n",
       "</table>\n",
       "</div>"
      ],
      "text/plain": [
       "                        a          b         c\n",
       "ctr %                  20         16        21\n",
       "purchase_rate %         5         10         6\n",
       "gvm              51183991  102261317  61236564"
      ]
     },
     "execution_count": 19,
     "metadata": {},
     "output_type": "execute_result"
    }
   ],
   "source": [
    "pd.DataFrame([ctr, purchase_rate, gvm], index=[\n",
    "             'ctr %', 'purchase_rate %', 'gvm'])"
   ]
  },
  {
   "cell_type": "markdown",
   "metadata": {},
   "source": [
    "#### Очевидно, метрики групп 'a' и 'c' значительно билже друг к другу чем к метрикам группы 'b', хотя и немного различаются.\n",
    "Указанные выше метрики расчитаны были по всему датасету (насколько мне это было понятно из формулировки задания), что возможно и неверно при существенных различиях между объектами (пользователями) внутри самих датасетов. К тому же эти величины не дают представлений об их распределениях по пользователям. Поэтому расчитаем метрики по каждому пользователю, а потом можно будет посмотреть уже и на параметры получившихся распределений."
   ]
  },
  {
   "cell_type": "code",
   "execution_count": 54,
   "metadata": {},
   "outputs": [
    {
     "data": {
      "text/plain": [
       "'Значения метрики ctr в  датасете a'"
      ]
     },
     "metadata": {},
     "output_type": "display_data"
    },
    {
     "data": {
      "text/html": [
       "<div>\n",
       "<style scoped>\n",
       "    .dataframe tbody tr th:only-of-type {\n",
       "        vertical-align: middle;\n",
       "    }\n",
       "\n",
       "    .dataframe tbody tr th {\n",
       "        vertical-align: top;\n",
       "    }\n",
       "\n",
       "    .dataframe thead th {\n",
       "        text-align: right;\n",
       "    }\n",
       "</style>\n",
       "<table border=\"1\" class=\"dataframe\">\n",
       "  <thead>\n",
       "    <tr style=\"text-align: right;\">\n",
       "      <th></th>\n",
       "      <th>impressions_num</th>\n",
       "      <th>clicks_num</th>\n",
       "      <th>ctr</th>\n",
       "    </tr>\n",
       "    <tr>\n",
       "      <th>user_id</th>\n",
       "      <th></th>\n",
       "      <th></th>\n",
       "      <th></th>\n",
       "    </tr>\n",
       "  </thead>\n",
       "  <tbody>\n",
       "    <tr>\n",
       "      <th>241</th>\n",
       "      <td>955</td>\n",
       "      <td>179</td>\n",
       "      <td>0.187435</td>\n",
       "    </tr>\n",
       "    <tr>\n",
       "      <th>253</th>\n",
       "      <td>955</td>\n",
       "      <td>192</td>\n",
       "      <td>0.201047</td>\n",
       "    </tr>\n",
       "    <tr>\n",
       "      <th>362</th>\n",
       "      <td>955</td>\n",
       "      <td>178</td>\n",
       "      <td>0.186387</td>\n",
       "    </tr>\n",
       "    <tr>\n",
       "      <th>378</th>\n",
       "      <td>955</td>\n",
       "      <td>195</td>\n",
       "      <td>0.204188</td>\n",
       "    </tr>\n",
       "    <tr>\n",
       "      <th>475</th>\n",
       "      <td>955</td>\n",
       "      <td>197</td>\n",
       "      <td>0.206283</td>\n",
       "    </tr>\n",
       "  </tbody>\n",
       "</table>\n",
       "</div>"
      ],
      "text/plain": [
       "         impressions_num  clicks_num       ctr\n",
       "user_id                                       \n",
       "241                  955         179  0.187435\n",
       "253                  955         192  0.201047\n",
       "362                  955         178  0.186387\n",
       "378                  955         195  0.204188\n",
       "475                  955         197  0.206283"
      ]
     },
     "metadata": {},
     "output_type": "display_data"
    },
    {
     "name": "stdout",
     "output_type": "stream",
     "text": [
      "mean of ctr for dataset a: 0.20000012209394488\n"
     ]
    },
    {
     "data": {
      "text/plain": [
       "'Значения метрики ctr в  датасете b'"
      ]
     },
     "metadata": {},
     "output_type": "display_data"
    },
    {
     "data": {
      "text/html": [
       "<div>\n",
       "<style scoped>\n",
       "    .dataframe tbody tr th:only-of-type {\n",
       "        vertical-align: middle;\n",
       "    }\n",
       "\n",
       "    .dataframe tbody tr th {\n",
       "        vertical-align: top;\n",
       "    }\n",
       "\n",
       "    .dataframe thead th {\n",
       "        text-align: right;\n",
       "    }\n",
       "</style>\n",
       "<table border=\"1\" class=\"dataframe\">\n",
       "  <thead>\n",
       "    <tr style=\"text-align: right;\">\n",
       "      <th></th>\n",
       "      <th>impressions_num</th>\n",
       "      <th>clicks_num</th>\n",
       "      <th>ctr</th>\n",
       "    </tr>\n",
       "    <tr>\n",
       "      <th>user_id</th>\n",
       "      <th></th>\n",
       "      <th></th>\n",
       "      <th></th>\n",
       "    </tr>\n",
       "  </thead>\n",
       "  <tbody>\n",
       "    <tr>\n",
       "      <th>100038</th>\n",
       "      <td>955</td>\n",
       "      <td>167</td>\n",
       "      <td>0.174869</td>\n",
       "    </tr>\n",
       "    <tr>\n",
       "      <th>100099</th>\n",
       "      <td>955</td>\n",
       "      <td>161</td>\n",
       "      <td>0.168586</td>\n",
       "    </tr>\n",
       "    <tr>\n",
       "      <th>100164</th>\n",
       "      <td>955</td>\n",
       "      <td>140</td>\n",
       "      <td>0.146597</td>\n",
       "    </tr>\n",
       "    <tr>\n",
       "      <th>100321</th>\n",
       "      <td>955</td>\n",
       "      <td>180</td>\n",
       "      <td>0.188482</td>\n",
       "    </tr>\n",
       "    <tr>\n",
       "      <th>100397</th>\n",
       "      <td>955</td>\n",
       "      <td>153</td>\n",
       "      <td>0.160209</td>\n",
       "    </tr>\n",
       "  </tbody>\n",
       "</table>\n",
       "</div>"
      ],
      "text/plain": [
       "         impressions_num  clicks_num       ctr\n",
       "user_id                                       \n",
       "100038               955         167  0.174869\n",
       "100099               955         161  0.168586\n",
       "100164               955         140  0.146597\n",
       "100321               955         180  0.188482\n",
       "100397               955         153  0.160209"
      ]
     },
     "metadata": {},
     "output_type": "display_data"
    },
    {
     "name": "stdout",
     "output_type": "stream",
     "text": [
      "mean of ctr for dataset b: 0.16000045859861273\n"
     ]
    },
    {
     "data": {
      "text/plain": [
       "'Значения метрики ctr в  датасете c'"
      ]
     },
     "metadata": {},
     "output_type": "display_data"
    },
    {
     "data": {
      "text/html": [
       "<div>\n",
       "<style scoped>\n",
       "    .dataframe tbody tr th:only-of-type {\n",
       "        vertical-align: middle;\n",
       "    }\n",
       "\n",
       "    .dataframe tbody tr th {\n",
       "        vertical-align: top;\n",
       "    }\n",
       "\n",
       "    .dataframe thead th {\n",
       "        text-align: right;\n",
       "    }\n",
       "</style>\n",
       "<table border=\"1\" class=\"dataframe\">\n",
       "  <thead>\n",
       "    <tr style=\"text-align: right;\">\n",
       "      <th></th>\n",
       "      <th>impressions_num</th>\n",
       "      <th>clicks_num</th>\n",
       "      <th>ctr</th>\n",
       "    </tr>\n",
       "    <tr>\n",
       "      <th>user_id</th>\n",
       "      <th></th>\n",
       "      <th></th>\n",
       "      <th></th>\n",
       "    </tr>\n",
       "  </thead>\n",
       "  <tbody>\n",
       "    <tr>\n",
       "      <th>200225</th>\n",
       "      <td>955</td>\n",
       "      <td>196</td>\n",
       "      <td>0.205236</td>\n",
       "    </tr>\n",
       "    <tr>\n",
       "      <th>200278</th>\n",
       "      <td>955</td>\n",
       "      <td>203</td>\n",
       "      <td>0.212565</td>\n",
       "    </tr>\n",
       "    <tr>\n",
       "      <th>200282</th>\n",
       "      <td>955</td>\n",
       "      <td>209</td>\n",
       "      <td>0.218848</td>\n",
       "    </tr>\n",
       "    <tr>\n",
       "      <th>200325</th>\n",
       "      <td>955</td>\n",
       "      <td>185</td>\n",
       "      <td>0.193717</td>\n",
       "    </tr>\n",
       "    <tr>\n",
       "      <th>200441</th>\n",
       "      <td>954</td>\n",
       "      <td>202</td>\n",
       "      <td>0.211740</td>\n",
       "    </tr>\n",
       "  </tbody>\n",
       "</table>\n",
       "</div>"
      ],
      "text/plain": [
       "         impressions_num  clicks_num       ctr\n",
       "user_id                                       \n",
       "200225               955         196  0.205236\n",
       "200278               955         203  0.212565\n",
       "200282               955         209  0.218848\n",
       "200325               955         185  0.193717\n",
       "200441               954         202  0.211740"
      ]
     },
     "metadata": {},
     "output_type": "display_data"
    },
    {
     "name": "stdout",
     "output_type": "stream",
     "text": [
      "mean of ctr for dataset c: 0.20999951822271418\n"
     ]
    },
    {
     "data": {
      "image/png": "[encoded data removed]",
      "text/plain": [
       "<Figure size 432x288 with 1 Axes>"
      ]
     },
     "metadata": {
      "needs_background": "light"
     },
     "output_type": "display_data"
    }
   ],
   "source": [
    "# Получим распределение метрики ctr по датасетам\n",
    "ctr_ = {}\n",
    "for s in ['a', 'b', 'c']:\n",
    "    tmp0 = df[s][df[s]['action_id'] == 0].groupby('user_id').count()\n",
    "    tmp1 = df[s][df[s]['action_id'] == 1].groupby('user_id').count()\n",
    "    tmp0 = tmp0.drop(columns=['action_id'])\n",
    "    tmp0 = tmp0.rename(columns={'item_id': 'clicks_num'})\n",
    "    tmp1 = tmp1.drop(columns=['action_id'])\n",
    "    tmp1 = tmp1.rename(columns={'item_id': 'impressions_num'})\n",
    "    ctr_[s] = tmp1.join(tmp0)\n",
    "    ctr_[s]['ctr'] = ctr_[s].clicks_num/ctr_[s].impressions_num\n",
    "    ctr[s] = round(ctr_[s]['ctr'].mean(), 3)\n",
    "    ax = ctr_[s]['ctr'].hist(bins=100, label=s)\n",
    "    ax.legend()\n",
    "    ax.set_title('Распределение метрики \"ctr\" внутри датасетов')\n",
    "    display(f'Значения метрики ctr в  датасете {s}', ctr_[s].head())\n",
    "    print(f'mean of ctr for dataset {s}:', ctr_[s]['ctr'].mean())"
   ]
  },
  {
   "cell_type": "code",
   "execution_count": 55,
   "metadata": {},
   "outputs": [
    {
     "data": {
      "text/plain": [
       "'Значения метрики purchase_rate в  датасете a'"
      ]
     },
     "metadata": {},
     "output_type": "display_data"
    },
    {
     "data": {
      "text/html": [
       "<div>\n",
       "<style scoped>\n",
       "    .dataframe tbody tr th:only-of-type {\n",
       "        vertical-align: middle;\n",
       "    }\n",
       "\n",
       "    .dataframe tbody tr th {\n",
       "        vertical-align: top;\n",
       "    }\n",
       "\n",
       "    .dataframe thead th {\n",
       "        text-align: right;\n",
       "    }\n",
       "</style>\n",
       "<table border=\"1\" class=\"dataframe\">\n",
       "  <thead>\n",
       "    <tr style=\"text-align: right;\">\n",
       "      <th></th>\n",
       "      <th>impressions_num</th>\n",
       "      <th>clicks_num</th>\n",
       "      <th>purchase_rate</th>\n",
       "    </tr>\n",
       "    <tr>\n",
       "      <th>user_id</th>\n",
       "      <th></th>\n",
       "      <th></th>\n",
       "      <th></th>\n",
       "    </tr>\n",
       "  </thead>\n",
       "  <tbody>\n",
       "    <tr>\n",
       "      <th>241</th>\n",
       "      <td>955</td>\n",
       "      <td>47</td>\n",
       "      <td>0.049215</td>\n",
       "    </tr>\n",
       "    <tr>\n",
       "      <th>253</th>\n",
       "      <td>955</td>\n",
       "      <td>37</td>\n",
       "      <td>0.038743</td>\n",
       "    </tr>\n",
       "    <tr>\n",
       "      <th>362</th>\n",
       "      <td>955</td>\n",
       "      <td>50</td>\n",
       "      <td>0.052356</td>\n",
       "    </tr>\n",
       "    <tr>\n",
       "      <th>378</th>\n",
       "      <td>955</td>\n",
       "      <td>51</td>\n",
       "      <td>0.053403</td>\n",
       "    </tr>\n",
       "    <tr>\n",
       "      <th>475</th>\n",
       "      <td>955</td>\n",
       "      <td>50</td>\n",
       "      <td>0.052356</td>\n",
       "    </tr>\n",
       "  </tbody>\n",
       "</table>\n",
       "</div>"
      ],
      "text/plain": [
       "         impressions_num  clicks_num  purchase_rate\n",
       "user_id                                            \n",
       "241                  955          47       0.049215\n",
       "253                  955          37       0.038743\n",
       "362                  955          50       0.052356\n",
       "378                  955          51       0.053403\n",
       "475                  955          50       0.052356"
      ]
     },
     "metadata": {},
     "output_type": "display_data"
    },
    {
     "name": "stdout",
     "output_type": "stream",
     "text": [
      "mean of purchase_rate for dataset a: 0.04999952636328587\n"
     ]
    },
    {
     "data": {
      "text/plain": [
       "'Значения метрики purchase_rate в  датасете b'"
      ]
     },
     "metadata": {},
     "output_type": "display_data"
    },
    {
     "data": {
      "text/html": [
       "<div>\n",
       "<style scoped>\n",
       "    .dataframe tbody tr th:only-of-type {\n",
       "        vertical-align: middle;\n",
       "    }\n",
       "\n",
       "    .dataframe tbody tr th {\n",
       "        vertical-align: top;\n",
       "    }\n",
       "\n",
       "    .dataframe thead th {\n",
       "        text-align: right;\n",
       "    }\n",
       "</style>\n",
       "<table border=\"1\" class=\"dataframe\">\n",
       "  <thead>\n",
       "    <tr style=\"text-align: right;\">\n",
       "      <th></th>\n",
       "      <th>impressions_num</th>\n",
       "      <th>clicks_num</th>\n",
       "      <th>purchase_rate</th>\n",
       "    </tr>\n",
       "    <tr>\n",
       "      <th>user_id</th>\n",
       "      <th></th>\n",
       "      <th></th>\n",
       "      <th></th>\n",
       "    </tr>\n",
       "  </thead>\n",
       "  <tbody>\n",
       "    <tr>\n",
       "      <th>100038</th>\n",
       "      <td>955</td>\n",
       "      <td>100</td>\n",
       "      <td>0.104712</td>\n",
       "    </tr>\n",
       "    <tr>\n",
       "      <th>100099</th>\n",
       "      <td>955</td>\n",
       "      <td>119</td>\n",
       "      <td>0.124607</td>\n",
       "    </tr>\n",
       "    <tr>\n",
       "      <th>100164</th>\n",
       "      <td>955</td>\n",
       "      <td>98</td>\n",
       "      <td>0.102618</td>\n",
       "    </tr>\n",
       "    <tr>\n",
       "      <th>100321</th>\n",
       "      <td>955</td>\n",
       "      <td>96</td>\n",
       "      <td>0.100524</td>\n",
       "    </tr>\n",
       "    <tr>\n",
       "      <th>100397</th>\n",
       "      <td>955</td>\n",
       "      <td>81</td>\n",
       "      <td>0.084817</td>\n",
       "    </tr>\n",
       "  </tbody>\n",
       "</table>\n",
       "</div>"
      ],
      "text/plain": [
       "         impressions_num  clicks_num  purchase_rate\n",
       "user_id                                            \n",
       "100038               955         100       0.104712\n",
       "100099               955         119       0.124607\n",
       "100164               955          98       0.102618\n",
       "100321               955          96       0.100524\n",
       "100397               955          81       0.084817"
      ]
     },
     "metadata": {},
     "output_type": "display_data"
    },
    {
     "name": "stdout",
     "output_type": "stream",
     "text": [
      "mean of purchase_rate for dataset b: 0.09999986464598486\n"
     ]
    },
    {
     "data": {
      "text/plain": [
       "'Значения метрики purchase_rate в  датасете c'"
      ]
     },
     "metadata": {},
     "output_type": "display_data"
    },
    {
     "data": {
      "text/html": [
       "<div>\n",
       "<style scoped>\n",
       "    .dataframe tbody tr th:only-of-type {\n",
       "        vertical-align: middle;\n",
       "    }\n",
       "\n",
       "    .dataframe tbody tr th {\n",
       "        vertical-align: top;\n",
       "    }\n",
       "\n",
       "    .dataframe thead th {\n",
       "        text-align: right;\n",
       "    }\n",
       "</style>\n",
       "<table border=\"1\" class=\"dataframe\">\n",
       "  <thead>\n",
       "    <tr style=\"text-align: right;\">\n",
       "      <th></th>\n",
       "      <th>impressions_num</th>\n",
       "      <th>clicks_num</th>\n",
       "      <th>purchase_rate</th>\n",
       "    </tr>\n",
       "    <tr>\n",
       "      <th>user_id</th>\n",
       "      <th></th>\n",
       "      <th></th>\n",
       "      <th></th>\n",
       "    </tr>\n",
       "  </thead>\n",
       "  <tbody>\n",
       "    <tr>\n",
       "      <th>200225</th>\n",
       "      <td>955</td>\n",
       "      <td>49</td>\n",
       "      <td>0.051309</td>\n",
       "    </tr>\n",
       "    <tr>\n",
       "      <th>200278</th>\n",
       "      <td>955</td>\n",
       "      <td>58</td>\n",
       "      <td>0.060733</td>\n",
       "    </tr>\n",
       "    <tr>\n",
       "      <th>200282</th>\n",
       "      <td>955</td>\n",
       "      <td>70</td>\n",
       "      <td>0.073298</td>\n",
       "    </tr>\n",
       "    <tr>\n",
       "      <th>200325</th>\n",
       "      <td>955</td>\n",
       "      <td>44</td>\n",
       "      <td>0.046073</td>\n",
       "    </tr>\n",
       "    <tr>\n",
       "      <th>200441</th>\n",
       "      <td>954</td>\n",
       "      <td>49</td>\n",
       "      <td>0.051363</td>\n",
       "    </tr>\n",
       "  </tbody>\n",
       "</table>\n",
       "</div>"
      ],
      "text/plain": [
       "         impressions_num  clicks_num  purchase_rate\n",
       "user_id                                            \n",
       "200225               955          49       0.051309\n",
       "200278               955          58       0.060733\n",
       "200282               955          70       0.073298\n",
       "200325               955          44       0.046073\n",
       "200441               954          49       0.051363"
      ]
     },
     "metadata": {},
     "output_type": "display_data"
    },
    {
     "name": "stdout",
     "output_type": "stream",
     "text": [
      "mean of purchase_rate for dataset c: 0.05999975370440444\n"
     ]
    },
    {
     "data": {
      "image/png": "[encoded data removed]",
      "text/plain": [
       "<Figure size 432x288 with 1 Axes>"
      ]
     },
     "metadata": {
      "needs_background": "light"
     },
     "output_type": "display_data"
    }
   ],
   "source": [
    "# Получим распределение метрики purchase_rate по датасетам\n",
    "purchase_rate_ = {}\n",
    "for s in ['a', 'b', 'c']:\n",
    "    tmp2 = df[s][df[s]['action_id'] == 2].groupby('user_id').count()\n",
    "    tmp1 = df[s][df[s]['action_id'] == 1].groupby('user_id').count()\n",
    "    tmp2 = tmp2.drop(columns=['action_id'])\n",
    "    tmp2 = tmp2.rename(columns={'item_id': 'clicks_num'})\n",
    "    tmp1 = tmp1.drop(columns=['action_id'])\n",
    "    tmp1 = tmp1.rename(columns={'item_id': 'impressions_num'})\n",
    "    purchase_rate_[s] = tmp1.join(tmp2)\n",
    "    purchase_rate_[s]['purchase_rate'] = purchase_rate_[\n",
    "        s].clicks_num/purchase_rate_[s].impressions_num\n",
    "    purchase_rate[s] = round(purchase_rate_[s]['purchase_rate'].mean(), 3)\n",
    "\n",
    "    ax = purchase_rate_[s]['purchase_rate'].hist(bins=100, label=s)\n",
    "    ax.legend()\n",
    "    ax.set_title('Распределение метрики \"purchase_rate\" внутри датасетов')\n",
    "    display(\n",
    "        f'Значения метрики purchase_rate в  датасете {s}', purchase_rate_[s].head())\n",
    "    print(f'mean of purchase_rate for dataset {s}:', purchase_rate_[\n",
    "          s]['purchase_rate'].mean())"
   ]
  },
  {
   "cell_type": "code",
   "execution_count": 56,
   "metadata": {},
   "outputs": [
    {
     "name": "stdout",
     "output_type": "stream",
     "text": [
      "mean of gvm for dataset a: 51389.54919678715\n",
      "mean of gvm for dataset b: 102672.00502008032\n",
      "mean of gvm for dataset c: 61606.20120724346\n"
     ]
    },
    {
     "data": {
      "image/png": "[encoded data removed]",
      "text/plain": [
       "<Figure size 432x288 with 1 Axes>"
      ]
     },
     "metadata": {
      "needs_background": "light"
     },
     "output_type": "display_data"
    }
   ],
   "source": [
    "# Получим распределение метрики gvm по датасетам\n",
    "gvm_ = {}\n",
    "for s in ['a', 'b', 'c']:\n",
    "    tmp = df[s].join(dfp, on='item_id')\n",
    "#     display(s, tmp.head())\n",
    "    gvm_[s] = tmp[tmp.action_id == 2].groupby('user_id')['item_price'].sum()\n",
    "    gvm[s] = round(gvm_[s].mean(), 3)\n",
    "    print(f'mean of gvm for dataset {s}:', gvm_[s].mean())\n",
    "    ax = gvm_[s].hist(bins=100, label=s)\n",
    "    ax.legend()\n",
    "    ax.set_title('Распределение метрики \"gvm\" внутри датасетов')"
   ]
  },
  {
   "cell_type": "markdown",
   "metadata": {},
   "source": [
    "#### Сравним метрики (а вернее их средние по всем пользователям) между группами:"
   ]
  },
  {
   "cell_type": "code",
   "execution_count": 57,
   "metadata": {},
   "outputs": [
    {
     "data": {
      "text/html": [
       "<div>\n",
       "<style scoped>\n",
       "    .dataframe tbody tr th:only-of-type {\n",
       "        vertical-align: middle;\n",
       "    }\n",
       "\n",
       "    .dataframe tbody tr th {\n",
       "        vertical-align: top;\n",
       "    }\n",
       "\n",
       "    .dataframe thead th {\n",
       "        text-align: right;\n",
       "    }\n",
       "</style>\n",
       "<table border=\"1\" class=\"dataframe\">\n",
       "  <thead>\n",
       "    <tr style=\"text-align: right;\">\n",
       "      <th></th>\n",
       "      <th>a</th>\n",
       "      <th>b</th>\n",
       "      <th>c</th>\n",
       "    </tr>\n",
       "  </thead>\n",
       "  <tbody>\n",
       "    <tr>\n",
       "      <th>ctr</th>\n",
       "      <td>0.200</td>\n",
       "      <td>0.160</td>\n",
       "      <td>0.210</td>\n",
       "    </tr>\n",
       "    <tr>\n",
       "      <th>purchase_rate</th>\n",
       "      <td>0.050</td>\n",
       "      <td>0.100</td>\n",
       "      <td>0.060</td>\n",
       "    </tr>\n",
       "    <tr>\n",
       "      <th>gvm</th>\n",
       "      <td>51389.549</td>\n",
       "      <td>102672.005</td>\n",
       "      <td>61606.201</td>\n",
       "    </tr>\n",
       "  </tbody>\n",
       "</table>\n",
       "</div>"
      ],
      "text/plain": [
       "                       a           b          c\n",
       "ctr                0.200       0.160      0.210\n",
       "purchase_rate      0.050       0.100      0.060\n",
       "gvm            51389.549  102672.005  61606.201"
      ]
     },
     "execution_count": 57,
     "metadata": {},
     "output_type": "execute_result"
    }
   ],
   "source": [
    "pd.DataFrame([ctr, purchase_rate, gvm], index=['ctr', 'purchase_rate', 'gvm'])"
   ]
  },
  {
   "cell_type": "markdown",
   "metadata": {},
   "source": [
    "Мне повезло с похожестью пользователей внутри групп: усредненные по пользователям метрики оказались идентичными метрикам рассчитанным по всему датасету.\n",
    "#### Очевидно, метрики групп 'a' и 'c' значительно билже друг к другу чем к метрикам группы 'b', хотя и не равны друг другу."
   ]
  },
  {
   "cell_type": "code",
   "execution_count": 58,
   "metadata": {},
   "outputs": [],
   "source": [
    "from scipy.stats import shapiro, ttest_ind"
   ]
  },
  {
   "cell_type": "code",
   "execution_count": 59,
   "metadata": {},
   "outputs": [
    {
     "name": "stdout",
     "output_type": "stream",
     "text": [
      "Normality test for \"ctr\" metric for group \"a\".\n",
      "Statistics=0.996, p=0.025\n",
      "Sample looks Gaussian (fail to reject H0)\n",
      " \n",
      "Normality test for \"ctr\" metric for group \"b\".\n",
      "Statistics=0.998, p=0.332\n",
      "Sample looks Gaussian (fail to reject H0)\n",
      " \n",
      "Normality test for \"ctr\" metric for group \"c\".\n",
      "Statistics=0.998, p=0.171\n",
      "Sample looks Gaussian (fail to reject H0)\n",
      " \n",
      "Normality test for \"purchase_rate\" metric for group \"a\".\n",
      "Statistics=0.996, p=0.006\n",
      "Sample does not look Gaussian (reject H0)\n",
      " \n",
      "Normality test for \"purchase_rate\" metric for group \"b\".\n",
      "Statistics=0.998, p=0.233\n",
      "Sample looks Gaussian (fail to reject H0)\n",
      " \n",
      "Normality test for \"purchase_rate\" metric for group \"c\".\n",
      "Statistics=0.996, p=0.023\n",
      "Sample looks Gaussian (fail to reject H0)\n",
      " \n",
      "Normality test for \"gvm\" metric for group \"a\".\n",
      "Statistics=0.997, p=0.043\n",
      "Sample looks Gaussian (fail to reject H0)\n",
      " \n",
      "Normality test for \"gvm\" metric for group \"b\".\n",
      "Statistics=0.999, p=0.681\n",
      "Sample looks Gaussian (fail to reject H0)\n",
      " \n",
      "Normality test for \"gvm\" metric for group \"c\".\n",
      "Statistics=0.996, p=0.005\n",
      "Sample does not look Gaussian (reject H0)\n",
      " \n"
     ]
    }
   ],
   "source": [
    "def shapiro_wilk_test(data, alpha=0.05):\n",
    "    # normality test\n",
    "    stat, p = shapiro(data)\n",
    "    print('Statistics=%.3f, p=%.3f' % (stat, p))\n",
    "    # interpret\n",
    "    if p > alpha:\n",
    "        print('Sample looks Gaussian (fail to reject H0)')\n",
    "    else:\n",
    "        print('Sample does not look Gaussian (reject H0)')\n",
    "    return p\n",
    "\n",
    "\n",
    "for s in ['a', 'b', 'c']:\n",
    "    print(f'Normality test for \"ctr\" metric for group \"{s}\".')\n",
    "    shapiro_wilk_test(ctr_[s]['ctr'], alpha=0.01)\n",
    "    print(' ')\n",
    "for s in ['a', 'b', 'c']:\n",
    "    print(f'Normality test for \"purchase_rate\" metric for group \"{s}\".')\n",
    "    shapiro_wilk_test(purchase_rate_[s]['purchase_rate'], alpha=0.01)\n",
    "    print(' ')\n",
    "for s in ['a', 'b', 'c']:\n",
    "    print(f'Normality test for \"gvm\" metric for group \"{s}\".')\n",
    "    shapiro_wilk_test(gvm_[s], alpha=0.01)\n",
    "    print(' ')"
   ]
  },
  {
   "cell_type": "markdown",
   "metadata": {},
   "source": [
    "В целом почти все метрики распределены нормально. Проведем тесты гипотез на равенство выборок метрик между группами."
   ]
  },
  {
   "cell_type": "code",
   "execution_count": 74,
   "metadata": {},
   "outputs": [
    {
     "name": "stdout",
     "output_type": "stream",
     "text": [
      "тест на равенство метрики \"ctr\" между группами \"a\" и \"с\"\n",
      "Statistics=17.443, p=0.000\n",
      "Different distributions (reject H0)\n",
      " \n",
      "тест на равенство метрики \"purchase_rate\" между группами \"a\" и \"с\"\n",
      "Statistics=29.990, p=0.000\n",
      "Different distributions (reject H0)\n",
      " \n",
      "тест на равенство метрики gvm\" между группами \"a\" и \"с\"\n",
      "Statistics=26.320, p=0.000\n",
      "Different distributions (reject H0)\n"
     ]
    }
   ],
   "source": [
    "# Student's t-test\n",
    "from scipy.stats import ttest_ind\n",
    "\n",
    "\n",
    "def t_test(data1, data2, alpha=0.05):\n",
    "\n",
    "    # compare samples\n",
    "    stat, p = ttest_ind(data1, data2)\n",
    "    print('Statistics=%.3f, p=%.3f' % (stat, p))\n",
    "    # interpret\n",
    "    if p > alpha:\n",
    "        print('Same distributions (fail to reject H0)')\n",
    "    else:\n",
    "        print('Different distributions (reject H0)')\n",
    "\n",
    "\n",
    "print('тест на равенство метрики \"ctr\" между группами \"a\" и \"с\"')\n",
    "t_test(ctr_['c']['ctr'], ctr_['a']['ctr'])\n",
    "print(' ')\n",
    "print('тест на равенство метрики \"purchase_rate\" между группами \"a\" и \"с\"')\n",
    "t_test(purchase_rate_['c']['purchase_rate'],\n",
    "       purchase_rate_['a']['purchase_rate'])\n",
    "print(' ')\n",
    "print('тест на равенство метрики gvm\" между группами \"a\" и \"с\"')\n",
    "t_test(gvm_['c'], gvm_['a'])"
   ]
  },
  {
   "cell_type": "markdown",
   "metadata": {},
   "source": [
    "#### Результаты A/A теста оказались неутешительными, где-то что-то сработало не так или юзеры были неправильно отобраны и метрики не прошли гипотезу о равенстве  в группах a и c. Видимо это и имелось ввиду под термином \"разъезжание сплитов\"..."
   ]
  },
  {
   "cell_type": "code",
   "execution_count": 77,
   "metadata": {},
   "outputs": [
    {
     "name": "stdout",
     "output_type": "stream",
     "text": [
      "тест на равенство метрики \"ctr\" между группами \"a\" и \"b\"\n",
      "Statistics=-70.752, p=0.000\n",
      "Different distributions (reject H0)\n",
      " \n",
      "тест на равенство метрики \"purchase_rate\" между группами \"a\" и \"b\"\n",
      "Statistics=130.251, p=0.000\n",
      "Different distributions (reject H0)\n",
      " \n",
      "тест на равенство метрики gvm\" между группами \"a\" и \"b\"\n",
      "Statistics=115.508, p=0.000\n",
      "Different distributions (reject H0)\n"
     ]
    }
   ],
   "source": [
    "print('тест на равенство метрики \"ctr\" между группами \"a\" и \"b\"')\n",
    "t_test(ctr_['b']['ctr'], ctr_['a']['ctr'])\n",
    "print(' ')\n",
    "print('тест на равенство метрики \"purchase_rate\" между группами \"a\" и \"b\"')\n",
    "t_test(purchase_rate_['b']['purchase_rate'],\n",
    "       purchase_rate_['a']['purchase_rate'])\n",
    "print(' ')\n",
    "print('тест на равенство метрики gvm\" между группами \"a\" и \"b\"')\n",
    "t_test(gvm_['b'], gvm_['a'])"
   ]
  },
  {
   "cell_type": "code",
   "execution_count": 79,
   "metadata": {},
   "outputs": [
    {
     "name": "stdout",
     "output_type": "stream",
     "text": [
      "тест на равенство метрики \"ctr\" между группами \"с\" и \"b\"\n",
      "Statistics=-90.106, p=0.000\n",
      "Different distributions (reject H0)\n",
      " \n",
      "тест на равенство метрики \"purchase_rate\" между группами \"с\" и \"b\"\n",
      "Statistics=101.146, p=0.000\n",
      "Different distributions (reject H0)\n",
      " \n",
      "тест на равенство метрики gvm\" между группами \"с\" и \"b\"\n",
      "Statistics=89.387, p=0.000\n",
      "Different distributions (reject H0)\n"
     ]
    }
   ],
   "source": [
    "print('тест на равенство метрики \"ctr\" между группами \"с\" и \"b\"')\n",
    "t_test(ctr_['b']['ctr'], ctr_['c']['ctr'])\n",
    "print(' ')\n",
    "print('тест на равенство метрики \"purchase_rate\" между группами \"с\" и \"b\"')\n",
    "t_test(purchase_rate_['b']['purchase_rate'],\n",
    "       purchase_rate_['c']['purchase_rate'])\n",
    "print(' ')\n",
    "print('тест на равенство метрики gvm\" между группами \"с\" и \"b\"')\n",
    "t_test(gvm_['b'], gvm_['c'])"
   ]
  },
  {
   "cell_type": "markdown",
   "metadata": {},
   "source": [
    "#### Тем не менее различия между группами a и b, а также между c и b очень существенные (видны как на гистограммах, так и по значениям статистик) даже с учетом \"провального\" A/A теста. На мой взгляд алгоритм B даже очень улучшает работу маркетплейса."
   ]
  },
  {
   "cell_type": "code",
   "execution_count": null,
   "metadata": {},
   "outputs": [],
   "source": []
  }
 ],
 "metadata": {
  "kernelspec": {
   "display_name": "Python 3",
   "language": "python",
   "name": "python3"
  },
  "language_info": {
   "codemirror_mode": {
    "name": "ipython",
    "version": 3
   },
   "file_extension": ".py",
   "mimetype": "text/x-python",
   "name": "python",
   "nbconvert_exporter": "python",
   "pygments_lexer": "ipython3",
   "version": "3.7.6"
  }
 },
 "nbformat": 4,
 "nbformat_minor": 4
}
