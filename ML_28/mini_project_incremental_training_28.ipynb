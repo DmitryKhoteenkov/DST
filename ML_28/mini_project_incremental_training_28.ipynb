{
 "cells": [
  {
   "cell_type": "markdown",
   "metadata": {},
   "source": [
    "В данном проекте удалось реализовать дообучающуюся модель, а также установить и запустить все необходимые интсрументы мониторинга (graphite, graphana, node_exporter, prometheus).\n",
    "Однако, отправить метрику в graphite и тем более через node exporter в promethteus не удалось, несмотря на попытки решить вопрос в Slack.\n"
   ]
  },
  {
   "cell_type": "markdown",
   "metadata": {
    "_kg_hide-output": true,
    "execution": {
     "iopub.execute_input": "2022-08-28T20:02:05.428431Z",
     "iopub.status.busy": "2022-08-28T20:02:05.427959Z",
     "iopub.status.idle": "2022-08-28T20:02:16.235351Z",
     "shell.execute_reply": "2022-08-28T20:02:16.234283Z",
     "shell.execute_reply.started": "2022-08-28T20:02:05.428393Z"
    }
   },
   "source": [
    "### 1. Preparing the wine-quality prediction model"
   ]
  },
  {
   "cell_type": "code",
   "execution_count": 96,
   "metadata": {
    "execution": {
     "iopub.execute_input": "2022-08-28T20:02:16.237412Z",
     "iopub.status.busy": "2022-08-28T20:02:16.237065Z",
     "iopub.status.idle": "2022-08-28T20:02:16.250461Z",
     "shell.execute_reply": "2022-08-28T20:02:16.249361Z",
     "shell.execute_reply.started": "2022-08-28T20:02:16.237376Z"
    }
   },
   "outputs": [],
   "source": [
    "#Importing required packages.\n",
    "import pandas as pd\n",
    "import seaborn as sns\n",
    "import numpy as np\n",
    "import matplotlib.pyplot as plt\n",
    "\n",
    "\n",
    "from catboost import CatBoostClassifier\n",
    "import warnings\n",
    "warnings.filterwarnings('ignore')\n",
    "\n",
    "from collections import Counter\n",
    "\n",
    "# from sklearn.svm import SVC\n",
    "# from sklearn.neighbors import KNeighborsClassifier\n",
    "# from sklearn.linear_model import LogisticRegression\n",
    "from sklearn.metrics import confusion_matrix, classification_report,accuracy_score\n",
    "from sklearn.preprocessing import StandardScaler, LabelEncoder\n",
    "from sklearn.model_selection import train_test_split, GridSearchCV, cross_val_score\n",
    "%matplotlib inline\n",
    "\n",
    "# Ignoring Unnecessary warnings\n",
    "import warnings\n",
    "warnings.filterwarnings(\"ignore\")\n",
    "\n",
    "from sklearn.model_selection import train_test_split\n",
    "from sklearn.utils import shuffle\n",
    "from sklearn.metrics import f1_score, precision_score, recall_score\n",
    "import joblib\n",
    "import pandas as pd\n",
    "import numpy as np\n",
    "RANDOM_SEED = 42"
   ]
  },
  {
   "cell_type": "code",
   "execution_count": 74,
   "metadata": {
    "execution": {
     "iopub.execute_input": "2022-08-28T20:02:16.252273Z",
     "iopub.status.busy": "2022-08-28T20:02:16.251921Z",
     "iopub.status.idle": "2022-08-28T20:02:16.281354Z",
     "shell.execute_reply": "2022-08-28T20:02:16.280405Z",
     "shell.execute_reply.started": "2022-08-28T20:02:16.252242Z"
    }
   },
   "outputs": [],
   "source": [
    "df = pd.read_csv('winequality-red.csv', sep=';')"
   ]
  },
  {
   "cell_type": "code",
   "execution_count": 75,
   "metadata": {
    "execution": {
     "iopub.execute_input": "2022-08-28T20:02:16.286682Z",
     "iopub.status.busy": "2022-08-28T20:02:16.286289Z",
     "iopub.status.idle": "2022-08-28T20:02:16.313476Z",
     "shell.execute_reply": "2022-08-28T20:02:16.312324Z",
     "shell.execute_reply.started": "2022-08-28T20:02:16.286639Z"
    }
   },
   "outputs": [
    {
     "data": {
      "text/html": [
       "<div>\n",
       "<style scoped>\n",
       "    .dataframe tbody tr th:only-of-type {\n",
       "        vertical-align: middle;\n",
       "    }\n",
       "\n",
       "    .dataframe tbody tr th {\n",
       "        vertical-align: top;\n",
       "    }\n",
       "\n",
       "    .dataframe thead th {\n",
       "        text-align: right;\n",
       "    }\n",
       "</style>\n",
       "<table border=\"1\" class=\"dataframe\">\n",
       "  <thead>\n",
       "    <tr style=\"text-align: right;\">\n",
       "      <th></th>\n",
       "      <th>fixed acidity</th>\n",
       "      <th>volatile acidity</th>\n",
       "      <th>citric acid</th>\n",
       "      <th>residual sugar</th>\n",
       "      <th>chlorides</th>\n",
       "      <th>free sulfur dioxide</th>\n",
       "      <th>total sulfur dioxide</th>\n",
       "      <th>density</th>\n",
       "      <th>pH</th>\n",
       "      <th>sulphates</th>\n",
       "      <th>alcohol</th>\n",
       "      <th>quality</th>\n",
       "    </tr>\n",
       "  </thead>\n",
       "  <tbody>\n",
       "    <tr>\n",
       "      <th>0</th>\n",
       "      <td>7.4</td>\n",
       "      <td>0.70</td>\n",
       "      <td>0.00</td>\n",
       "      <td>1.9</td>\n",
       "      <td>0.076</td>\n",
       "      <td>11.0</td>\n",
       "      <td>34.0</td>\n",
       "      <td>0.9978</td>\n",
       "      <td>3.51</td>\n",
       "      <td>0.56</td>\n",
       "      <td>9.4</td>\n",
       "      <td>5</td>\n",
       "    </tr>\n",
       "    <tr>\n",
       "      <th>1</th>\n",
       "      <td>7.8</td>\n",
       "      <td>0.88</td>\n",
       "      <td>0.00</td>\n",
       "      <td>2.6</td>\n",
       "      <td>0.098</td>\n",
       "      <td>25.0</td>\n",
       "      <td>67.0</td>\n",
       "      <td>0.9968</td>\n",
       "      <td>3.20</td>\n",
       "      <td>0.68</td>\n",
       "      <td>9.8</td>\n",
       "      <td>5</td>\n",
       "    </tr>\n",
       "    <tr>\n",
       "      <th>2</th>\n",
       "      <td>7.8</td>\n",
       "      <td>0.76</td>\n",
       "      <td>0.04</td>\n",
       "      <td>2.3</td>\n",
       "      <td>0.092</td>\n",
       "      <td>15.0</td>\n",
       "      <td>54.0</td>\n",
       "      <td>0.9970</td>\n",
       "      <td>3.26</td>\n",
       "      <td>0.65</td>\n",
       "      <td>9.8</td>\n",
       "      <td>5</td>\n",
       "    </tr>\n",
       "    <tr>\n",
       "      <th>3</th>\n",
       "      <td>11.2</td>\n",
       "      <td>0.28</td>\n",
       "      <td>0.56</td>\n",
       "      <td>1.9</td>\n",
       "      <td>0.075</td>\n",
       "      <td>17.0</td>\n",
       "      <td>60.0</td>\n",
       "      <td>0.9980</td>\n",
       "      <td>3.16</td>\n",
       "      <td>0.58</td>\n",
       "      <td>9.8</td>\n",
       "      <td>6</td>\n",
       "    </tr>\n",
       "    <tr>\n",
       "      <th>4</th>\n",
       "      <td>7.4</td>\n",
       "      <td>0.70</td>\n",
       "      <td>0.00</td>\n",
       "      <td>1.9</td>\n",
       "      <td>0.076</td>\n",
       "      <td>11.0</td>\n",
       "      <td>34.0</td>\n",
       "      <td>0.9978</td>\n",
       "      <td>3.51</td>\n",
       "      <td>0.56</td>\n",
       "      <td>9.4</td>\n",
       "      <td>5</td>\n",
       "    </tr>\n",
       "    <tr>\n",
       "      <th>5</th>\n",
       "      <td>7.4</td>\n",
       "      <td>0.66</td>\n",
       "      <td>0.00</td>\n",
       "      <td>1.8</td>\n",
       "      <td>0.075</td>\n",
       "      <td>13.0</td>\n",
       "      <td>40.0</td>\n",
       "      <td>0.9978</td>\n",
       "      <td>3.51</td>\n",
       "      <td>0.56</td>\n",
       "      <td>9.4</td>\n",
       "      <td>5</td>\n",
       "    </tr>\n",
       "    <tr>\n",
       "      <th>6</th>\n",
       "      <td>7.9</td>\n",
       "      <td>0.60</td>\n",
       "      <td>0.06</td>\n",
       "      <td>1.6</td>\n",
       "      <td>0.069</td>\n",
       "      <td>15.0</td>\n",
       "      <td>59.0</td>\n",
       "      <td>0.9964</td>\n",
       "      <td>3.30</td>\n",
       "      <td>0.46</td>\n",
       "      <td>9.4</td>\n",
       "      <td>5</td>\n",
       "    </tr>\n",
       "    <tr>\n",
       "      <th>7</th>\n",
       "      <td>7.3</td>\n",
       "      <td>0.65</td>\n",
       "      <td>0.00</td>\n",
       "      <td>1.2</td>\n",
       "      <td>0.065</td>\n",
       "      <td>15.0</td>\n",
       "      <td>21.0</td>\n",
       "      <td>0.9946</td>\n",
       "      <td>3.39</td>\n",
       "      <td>0.47</td>\n",
       "      <td>10.0</td>\n",
       "      <td>7</td>\n",
       "    </tr>\n",
       "    <tr>\n",
       "      <th>8</th>\n",
       "      <td>7.8</td>\n",
       "      <td>0.58</td>\n",
       "      <td>0.02</td>\n",
       "      <td>2.0</td>\n",
       "      <td>0.073</td>\n",
       "      <td>9.0</td>\n",
       "      <td>18.0</td>\n",
       "      <td>0.9968</td>\n",
       "      <td>3.36</td>\n",
       "      <td>0.57</td>\n",
       "      <td>9.5</td>\n",
       "      <td>7</td>\n",
       "    </tr>\n",
       "    <tr>\n",
       "      <th>9</th>\n",
       "      <td>7.5</td>\n",
       "      <td>0.50</td>\n",
       "      <td>0.36</td>\n",
       "      <td>6.1</td>\n",
       "      <td>0.071</td>\n",
       "      <td>17.0</td>\n",
       "      <td>102.0</td>\n",
       "      <td>0.9978</td>\n",
       "      <td>3.35</td>\n",
       "      <td>0.80</td>\n",
       "      <td>10.5</td>\n",
       "      <td>5</td>\n",
       "    </tr>\n",
       "  </tbody>\n",
       "</table>\n",
       "</div>"
      ],
      "text/plain": [
       "   fixed acidity  volatile acidity  citric acid  residual sugar  chlorides  \\\n",
       "0            7.4              0.70         0.00             1.9      0.076   \n",
       "1            7.8              0.88         0.00             2.6      0.098   \n",
       "2            7.8              0.76         0.04             2.3      0.092   \n",
       "3           11.2              0.28         0.56             1.9      0.075   \n",
       "4            7.4              0.70         0.00             1.9      0.076   \n",
       "5            7.4              0.66         0.00             1.8      0.075   \n",
       "6            7.9              0.60         0.06             1.6      0.069   \n",
       "7            7.3              0.65         0.00             1.2      0.065   \n",
       "8            7.8              0.58         0.02             2.0      0.073   \n",
       "9            7.5              0.50         0.36             6.1      0.071   \n",
       "\n",
       "   free sulfur dioxide  total sulfur dioxide  density    pH  sulphates  \\\n",
       "0                 11.0                  34.0   0.9978  3.51       0.56   \n",
       "1                 25.0                  67.0   0.9968  3.20       0.68   \n",
       "2                 15.0                  54.0   0.9970  3.26       0.65   \n",
       "3                 17.0                  60.0   0.9980  3.16       0.58   \n",
       "4                 11.0                  34.0   0.9978  3.51       0.56   \n",
       "5                 13.0                  40.0   0.9978  3.51       0.56   \n",
       "6                 15.0                  59.0   0.9964  3.30       0.46   \n",
       "7                 15.0                  21.0   0.9946  3.39       0.47   \n",
       "8                  9.0                  18.0   0.9968  3.36       0.57   \n",
       "9                 17.0                 102.0   0.9978  3.35       0.80   \n",
       "\n",
       "   alcohol  quality  \n",
       "0      9.4        5  \n",
       "1      9.8        5  \n",
       "2      9.8        5  \n",
       "3      9.8        6  \n",
       "4      9.4        5  \n",
       "5      9.4        5  \n",
       "6      9.4        5  \n",
       "7     10.0        7  \n",
       "8      9.5        7  \n",
       "9     10.5        5  "
      ]
     },
     "execution_count": 75,
     "metadata": {},
     "output_type": "execute_result"
    }
   ],
   "source": [
    "df.head(10)"
   ]
  },
  {
   "cell_type": "code",
   "execution_count": 76,
   "metadata": {
    "execution": {
     "iopub.execute_input": "2022-08-28T20:02:16.315007Z",
     "iopub.status.busy": "2022-08-28T20:02:16.314691Z",
     "iopub.status.idle": "2022-08-28T20:02:16.321259Z",
     "shell.execute_reply": "2022-08-28T20:02:16.320362Z",
     "shell.execute_reply.started": "2022-08-28T20:02:16.314978Z"
    }
   },
   "outputs": [
    {
     "data": {
      "text/plain": [
       "(1599, 12)"
      ]
     },
     "execution_count": 76,
     "metadata": {},
     "output_type": "execute_result"
    }
   ],
   "source": [
    "df.shape"
   ]
  },
  {
   "cell_type": "code",
   "execution_count": 77,
   "metadata": {
    "execution": {
     "iopub.execute_input": "2022-08-28T20:02:16.323152Z",
     "iopub.status.busy": "2022-08-28T20:02:16.322292Z",
     "iopub.status.idle": "2022-08-28T20:02:16.342424Z",
     "shell.execute_reply": "2022-08-28T20:02:16.341277Z",
     "shell.execute_reply.started": "2022-08-28T20:02:16.323117Z"
    }
   },
   "outputs": [
    {
     "name": "stdout",
     "output_type": "stream",
     "text": [
      "<class 'pandas.core.frame.DataFrame'>\n",
      "RangeIndex: 1599 entries, 0 to 1598\n",
      "Data columns (total 12 columns):\n",
      " #   Column                Non-Null Count  Dtype  \n",
      "---  ------                --------------  -----  \n",
      " 0   fixed acidity         1599 non-null   float64\n",
      " 1   volatile acidity      1599 non-null   float64\n",
      " 2   citric acid           1599 non-null   float64\n",
      " 3   residual sugar        1599 non-null   float64\n",
      " 4   chlorides             1599 non-null   float64\n",
      " 5   free sulfur dioxide   1599 non-null   float64\n",
      " 6   total sulfur dioxide  1599 non-null   float64\n",
      " 7   density               1599 non-null   float64\n",
      " 8   pH                    1599 non-null   float64\n",
      " 9   sulphates             1599 non-null   float64\n",
      " 10  alcohol               1599 non-null   float64\n",
      " 11  quality               1599 non-null   int64  \n",
      "dtypes: float64(11), int64(1)\n",
      "memory usage: 150.0 KB\n"
     ]
    }
   ],
   "source": [
    "df.info()"
   ]
  },
  {
   "cell_type": "code",
   "execution_count": 78,
   "metadata": {},
   "outputs": [
    {
     "data": {
      "text/html": [
       "<div>\n",
       "<style scoped>\n",
       "    .dataframe tbody tr th:only-of-type {\n",
       "        vertical-align: middle;\n",
       "    }\n",
       "\n",
       "    .dataframe tbody tr th {\n",
       "        vertical-align: top;\n",
       "    }\n",
       "\n",
       "    .dataframe thead th {\n",
       "        text-align: right;\n",
       "    }\n",
       "</style>\n",
       "<table border=\"1\" class=\"dataframe\">\n",
       "  <thead>\n",
       "    <tr style=\"text-align: right;\">\n",
       "      <th></th>\n",
       "      <th>fixed acidity</th>\n",
       "      <th>volatile acidity</th>\n",
       "      <th>citric acid</th>\n",
       "      <th>residual sugar</th>\n",
       "      <th>chlorides</th>\n",
       "      <th>free sulfur dioxide</th>\n",
       "      <th>total sulfur dioxide</th>\n",
       "      <th>density</th>\n",
       "      <th>pH</th>\n",
       "      <th>sulphates</th>\n",
       "      <th>alcohol</th>\n",
       "      <th>quality</th>\n",
       "    </tr>\n",
       "  </thead>\n",
       "  <tbody>\n",
       "    <tr>\n",
       "      <th>count</th>\n",
       "      <td>1599.000000</td>\n",
       "      <td>1599.000000</td>\n",
       "      <td>1599.000000</td>\n",
       "      <td>1599.000000</td>\n",
       "      <td>1599.000000</td>\n",
       "      <td>1599.000000</td>\n",
       "      <td>1599.000000</td>\n",
       "      <td>1599.000000</td>\n",
       "      <td>1599.000000</td>\n",
       "      <td>1599.000000</td>\n",
       "      <td>1599.000000</td>\n",
       "      <td>1599.000000</td>\n",
       "    </tr>\n",
       "    <tr>\n",
       "      <th>mean</th>\n",
       "      <td>8.319637</td>\n",
       "      <td>0.527821</td>\n",
       "      <td>0.270976</td>\n",
       "      <td>2.538806</td>\n",
       "      <td>0.087467</td>\n",
       "      <td>15.874922</td>\n",
       "      <td>46.467792</td>\n",
       "      <td>0.996747</td>\n",
       "      <td>3.311113</td>\n",
       "      <td>0.658149</td>\n",
       "      <td>10.422983</td>\n",
       "      <td>5.636023</td>\n",
       "    </tr>\n",
       "    <tr>\n",
       "      <th>std</th>\n",
       "      <td>1.741096</td>\n",
       "      <td>0.179060</td>\n",
       "      <td>0.194801</td>\n",
       "      <td>1.409928</td>\n",
       "      <td>0.047065</td>\n",
       "      <td>10.460157</td>\n",
       "      <td>32.895324</td>\n",
       "      <td>0.001887</td>\n",
       "      <td>0.154386</td>\n",
       "      <td>0.169507</td>\n",
       "      <td>1.065668</td>\n",
       "      <td>0.807569</td>\n",
       "    </tr>\n",
       "    <tr>\n",
       "      <th>min</th>\n",
       "      <td>4.600000</td>\n",
       "      <td>0.120000</td>\n",
       "      <td>0.000000</td>\n",
       "      <td>0.900000</td>\n",
       "      <td>0.012000</td>\n",
       "      <td>1.000000</td>\n",
       "      <td>6.000000</td>\n",
       "      <td>0.990070</td>\n",
       "      <td>2.740000</td>\n",
       "      <td>0.330000</td>\n",
       "      <td>8.400000</td>\n",
       "      <td>3.000000</td>\n",
       "    </tr>\n",
       "    <tr>\n",
       "      <th>25%</th>\n",
       "      <td>7.100000</td>\n",
       "      <td>0.390000</td>\n",
       "      <td>0.090000</td>\n",
       "      <td>1.900000</td>\n",
       "      <td>0.070000</td>\n",
       "      <td>7.000000</td>\n",
       "      <td>22.000000</td>\n",
       "      <td>0.995600</td>\n",
       "      <td>3.210000</td>\n",
       "      <td>0.550000</td>\n",
       "      <td>9.500000</td>\n",
       "      <td>5.000000</td>\n",
       "    </tr>\n",
       "    <tr>\n",
       "      <th>50%</th>\n",
       "      <td>7.900000</td>\n",
       "      <td>0.520000</td>\n",
       "      <td>0.260000</td>\n",
       "      <td>2.200000</td>\n",
       "      <td>0.079000</td>\n",
       "      <td>14.000000</td>\n",
       "      <td>38.000000</td>\n",
       "      <td>0.996750</td>\n",
       "      <td>3.310000</td>\n",
       "      <td>0.620000</td>\n",
       "      <td>10.200000</td>\n",
       "      <td>6.000000</td>\n",
       "    </tr>\n",
       "    <tr>\n",
       "      <th>75%</th>\n",
       "      <td>9.200000</td>\n",
       "      <td>0.640000</td>\n",
       "      <td>0.420000</td>\n",
       "      <td>2.600000</td>\n",
       "      <td>0.090000</td>\n",
       "      <td>21.000000</td>\n",
       "      <td>62.000000</td>\n",
       "      <td>0.997835</td>\n",
       "      <td>3.400000</td>\n",
       "      <td>0.730000</td>\n",
       "      <td>11.100000</td>\n",
       "      <td>6.000000</td>\n",
       "    </tr>\n",
       "    <tr>\n",
       "      <th>max</th>\n",
       "      <td>15.900000</td>\n",
       "      <td>1.580000</td>\n",
       "      <td>1.000000</td>\n",
       "      <td>15.500000</td>\n",
       "      <td>0.611000</td>\n",
       "      <td>72.000000</td>\n",
       "      <td>289.000000</td>\n",
       "      <td>1.003690</td>\n",
       "      <td>4.010000</td>\n",
       "      <td>2.000000</td>\n",
       "      <td>14.900000</td>\n",
       "      <td>8.000000</td>\n",
       "    </tr>\n",
       "  </tbody>\n",
       "</table>\n",
       "</div>"
      ],
      "text/plain": [
       "       fixed acidity  volatile acidity  citric acid  residual sugar  \\\n",
       "count    1599.000000       1599.000000  1599.000000     1599.000000   \n",
       "mean        8.319637          0.527821     0.270976        2.538806   \n",
       "std         1.741096          0.179060     0.194801        1.409928   \n",
       "min         4.600000          0.120000     0.000000        0.900000   \n",
       "25%         7.100000          0.390000     0.090000        1.900000   \n",
       "50%         7.900000          0.520000     0.260000        2.200000   \n",
       "75%         9.200000          0.640000     0.420000        2.600000   \n",
       "max        15.900000          1.580000     1.000000       15.500000   \n",
       "\n",
       "         chlorides  free sulfur dioxide  total sulfur dioxide      density  \\\n",
       "count  1599.000000          1599.000000           1599.000000  1599.000000   \n",
       "mean      0.087467            15.874922             46.467792     0.996747   \n",
       "std       0.047065            10.460157             32.895324     0.001887   \n",
       "min       0.012000             1.000000              6.000000     0.990070   \n",
       "25%       0.070000             7.000000             22.000000     0.995600   \n",
       "50%       0.079000            14.000000             38.000000     0.996750   \n",
       "75%       0.090000            21.000000             62.000000     0.997835   \n",
       "max       0.611000            72.000000            289.000000     1.003690   \n",
       "\n",
       "                pH    sulphates      alcohol      quality  \n",
       "count  1599.000000  1599.000000  1599.000000  1599.000000  \n",
       "mean      3.311113     0.658149    10.422983     5.636023  \n",
       "std       0.154386     0.169507     1.065668     0.807569  \n",
       "min       2.740000     0.330000     8.400000     3.000000  \n",
       "25%       3.210000     0.550000     9.500000     5.000000  \n",
       "50%       3.310000     0.620000    10.200000     6.000000  \n",
       "75%       3.400000     0.730000    11.100000     6.000000  \n",
       "max       4.010000     2.000000    14.900000     8.000000  "
      ]
     },
     "execution_count": 78,
     "metadata": {},
     "output_type": "execute_result"
    }
   ],
   "source": [
    "df.describe()"
   ]
  },
  {
   "cell_type": "code",
   "execution_count": 79,
   "metadata": {
    "execution": {
     "iopub.execute_input": "2022-08-28T20:02:16.344367Z",
     "iopub.status.busy": "2022-08-28T20:02:16.343651Z",
     "iopub.status.idle": "2022-08-28T20:02:16.355305Z",
     "shell.execute_reply": "2022-08-28T20:02:16.354114Z",
     "shell.execute_reply.started": "2022-08-28T20:02:16.344334Z"
    }
   },
   "outputs": [
    {
     "data": {
      "text/plain": [
       "5    681\n",
       "6    638\n",
       "7    199\n",
       "4     53\n",
       "8     18\n",
       "3     10\n",
       "Name: quality, dtype: int64"
      ]
     },
     "execution_count": 79,
     "metadata": {},
     "output_type": "execute_result"
    }
   ],
   "source": [
    "df.quality.value_counts()"
   ]
  },
  {
   "cell_type": "code",
   "execution_count": 80,
   "metadata": {
    "execution": {
     "iopub.execute_input": "2022-08-28T20:02:28.31614Z",
     "iopub.status.busy": "2022-08-28T20:02:28.315408Z",
     "iopub.status.idle": "2022-08-28T20:02:28.323201Z",
     "shell.execute_reply": "2022-08-28T20:02:28.322261Z",
     "shell.execute_reply.started": "2022-08-28T20:02:28.316094Z"
    }
   },
   "outputs": [
    {
     "data": {
      "text/plain": [
       "Index(['fixed acidity', 'volatile acidity', 'citric acid', 'residual sugar',\n",
       "       'chlorides', 'free sulfur dioxide', 'total sulfur dioxide', 'density',\n",
       "       'pH', 'sulphates', 'alcohol', 'quality'],\n",
       "      dtype='object')"
      ]
     },
     "execution_count": 80,
     "metadata": {},
     "output_type": "execute_result"
    }
   ],
   "source": [
    "df.columns"
   ]
  },
  {
   "cell_type": "code",
   "execution_count": 81,
   "metadata": {
    "execution": {
     "iopub.execute_input": "2022-08-28T20:02:30.330332Z",
     "iopub.status.busy": "2022-08-28T20:02:30.329855Z",
     "iopub.status.idle": "2022-08-28T20:02:30.33579Z",
     "shell.execute_reply": "2022-08-28T20:02:30.334608Z",
     "shell.execute_reply.started": "2022-08-28T20:02:30.330288Z"
    }
   },
   "outputs": [],
   "source": [
    "ncols = ['fixed acidity', 'volatile acidity', 'residual sugar',\n",
    "       'chlorides', 'free sulfur dioxide', 'pH','total sulfur dioxide',\n",
    "       'sulphates', 'alcohol']"
   ]
  },
  {
   "cell_type": "markdown",
   "metadata": {},
   "source": [
    "#### Let's examine the 'quality' column distribution and split it into 'good' and 'bad' classes"
   ]
  },
  {
   "cell_type": "code",
   "execution_count": 82,
   "metadata": {},
   "outputs": [
    {
     "data": {
      "text/plain": [
       "<matplotlib.axes._subplots.AxesSubplot at 0x1bc87288>"
      ]
     },
     "execution_count": 82,
     "metadata": {},
     "output_type": "execute_result"
    },
    {
     "data": {
      "image/png": "[encoded data removed]",
      "text/plain": [
       "<Figure size 432x288 with 1 Axes>"
      ]
     },
     "metadata": {
      "needs_background": "light"
     },
     "output_type": "display_data"
    }
   ],
   "source": [
    "df['quality'].hist()"
   ]
  },
  {
   "cell_type": "code",
   "execution_count": 83,
   "metadata": {
    "execution": {
     "iopub.execute_input": "2022-08-28T20:02:30.384475Z",
     "iopub.status.busy": "2022-08-28T20:02:30.383661Z",
     "iopub.status.idle": "2022-08-28T20:02:30.396027Z",
     "shell.execute_reply": "2022-08-28T20:02:30.394657Z",
     "shell.execute_reply.started": "2022-08-28T20:02:30.384442Z"
    }
   },
   "outputs": [],
   "source": [
    "# Consider quality 'good' if higher than 6 else 'bad'\n",
    "df['quality'] = df['quality'].apply(lambda x: 1 if x>6 else 0)"
   ]
  },
  {
   "cell_type": "code",
   "execution_count": 84,
   "metadata": {
    "execution": {
     "iopub.execute_input": "2022-08-28T20:02:30.425314Z",
     "iopub.status.busy": "2022-08-28T20:02:30.424368Z",
     "iopub.status.idle": "2022-08-28T20:02:30.435277Z",
     "shell.execute_reply": "2022-08-28T20:02:30.43404Z",
     "shell.execute_reply.started": "2022-08-28T20:02:30.425273Z"
    }
   },
   "outputs": [
    {
     "data": {
      "text/plain": [
       "0    1382\n",
       "1     217\n",
       "Name: quality, dtype: int64"
      ]
     },
     "execution_count": 84,
     "metadata": {},
     "output_type": "execute_result"
    }
   ],
   "source": [
    "df['quality'].value_counts()"
   ]
  },
  {
   "cell_type": "code",
   "execution_count": 85,
   "metadata": {
    "execution": {
     "iopub.execute_input": "2022-08-28T20:02:30.43738Z",
     "iopub.status.busy": "2022-08-28T20:02:30.436923Z",
     "iopub.status.idle": "2022-08-28T20:02:30.462059Z",
     "shell.execute_reply": "2022-08-28T20:02:30.460705Z",
     "shell.execute_reply.started": "2022-08-28T20:02:30.437326Z"
    }
   },
   "outputs": [
    {
     "data": {
      "text/html": [
       "<div>\n",
       "<style scoped>\n",
       "    .dataframe tbody tr th:only-of-type {\n",
       "        vertical-align: middle;\n",
       "    }\n",
       "\n",
       "    .dataframe tbody tr th {\n",
       "        vertical-align: top;\n",
       "    }\n",
       "\n",
       "    .dataframe thead th {\n",
       "        text-align: right;\n",
       "    }\n",
       "</style>\n",
       "<table border=\"1\" class=\"dataframe\">\n",
       "  <thead>\n",
       "    <tr style=\"text-align: right;\">\n",
       "      <th></th>\n",
       "      <th>fixed acidity</th>\n",
       "      <th>volatile acidity</th>\n",
       "      <th>citric acid</th>\n",
       "      <th>residual sugar</th>\n",
       "      <th>chlorides</th>\n",
       "      <th>free sulfur dioxide</th>\n",
       "      <th>total sulfur dioxide</th>\n",
       "      <th>density</th>\n",
       "      <th>pH</th>\n",
       "      <th>sulphates</th>\n",
       "      <th>alcohol</th>\n",
       "      <th>quality</th>\n",
       "    </tr>\n",
       "  </thead>\n",
       "  <tbody>\n",
       "    <tr>\n",
       "      <th>0</th>\n",
       "      <td>7.4</td>\n",
       "      <td>0.70</td>\n",
       "      <td>0.00</td>\n",
       "      <td>1.9</td>\n",
       "      <td>0.076</td>\n",
       "      <td>11.0</td>\n",
       "      <td>34.0</td>\n",
       "      <td>0.9978</td>\n",
       "      <td>3.51</td>\n",
       "      <td>0.56</td>\n",
       "      <td>9.4</td>\n",
       "      <td>0</td>\n",
       "    </tr>\n",
       "    <tr>\n",
       "      <th>1</th>\n",
       "      <td>7.8</td>\n",
       "      <td>0.88</td>\n",
       "      <td>0.00</td>\n",
       "      <td>2.6</td>\n",
       "      <td>0.098</td>\n",
       "      <td>25.0</td>\n",
       "      <td>67.0</td>\n",
       "      <td>0.9968</td>\n",
       "      <td>3.20</td>\n",
       "      <td>0.68</td>\n",
       "      <td>9.8</td>\n",
       "      <td>0</td>\n",
       "    </tr>\n",
       "    <tr>\n",
       "      <th>2</th>\n",
       "      <td>7.8</td>\n",
       "      <td>0.76</td>\n",
       "      <td>0.04</td>\n",
       "      <td>2.3</td>\n",
       "      <td>0.092</td>\n",
       "      <td>15.0</td>\n",
       "      <td>54.0</td>\n",
       "      <td>0.9970</td>\n",
       "      <td>3.26</td>\n",
       "      <td>0.65</td>\n",
       "      <td>9.8</td>\n",
       "      <td>0</td>\n",
       "    </tr>\n",
       "    <tr>\n",
       "      <th>3</th>\n",
       "      <td>11.2</td>\n",
       "      <td>0.28</td>\n",
       "      <td>0.56</td>\n",
       "      <td>1.9</td>\n",
       "      <td>0.075</td>\n",
       "      <td>17.0</td>\n",
       "      <td>60.0</td>\n",
       "      <td>0.9980</td>\n",
       "      <td>3.16</td>\n",
       "      <td>0.58</td>\n",
       "      <td>9.8</td>\n",
       "      <td>0</td>\n",
       "    </tr>\n",
       "    <tr>\n",
       "      <th>4</th>\n",
       "      <td>7.4</td>\n",
       "      <td>0.70</td>\n",
       "      <td>0.00</td>\n",
       "      <td>1.9</td>\n",
       "      <td>0.076</td>\n",
       "      <td>11.0</td>\n",
       "      <td>34.0</td>\n",
       "      <td>0.9978</td>\n",
       "      <td>3.51</td>\n",
       "      <td>0.56</td>\n",
       "      <td>9.4</td>\n",
       "      <td>0</td>\n",
       "    </tr>\n",
       "  </tbody>\n",
       "</table>\n",
       "</div>"
      ],
      "text/plain": [
       "   fixed acidity  volatile acidity  citric acid  residual sugar  chlorides  \\\n",
       "0            7.4              0.70         0.00             1.9      0.076   \n",
       "1            7.8              0.88         0.00             2.6      0.098   \n",
       "2            7.8              0.76         0.04             2.3      0.092   \n",
       "3           11.2              0.28         0.56             1.9      0.075   \n",
       "4            7.4              0.70         0.00             1.9      0.076   \n",
       "\n",
       "   free sulfur dioxide  total sulfur dioxide  density    pH  sulphates  \\\n",
       "0                 11.0                  34.0   0.9978  3.51       0.56   \n",
       "1                 25.0                  67.0   0.9968  3.20       0.68   \n",
       "2                 15.0                  54.0   0.9970  3.26       0.65   \n",
       "3                 17.0                  60.0   0.9980  3.16       0.58   \n",
       "4                 11.0                  34.0   0.9978  3.51       0.56   \n",
       "\n",
       "   alcohol  quality  \n",
       "0      9.4        0  \n",
       "1      9.8        0  \n",
       "2      9.8        0  \n",
       "3      9.8        0  \n",
       "4      9.4        0  "
      ]
     },
     "execution_count": 85,
     "metadata": {},
     "output_type": "execute_result"
    }
   ],
   "source": [
    "df.head()"
   ]
  },
  {
   "cell_type": "markdown",
   "metadata": {},
   "source": [
    "#### Let's separate into training and testing set"
   ]
  },
  {
   "cell_type": "code",
   "execution_count": 86,
   "metadata": {
    "execution": {
     "iopub.execute_input": "2022-08-28T20:02:30.465212Z",
     "iopub.status.busy": "2022-08-28T20:02:30.46393Z",
     "iopub.status.idle": "2022-08-28T20:02:30.48487Z",
     "shell.execute_reply": "2022-08-28T20:02:30.483658Z",
     "shell.execute_reply.started": "2022-08-28T20:02:30.465154Z"
    }
   },
   "outputs": [
    {
     "data": {
      "text/plain": [
       "((1119, 11), (480, 11))"
      ]
     },
     "execution_count": 86,
     "metadata": {},
     "output_type": "execute_result"
    }
   ],
   "source": [
    "\n",
    "X_train, X_test, y_train, y_test = train_test_split(df.drop('quality', axis=1),\n",
    "                                                    df['quality'],\n",
    "                                                    test_size=0.3,\n",
    "                                                    random_state=0)\n",
    "\n",
    "X_train.shape, X_test.shape"
   ]
  },
  {
   "cell_type": "markdown",
   "metadata": {},
   "source": [
    "#### The Catboostclassifier model is one of my favorite ML models and it shows good results here again"
   ]
  },
  {
   "cell_type": "code",
   "execution_count": 97,
   "metadata": {},
   "outputs": [
    {
     "name": "stdout",
     "output_type": "stream",
     "text": [
      "Learning rate set to 0.033675\n",
      "0:\tlearn: 0.6538118\ttest: 0.6538118\ttest1: 0.6524450\tbest: 0.6524450 (0)\ttotal: 2.18ms\tremaining: 2.17s\n",
      "100:\tlearn: 0.1941694\ttest: 0.1941694\ttest1: 0.2112946\tbest: 0.2112946 (100)\ttotal: 222ms\tremaining: 1.98s\n",
      "200:\tlearn: 0.1429035\ttest: 0.1429035\ttest1: 0.1918325\tbest: 0.1918325 (200)\ttotal: 433ms\tremaining: 1.72s\n",
      "300:\tlearn: 0.1085924\ttest: 0.1085924\ttest1: 0.1893394\tbest: 0.1876000 (274)\ttotal: 648ms\tremaining: 1.5s\n",
      "400:\tlearn: 0.0825222\ttest: 0.0825222\ttest1: 0.1871606\tbest: 0.1862417 (366)\ttotal: 859ms\tremaining: 1.28s\n",
      "500:\tlearn: 0.0621226\ttest: 0.0621226\ttest1: 0.1828669\tbest: 0.1828669 (500)\ttotal: 1.12s\tremaining: 1.11s\n",
      "600:\tlearn: 0.0476674\ttest: 0.0476674\ttest1: 0.1808225\tbest: 0.1796700 (574)\ttotal: 1.38s\tremaining: 915ms\n",
      "700:\tlearn: 0.0370640\ttest: 0.0370640\ttest1: 0.1789079\tbest: 0.1777696 (676)\ttotal: 1.61s\tremaining: 689ms\n",
      "800:\tlearn: 0.0298717\ttest: 0.0298717\ttest1: 0.1809889\tbest: 0.1777696 (676)\ttotal: 1.85s\tremaining: 460ms\n",
      "900:\tlearn: 0.0247734\ttest: 0.0247734\ttest1: 0.1847439\tbest: 0.1777696 (676)\ttotal: 2.07s\tremaining: 227ms\n",
      "999:\tlearn: 0.0210562\ttest: 0.0210562\ttest1: 0.1873312\tbest: 0.1777696 (676)\ttotal: 2.29s\tremaining: 0us\n",
      "\n",
      "bestTest = 0.1777696241\n",
      "bestIteration = 676\n",
      "\n",
      "Shrink model to first 677 iterations.\n",
      "{'learn': {'Logloss': 0.02105618659173821}, 'validation_0': {'Logloss': 0.02105618659173821}, 'validation_1': {'Logloss': 0.17776962405168173}}\n"
     ]
    }
   ],
   "source": [
    "def get_catboostclassifer_model(df, num_cols):\n",
    "\n",
    "    y = df['quality']\n",
    "    X = df[num_cols]\n",
    "    X_train, X_valid, y_train, y_valid = train_test_split(\n",
    "        X, y, test_size=0.20, random_state=RANDOM_SEED, shuffle=True, stratify = y)\n",
    "    cbc = CatBoostClassifier(n_estimators=1000, random_seed=RANDOM_SEED)\n",
    "    cbc.fit(X_train, y_train,\n",
    "             eval_set=[(X_train, y_train),\n",
    "                       (X_valid, y_valid)],\n",
    "             early_stopping_rounds=1000,\n",
    "             verbose_eval=100,\n",
    "             use_best_model=True)\n",
    "    y_pred = cbc.predict(X_valid)\n",
    "    acc = accuracy_score(y_valid, y_pred)\n",
    "    print(cbc.get_best_score())\n",
    "    return y_pred,y_valid,acc\n",
    "     \n",
    "y_pred,y_valid,acc = get_catboostclassifer_model(df,ncols)   \n",
    "\n"
   ]
  },
  {
   "cell_type": "code",
   "execution_count": 98,
   "metadata": {
    "execution": {
     "iopub.execute_input": "2022-08-28T20:02:47.180428Z",
     "iopub.status.busy": "2022-08-28T20:02:47.179599Z",
     "iopub.status.idle": "2022-08-28T20:02:47.190872Z",
     "shell.execute_reply": "2022-08-28T20:02:47.189751Z",
     "shell.execute_reply.started": "2022-08-28T20:02:47.180394Z"
    }
   },
   "outputs": [
    {
     "name": "stdout",
     "output_type": "stream",
     "text": [
      "Accuracy Score: 0.94375\n",
      "classification Report:\n",
      "               precision    recall  f1-score   support\n",
      "\n",
      "           0       0.98      0.95      0.97       285\n",
      "           1       0.70      0.86      0.77        35\n",
      "\n",
      "    accuracy                           0.94       320\n",
      "   macro avg       0.84      0.91      0.87       320\n",
      "weighted avg       0.95      0.94      0.95       320\n",
      "\n"
     ]
    }
   ],
   "source": [
    "print(\"Accuracy Score:\",accuracy_score(y_pred,y_valid))\n",
    "print(\"classification Report:\\n\",classification_report(y_pred,y_valid))"
   ]
  },
  {
   "cell_type": "code",
   "execution_count": 99,
   "metadata": {},
   "outputs": [
    {
     "data": {
      "image/png": "[encoded data removed]",
      "text/plain": [
       "<Figure size 288x288 with 1 Axes>"
      ]
     },
     "metadata": {
      "needs_background": "light"
     },
     "output_type": "display_data"
    }
   ],
   "source": [
    "cm = confusion_matrix(y_valid, y_pred)\n",
    "\n",
    "df1 = pd.DataFrame(columns=[\"Bad\",\"Good\"], index= [\"Bad\",\"Good\"], data= cm )\n",
    "\n",
    "f,ax = plt.subplots(figsize=(4,4))\n",
    "\n",
    "sns.heatmap(df1, annot=True,cmap=\"Reds\", fmt= '.0f',ax=ax,linewidths = 5, cbar = False)\n",
    "plt.xlabel(\"Predicted Label\")\n",
    "plt.xticks(size = 12)\n",
    "plt.yticks(size = 12, rotation = 0)\n",
    "plt.ylabel(\"True Label\")\n",
    "plt.title(\"Confusion Matrix\", size = 12)\n",
    "plt.show()"
   ]
  },
  {
   "cell_type": "markdown",
   "metadata": {},
   "source": [
    "### Incremental training"
   ]
  },
  {
   "cell_type": "code",
   "execution_count": 100,
   "metadata": {},
   "outputs": [],
   "source": [
    "def streaming_reading(X_train, y_train, batch_size=0.5*len(y_train)):\n",
    "    X = []\n",
    "    y = []\n",
    "    current_line = 0\n",
    "    train_data, train_label = shuffle(X_train, y_train, random_state=42)\n",
    "    train_data = train_data.to_numpy()\n",
    "    for row, target in zip(train_data, train_label):\n",
    "        X.append(row)\n",
    "        y.append(target)\n",
    "\n",
    "        current_line += 1\n",
    "        if current_line >= batch_size:\n",
    "            X, y = np.array(X), np.array(y)\n",
    "            print (y.shape,batch_size)\n",
    "            yield X, y\n",
    "            X, y = [], []\n",
    "            current_line = 0"
   ]
  },
  {
   "cell_type": "markdown",
   "metadata": {},
   "source": [
    "#### Using the CatBoostClassifier model"
   ]
  },
  {
   "cell_type": "code",
   "execution_count": 114,
   "metadata": {},
   "outputs": [],
   "source": [
    "def sending_score(score_):\n",
    "    # Отправка метрики в Graphite. \n",
    "    # Решить проблему передачи метрики в graphite не удалось. \n",
    "    # P.S.(обсуждалось в Slack в личной переписке с Леонидом К.)\n",
    "    # Также не удалось получить метрики от node_exporter в prometheus (вопрос поднимался в канале ml-06_prod-3)\n",
    "    # Поэтому предлагаю непротестированное решение здесь:\n",
    "    s = str(round(score_,3))\n",
    "    os.system(f'echo \"skillfactory.tutorial.accuracy_score {s} `date +%s`\" | nc localhost 2003')\n",
    "    return\n",
    "\n",
    "def Incremental_CBC(X, y):  \n",
    "    \n",
    "    RANDOM_SEED = 42\n",
    "    cbc = CatBoostClassifier(n_estimators=1000, random_seed=RANDOM_SEED)\n",
    "    streaming_train_iterators = streaming_reading(X, y, batch_size=620)\n",
    "  \n",
    "    for i, data in enumerate(streaming_train_iterators):\n",
    "        X_batch = data[0]\n",
    "        y_batch = data[1]\n",
    "        X_train, X_valid, y_train, y_valid = train_test_split(X_batch, y_batch, test_size=0.1, random_state=RANDOM_SEED,shuffle=True, stratify = y_batch)\n",
    "        y_train = y_train.ravel()\n",
    "        \n",
    "        if i<1:\n",
    "            model_ = None\n",
    "        else:\n",
    "            model_ = cbc\n",
    "            \n",
    "        cbc.fit(X_train, y_train,\n",
    "                 init_model=model_,\n",
    "             eval_set=[(X_train, y_train),\n",
    "                       (X_valid, y_valid)],\n",
    "             early_stopping_rounds=1000,\n",
    "             verbose = False,#verbose_eval=1000,\n",
    "             use_best_model=True)\n",
    "        y_pred = cbc.predict(X_valid)\n",
    "        acc = accuracy_score(y_valid, y_pred)\n",
    "        sending_score(acc)\n",
    "        print(f\"Accuracy Score after batch № {i}:\",acc)\n",
    "    return cbc\n",
    "\n"
   ]
  },
  {
   "cell_type": "markdown",
   "metadata": {},
   "source": [
    "### Incremental training simulation"
   ]
  },
  {
   "cell_type": "code",
   "execution_count": null,
   "metadata": {},
   "outputs": [],
   "source": [
    "X = df.drop('quality', axis = 1)\n",
    "y = df['quality']\n",
    "train_X, test_X, train_y, test_y = train_test_split(X, y, random_state=RANDOM_SEED, test_size = 0.2)"
   ]
  },
  {
   "cell_type": "markdown",
   "metadata": {},
   "source": [
    "Let's Immitate incremental training with 2 batches with length ~ 0.5* len(train_X) = 620."
   ]
  },
  {
   "cell_type": "code",
   "execution_count": 115,
   "metadata": {},
   "outputs": [
    {
     "name": "stdout",
     "output_type": "stream",
     "text": [
      "(620,) 620\n",
      "Accuracy Score after batch № 0: 0.9193548387096774\n",
      "(620,) 620\n",
      "Accuracy Score after batch № 1: 0.8709677419354839\n",
      "F1 score: 0.6\n",
      "------------------------------------------\n",
      "Precision: 0.627906976744186\n",
      "------------------------------------------\n",
      "Recall: 0.574468085106383\n"
     ]
    }
   ],
   "source": [
    "cbc = Incremental_CBC(train_X, train_y)\n",
    "pred_y = cbc.predict(test_X)\n",
    "\n",
    "pred_classes = np.where(pred_y > 0.5, 1, 0)\n",
    "print(f'F1 score: {f1_score(test_y, pred_classes)}')\n",
    "print('------------------------------------------')\n",
    "print(f'Precision: {precision_score(test_y, pred_classes)}')\n",
    "print('------------------------------------------')\n",
    "print(f'Recall: {recall_score(test_y, pred_classes)}')\n",
    "\n",
    "joblib.dump(cbc, 'wq_model.pkl')\n",
    "cbr = joblib.load('wq_model.pkl')"
   ]
  },
  {
   "cell_type": "code",
   "execution_count": null,
   "metadata": {},
   "outputs": [],
   "source": []
  }
 ],
 "metadata": {
  "kernelspec": {
   "display_name": "Python 3",
   "language": "python",
   "name": "python3"
  },
  "language_info": {
   "codemirror_mode": {
    "name": "ipython",
    "version": 3
   },
   "file_extension": ".py",
   "mimetype": "text/x-python",
   "name": "python",
   "nbconvert_exporter": "python",
   "pygments_lexer": "ipython3",
   "version": "3.7.6"
  }
 },
 "nbformat": 4,
 "nbformat_minor": 4
}
